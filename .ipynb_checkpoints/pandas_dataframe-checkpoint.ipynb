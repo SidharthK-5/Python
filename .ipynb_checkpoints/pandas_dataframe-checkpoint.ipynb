{
 "cells": [
  {
   "cell_type": "markdown",
   "id": "ea1e2127",
   "metadata": {},
   "source": [
    "### Pandas DataFrame"
   ]
  },
  {
   "cell_type": "markdown",
   "id": "6bab161e",
   "metadata": {},
   "source": [
    "Either from dictionary of lists, dictionaries series from a list of dictionaries"
   ]
  },
  {
   "cell_type": "markdown",
   "id": "52ebf90d",
   "metadata": {},
   "source": [
    "Dict keys will become col labels of Data Frame"
   ]
  },
  {
   "cell_type": "code",
   "execution_count": 1,
   "id": "f770fcbc",
   "metadata": {},
   "outputs": [],
   "source": [
    "import pandas as pd\n",
    "from pandas import Series, DataFrame\n",
    "import numpy as np"
   ]
  },
  {
   "cell_type": "code",
   "execution_count": 6,
   "id": "0aa02595",
   "metadata": {},
   "outputs": [
    {
     "name": "stdout",
     "output_type": "stream",
     "text": [
      "   Price  Sales\n",
      "0     19    600\n",
      "1     22    756\n",
      "2     13    587\n",
      "3     54    859\n",
      "4     65    990\n"
     ]
    }
   ],
   "source": [
    "d = {'Price': [19,22,13,54,65], 'Sales': [600,756,587,859,990]}\n",
    "frame = DataFrame(d)\n",
    "print(frame)"
   ]
  },
  {
   "cell_type": "code",
   "execution_count": 8,
   "id": "8a931431",
   "metadata": {},
   "outputs": [
    {
     "name": "stdout",
     "output_type": "stream",
     "text": [
      "    Price  Sales\n",
      "r1     19    600\n",
      "r2     22    756\n"
     ]
    }
   ],
   "source": [
    "# Dict within a dict - Outer dict keys will be col labels, inner dict keys will be indices\n",
    "d1 = {'Price': {'r1':19, 'r2':22}, 'Sales': {'r1':600, 'r2':756}}\n",
    "frame1 = DataFrame(d1)\n",
    "print(frame1)"
   ]
  },
  {
   "cell_type": "code",
   "execution_count": 10,
   "id": "4b5a6d3f",
   "metadata": {},
   "outputs": [
    {
     "name": "stdout",
     "output_type": "stream",
     "text": [
      "   Price  Sales\n",
      "0     19    600\n",
      "1     22    756\n",
      "2     13    587\n",
      "3     54    859\n",
      "4     65    990\n"
     ]
    }
   ],
   "source": [
    "# DF from dict of Series\n",
    "d2 = {'Price': Series([19,22,13,54,65]), 'Sales': Series([600,756,587,859,990])}\n",
    "frame2 = DataFrame(d2)\n",
    "print(frame2)"
   ]
  },
  {
   "cell_type": "code",
   "execution_count": 11,
   "id": "bfb71718",
   "metadata": {},
   "outputs": [
    {
     "name": "stdout",
     "output_type": "stream",
     "text": [
      "   Price  Sales  Qty\n",
      "0     19    600   30\n",
      "1     22    756   65\n"
     ]
    }
   ],
   "source": [
    "# DF from a list of dicts\n",
    "l1 = [{'Price':19, 'Sales':600, 'Qty':30}, {'Price':22, 'Sales':756, 'Qty':65}]\n",
    "frame3 = DataFrame(l1)\n",
    "print(frame3)"
   ]
  },
  {
   "cell_type": "markdown",
   "id": "22b06549",
   "metadata": {},
   "source": [
    "Accessing rows and cols of a DF"
   ]
  },
  {
   "cell_type": "code",
   "execution_count": 14,
   "id": "2b40787c",
   "metadata": {},
   "outputs": [
    {
     "name": "stdout",
     "output_type": "stream",
     "text": [
      "0    600\n",
      "1    756\n",
      "2    587\n",
      "3    859\n",
      "4    990\n",
      "Name: Sales, dtype: int64\n",
      "<class 'pandas.core.series.Series'>\n"
     ]
    }
   ],
   "source": [
    "print(frame2['Sales'])\n",
    "print(type(frame2['Sales'])) # Cols are referred to as Series"
   ]
  },
  {
   "cell_type": "code",
   "execution_count": 16,
   "id": "cccc62d6",
   "metadata": {},
   "outputs": [
    {
     "name": "stdout",
     "output_type": "stream",
     "text": [
      "   Price  Sales\n",
      "0     19    600\n",
      "1     22    756\n",
      "2     13    587\n",
      "3     54    859\n",
      "4     65    990\n",
      "<class 'pandas.core.frame.DataFrame'>\n"
     ]
    }
   ],
   "source": [
    "print(frame2[['Price','Sales']])\n",
    "print(type(frame2[['Price', 'Sales']])) # cols are referred to as DF"
   ]
  },
  {
   "cell_type": "code",
   "execution_count": 17,
   "id": "1ac55a10",
   "metadata": {},
   "outputs": [
    {
     "data": {
      "text/html": [
       "<div>\n",
       "<style scoped>\n",
       "    .dataframe tbody tr th:only-of-type {\n",
       "        vertical-align: middle;\n",
       "    }\n",
       "\n",
       "    .dataframe tbody tr th {\n",
       "        vertical-align: top;\n",
       "    }\n",
       "\n",
       "    .dataframe thead th {\n",
       "        text-align: right;\n",
       "    }\n",
       "</style>\n",
       "<table border=\"1\" class=\"dataframe\">\n",
       "  <thead>\n",
       "    <tr style=\"text-align: right;\">\n",
       "      <th></th>\n",
       "      <th>Price</th>\n",
       "      <th>Sales</th>\n",
       "    </tr>\n",
       "  </thead>\n",
       "  <tbody>\n",
       "    <tr>\n",
       "      <th>0</th>\n",
       "      <td>19</td>\n",
       "      <td>600</td>\n",
       "    </tr>\n",
       "    <tr>\n",
       "      <th>1</th>\n",
       "      <td>22</td>\n",
       "      <td>756</td>\n",
       "    </tr>\n",
       "    <tr>\n",
       "      <th>2</th>\n",
       "      <td>13</td>\n",
       "      <td>587</td>\n",
       "    </tr>\n",
       "    <tr>\n",
       "      <th>3</th>\n",
       "      <td>54</td>\n",
       "      <td>859</td>\n",
       "    </tr>\n",
       "    <tr>\n",
       "      <th>4</th>\n",
       "      <td>65</td>\n",
       "      <td>990</td>\n",
       "    </tr>\n",
       "  </tbody>\n",
       "</table>\n",
       "</div>"
      ],
      "text/plain": [
       "   Price  Sales\n",
       "0     19    600\n",
       "1     22    756\n",
       "2     13    587\n",
       "3     54    859\n",
       "4     65    990"
      ]
     },
     "execution_count": 17,
     "metadata": {},
     "output_type": "execute_result"
    }
   ],
   "source": [
    "frame"
   ]
  },
  {
   "cell_type": "code",
   "execution_count": 18,
   "id": "67f8e01f",
   "metadata": {},
   "outputs": [
    {
     "data": {
      "text/html": [
       "<div>\n",
       "<style scoped>\n",
       "    .dataframe tbody tr th:only-of-type {\n",
       "        vertical-align: middle;\n",
       "    }\n",
       "\n",
       "    .dataframe tbody tr th {\n",
       "        vertical-align: top;\n",
       "    }\n",
       "\n",
       "    .dataframe thead th {\n",
       "        text-align: right;\n",
       "    }\n",
       "</style>\n",
       "<table border=\"1\" class=\"dataframe\">\n",
       "  <thead>\n",
       "    <tr style=\"text-align: right;\">\n",
       "      <th></th>\n",
       "      <th>Base_Price</th>\n",
       "      <th>Unit Sales</th>\n",
       "    </tr>\n",
       "  </thead>\n",
       "  <tbody>\n",
       "    <tr>\n",
       "      <th>0</th>\n",
       "      <td>19</td>\n",
       "      <td>600</td>\n",
       "    </tr>\n",
       "    <tr>\n",
       "      <th>1</th>\n",
       "      <td>22</td>\n",
       "      <td>756</td>\n",
       "    </tr>\n",
       "    <tr>\n",
       "      <th>2</th>\n",
       "      <td>13</td>\n",
       "      <td>587</td>\n",
       "    </tr>\n",
       "    <tr>\n",
       "      <th>3</th>\n",
       "      <td>54</td>\n",
       "      <td>859</td>\n",
       "    </tr>\n",
       "    <tr>\n",
       "      <th>4</th>\n",
       "      <td>65</td>\n",
       "      <td>990</td>\n",
       "    </tr>\n",
       "  </tbody>\n",
       "</table>\n",
       "</div>"
      ],
      "text/plain": [
       "   Base_Price  Unit Sales\n",
       "0          19         600\n",
       "1          22         756\n",
       "2          13         587\n",
       "3          54         859\n",
       "4          65         990"
      ]
     },
     "execution_count": 18,
     "metadata": {},
     "output_type": "execute_result"
    }
   ],
   "source": [
    "# Renaming cols - rename()\n",
    "frame.rename(columns = {'Price':'Base_Price', 'Sales':'Unit Sales'}, inplace=True)\n",
    "frame"
   ]
  },
  {
   "cell_type": "code",
   "execution_count": 20,
   "id": "36e0ecb3",
   "metadata": {},
   "outputs": [
    {
     "data": {
      "text/html": [
       "<div>\n",
       "<style scoped>\n",
       "    .dataframe tbody tr th:only-of-type {\n",
       "        vertical-align: middle;\n",
       "    }\n",
       "\n",
       "    .dataframe tbody tr th {\n",
       "        vertical-align: top;\n",
       "    }\n",
       "\n",
       "    .dataframe thead th {\n",
       "        text-align: right;\n",
       "    }\n",
       "</style>\n",
       "<table border=\"1\" class=\"dataframe\">\n",
       "  <thead>\n",
       "    <tr style=\"text-align: right;\">\n",
       "      <th></th>\n",
       "      <th>Base_Price</th>\n",
       "      <th>Unit Sales</th>\n",
       "    </tr>\n",
       "  </thead>\n",
       "  <tbody>\n",
       "    <tr>\n",
       "      <th>0</th>\n",
       "      <td>19</td>\n",
       "      <td>600</td>\n",
       "    </tr>\n",
       "    <tr>\n",
       "      <th>1</th>\n",
       "      <td>22</td>\n",
       "      <td>756</td>\n",
       "    </tr>\n",
       "    <tr>\n",
       "      <th>2</th>\n",
       "      <td>13</td>\n",
       "      <td>587</td>\n",
       "    </tr>\n",
       "    <tr>\n",
       "      <th>3</th>\n",
       "      <td>54</td>\n",
       "      <td>859</td>\n",
       "    </tr>\n",
       "    <tr>\n",
       "      <th>4</th>\n",
       "      <td>65</td>\n",
       "      <td>990</td>\n",
       "    </tr>\n",
       "  </tbody>\n",
       "</table>\n",
       "</div>"
      ],
      "text/plain": [
       "   Base_Price  Unit Sales\n",
       "0          19         600\n",
       "1          22         756\n",
       "2          13         587\n",
       "3          54         859\n",
       "4          65         990"
      ]
     },
     "execution_count": 20,
     "metadata": {},
     "output_type": "execute_result"
    }
   ],
   "source": [
    "# Accessing cols\n",
    "frame.columns = ['Base_Price', 'Unit Sales']\n",
    "frame"
   ]
  },
  {
   "cell_type": "markdown",
   "id": "b288bd36",
   "metadata": {},
   "source": [
    "**DataFrame methods**"
   ]
  },
  {
   "cell_type": "code",
   "execution_count": 23,
   "id": "8a28e691",
   "metadata": {},
   "outputs": [
    {
     "data": {
      "text/plain": [
       "Index(['Base_Price', 'Unit Sales'], dtype='object')"
      ]
     },
     "execution_count": 23,
     "metadata": {},
     "output_type": "execute_result"
    }
   ],
   "source": [
    "frame.columns # All cols"
   ]
  },
  {
   "cell_type": "code",
   "execution_count": 24,
   "id": "51b8a9df",
   "metadata": {},
   "outputs": [
    {
     "data": {
      "text/html": [
       "<div>\n",
       "<style scoped>\n",
       "    .dataframe tbody tr th:only-of-type {\n",
       "        vertical-align: middle;\n",
       "    }\n",
       "\n",
       "    .dataframe tbody tr th {\n",
       "        vertical-align: top;\n",
       "    }\n",
       "\n",
       "    .dataframe thead th {\n",
       "        text-align: right;\n",
       "    }\n",
       "</style>\n",
       "<table border=\"1\" class=\"dataframe\">\n",
       "  <thead>\n",
       "    <tr style=\"text-align: right;\">\n",
       "      <th></th>\n",
       "      <th>Base_Price</th>\n",
       "      <th>Unit Sales</th>\n",
       "    </tr>\n",
       "  </thead>\n",
       "  <tbody>\n",
       "    <tr>\n",
       "      <th>0</th>\n",
       "      <td>19</td>\n",
       "      <td>600</td>\n",
       "    </tr>\n",
       "    <tr>\n",
       "      <th>1</th>\n",
       "      <td>22</td>\n",
       "      <td>756</td>\n",
       "    </tr>\n",
       "    <tr>\n",
       "      <th>2</th>\n",
       "      <td>13</td>\n",
       "      <td>587</td>\n",
       "    </tr>\n",
       "    <tr>\n",
       "      <th>3</th>\n",
       "      <td>54</td>\n",
       "      <td>859</td>\n",
       "    </tr>\n",
       "    <tr>\n",
       "      <th>4</th>\n",
       "      <td>65</td>\n",
       "      <td>990</td>\n",
       "    </tr>\n",
       "  </tbody>\n",
       "</table>\n",
       "</div>"
      ],
      "text/plain": [
       "   Base_Price  Unit Sales\n",
       "0          19         600\n",
       "1          22         756\n",
       "2          13         587\n",
       "3          54         859\n",
       "4          65         990"
      ]
     },
     "execution_count": 24,
     "metadata": {},
     "output_type": "execute_result"
    }
   ],
   "source": [
    "frame.head() # First 5 rows"
   ]
  },
  {
   "cell_type": "code",
   "execution_count": 26,
   "id": "c165180f",
   "metadata": {},
   "outputs": [
    {
     "data": {
      "text/html": [
       "<div>\n",
       "<style scoped>\n",
       "    .dataframe tbody tr th:only-of-type {\n",
       "        vertical-align: middle;\n",
       "    }\n",
       "\n",
       "    .dataframe tbody tr th {\n",
       "        vertical-align: top;\n",
       "    }\n",
       "\n",
       "    .dataframe thead th {\n",
       "        text-align: right;\n",
       "    }\n",
       "</style>\n",
       "<table border=\"1\" class=\"dataframe\">\n",
       "  <thead>\n",
       "    <tr style=\"text-align: right;\">\n",
       "      <th></th>\n",
       "      <th>Base_Price</th>\n",
       "      <th>Unit Sales</th>\n",
       "    </tr>\n",
       "  </thead>\n",
       "  <tbody>\n",
       "    <tr>\n",
       "      <th>count</th>\n",
       "      <td>5.000000</td>\n",
       "      <td>5.000000</td>\n",
       "    </tr>\n",
       "    <tr>\n",
       "      <th>mean</th>\n",
       "      <td>34.600000</td>\n",
       "      <td>758.400000</td>\n",
       "    </tr>\n",
       "    <tr>\n",
       "      <th>std</th>\n",
       "      <td>23.287336</td>\n",
       "      <td>171.925274</td>\n",
       "    </tr>\n",
       "    <tr>\n",
       "      <th>min</th>\n",
       "      <td>13.000000</td>\n",
       "      <td>587.000000</td>\n",
       "    </tr>\n",
       "    <tr>\n",
       "      <th>25%</th>\n",
       "      <td>19.000000</td>\n",
       "      <td>600.000000</td>\n",
       "    </tr>\n",
       "    <tr>\n",
       "      <th>50%</th>\n",
       "      <td>22.000000</td>\n",
       "      <td>756.000000</td>\n",
       "    </tr>\n",
       "    <tr>\n",
       "      <th>75%</th>\n",
       "      <td>54.000000</td>\n",
       "      <td>859.000000</td>\n",
       "    </tr>\n",
       "    <tr>\n",
       "      <th>max</th>\n",
       "      <td>65.000000</td>\n",
       "      <td>990.000000</td>\n",
       "    </tr>\n",
       "  </tbody>\n",
       "</table>\n",
       "</div>"
      ],
      "text/plain": [
       "       Base_Price  Unit Sales\n",
       "count    5.000000    5.000000\n",
       "mean    34.600000  758.400000\n",
       "std     23.287336  171.925274\n",
       "min     13.000000  587.000000\n",
       "25%     19.000000  600.000000\n",
       "50%     22.000000  756.000000\n",
       "75%     54.000000  859.000000\n",
       "max     65.000000  990.000000"
      ]
     },
     "execution_count": 26,
     "metadata": {},
     "output_type": "execute_result"
    }
   ],
   "source": [
    "frame.describe() # For DS and Stati data analysis"
   ]
  },
  {
   "cell_type": "code",
   "execution_count": 27,
   "id": "75a86d76",
   "metadata": {},
   "outputs": [
    {
     "name": "stdout",
     "output_type": "stream",
     "text": [
      "<class 'pandas.core.frame.DataFrame'>\n",
      "RangeIndex: 5 entries, 0 to 4\n",
      "Data columns (total 2 columns):\n",
      " #   Column      Non-Null Count  Dtype\n",
      "---  ------      --------------  -----\n",
      " 0   Base_Price  5 non-null      int64\n",
      " 1   Unit Sales  5 non-null      int64\n",
      "dtypes: int64(2)\n",
      "memory usage: 208.0 bytes\n"
     ]
    }
   ],
   "source": [
    "frame.info()"
   ]
  },
  {
   "cell_type": "code",
   "execution_count": 28,
   "id": "d1622ce9",
   "metadata": {},
   "outputs": [
    {
     "data": {
      "text/plain": [
       "Base_Price    int64\n",
       "Unit Sales    int64\n",
       "dtype: object"
      ]
     },
     "execution_count": 28,
     "metadata": {},
     "output_type": "execute_result"
    }
   ],
   "source": [
    "frame.dtypes"
   ]
  },
  {
   "cell_type": "markdown",
   "id": "5c8aef6e",
   "metadata": {},
   "source": [
    "Changing dtype of a col"
   ]
  },
  {
   "cell_type": "code",
   "execution_count": 32,
   "id": "e0eacbb9",
   "metadata": {},
   "outputs": [],
   "source": [
    "frame['Unit Sales'] = frame['Unit Sales'].astype('float')\n",
    "# This can be done by converting the col into a series as:\n",
    "# frame['Unit Sales'] = Series(frame['Unit Sales'].values.astype(float))"
   ]
  },
  {
   "cell_type": "code",
   "execution_count": 33,
   "id": "c377bd30",
   "metadata": {},
   "outputs": [
    {
     "data": {
      "text/plain": [
       "Base_Price      int64\n",
       "Unit Sales    float64\n",
       "dtype: object"
      ]
     },
     "execution_count": 33,
     "metadata": {},
     "output_type": "execute_result"
    }
   ],
   "source": [
    "frame.dtypes"
   ]
  }
 ],
 "metadata": {
  "kernelspec": {
   "display_name": "Python 3 (ipykernel)",
   "language": "python",
   "name": "python3"
  },
  "language_info": {
   "codemirror_mode": {
    "name": "ipython",
    "version": 3
   },
   "file_extension": ".py",
   "mimetype": "text/x-python",
   "name": "python",
   "nbconvert_exporter": "python",
   "pygments_lexer": "ipython3",
   "version": "3.9.13"
  }
 },
 "nbformat": 4,
 "nbformat_minor": 5
}
