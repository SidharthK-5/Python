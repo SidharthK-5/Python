{
 "cells": [
  {
   "cell_type": "code",
   "execution_count": 13,
   "metadata": {
    "colab": {
     "base_uri": "https://localhost:8080/"
    },
    "id": "VmiuiM4sOex1",
    "outputId": "54590ca9-c514-4421-f6dc-a54f9e46ff93"
   },
   "outputs": [
    {
     "name": "stdout",
     "output_type": "stream",
     "text": [
      "[11 22 33 44 55]\n",
      "[[10 20 30]\n",
      " [40 50 60]]\n"
     ]
    }
   ],
   "source": [
    "import numpy as np\n",
    "\n",
    "ar_1 = np.array([11, 22, 33, 44, 55])\n",
    "ar_2 = np.array([[10, 20, 30], [40, 50, 60]])\n",
    "print(ar_1)\n",
    "print(ar_2)"
   ]
  },
  {
   "cell_type": "markdown",
   "metadata": {
    "id": "rNNRo96CQFTM"
   },
   "source": [
    "Shape of an array"
   ]
  },
  {
   "cell_type": "code",
   "execution_count": 2,
   "metadata": {
    "colab": {
     "base_uri": "https://localhost:8080/"
    },
    "id": "Z-bF1kXOPlO4",
    "outputId": "08b90070-9f42-4890-d657-738ed5b95835"
   },
   "outputs": [
    {
     "name": "stdout",
     "output_type": "stream",
     "text": [
      "(5,)\n",
      "(2, 3)\n"
     ]
    }
   ],
   "source": [
    "print(ar_1.shape)\n",
    "print(ar_2.shape)"
   ]
  },
  {
   "cell_type": "markdown",
   "metadata": {
    "id": "lvUwKsdcQH9y"
   },
   "source": [
    "Dimension of array"
   ]
  },
  {
   "cell_type": "code",
   "execution_count": 3,
   "metadata": {
    "colab": {
     "base_uri": "https://localhost:8080/"
    },
    "id": "QmxNt9c-P-Po",
    "outputId": "c5dfff5c-44b2-4414-d01e-8660bdbbd6b4"
   },
   "outputs": [
    {
     "data": {
      "text/plain": [
       "2"
      ]
     },
     "execution_count": 3,
     "metadata": {},
     "output_type": "execute_result"
    }
   ],
   "source": [
    "ar_1.ndim\n",
    "ar_2.ndim"
   ]
  },
  {
   "cell_type": "markdown",
   "metadata": {
    "id": "7V_Kae0STspB"
   },
   "source": [
    "**Array creation using arange and linspace"
   ]
  },
  {
   "cell_type": "code",
   "execution_count": 4,
   "metadata": {
    "colab": {
     "base_uri": "https://localhost:8080/"
    },
    "id": "4nwVnmt8TwNL",
    "outputId": "cc1b966d-359f-4464-d56a-2a40e95094e8"
   },
   "outputs": [
    {
     "name": "stdout",
     "output_type": "stream",
     "text": [
      "[0 1 2 3 4]\n"
     ]
    }
   ],
   "source": [
    "ar_1 = np.arange(5)\n",
    "print(ar_1)"
   ]
  },
  {
   "cell_type": "code",
   "execution_count": 5,
   "metadata": {
    "colab": {
     "base_uri": "https://localhost:8080/"
    },
    "id": "c6-4qwNyUB_o",
    "outputId": "60ea92aa-cd25-4e44-c0f1-15bb74c1ffa8"
   },
   "outputs": [
    {
     "name": "stdout",
     "output_type": "stream",
     "text": [
      "[1 3 5 7 9]\n"
     ]
    }
   ],
   "source": [
    "ar_2 = np.arange(1, 10, 2)\n",
    "print(ar_2)"
   ]
  },
  {
   "cell_type": "code",
   "execution_count": 6,
   "metadata": {
    "colab": {
     "base_uri": "https://localhost:8080/"
    },
    "id": "x2ELkMzGUwSp",
    "outputId": "99bd1b0b-71a1-4ffd-d7a9-b36b6a827848"
   },
   "outputs": [
    {
     "name": "stdout",
     "output_type": "stream",
     "text": [
      "[0.   0.25 0.5  0.75]\n"
     ]
    }
   ],
   "source": [
    "# Creating array using linspace(start, end, no_of_elements)\n",
    "ar_3 = np.linspace(0, 0.75, 4)\n",
    "print(ar_3)"
   ]
  },
  {
   "cell_type": "markdown",
   "metadata": {
    "id": "F3CDLnevYRP2"
   },
   "source": [
    "**Array creation with special functions"
   ]
  },
  {
   "cell_type": "code",
   "execution_count": 7,
   "metadata": {
    "colab": {
     "base_uri": "https://localhost:8080/"
    },
    "id": "e6akwiwiY7XS",
    "outputId": "2c7cfcd7-84e6-4fde-84d9-ae7d1dcc4cc5"
   },
   "outputs": [
    {
     "name": "stdout",
     "output_type": "stream",
     "text": [
      "[[1. 1. 1.]\n",
      " [1. 1. 1.]]\n"
     ]
    }
   ],
   "source": [
    "# Array of ones\n",
    "one = np.ones((2, 3))\n",
    "print(one)"
   ]
  },
  {
   "cell_type": "code",
   "execution_count": 8,
   "metadata": {
    "colab": {
     "base_uri": "https://localhost:8080/"
    },
    "id": "BYrjdpu2ZVP-",
    "outputId": "6a49b30f-7c8f-486e-80d3-4be4deede390"
   },
   "outputs": [
    {
     "name": "stdout",
     "output_type": "stream",
     "text": [
      "[[0. 0. 0. 0.]\n",
      " [0. 0. 0. 0.]\n",
      " [0. 0. 0. 0.]]\n"
     ]
    }
   ],
   "source": [
    "# Array of zeros\n",
    "zeros = np.zeros((3, 4))\n",
    "print(zeros)"
   ]
  },
  {
   "cell_type": "code",
   "execution_count": 9,
   "metadata": {
    "colab": {
     "base_uri": "https://localhost:8080/"
    },
    "id": "rLvsQZYwZwGD",
    "outputId": "68325e50-44f5-4ca3-abcc-299c260bb9ac"
   },
   "outputs": [
    {
     "name": "stdout",
     "output_type": "stream",
     "text": [
      "[[1 0 0]\n",
      " [0 1 0]\n",
      " [0 0 1]]\n"
     ]
    }
   ],
   "source": [
    "# Identity matrix\n",
    "i = np.eye(3, dtype=\"int\")\n",
    "print(i)"
   ]
  },
  {
   "cell_type": "code",
   "execution_count": 10,
   "metadata": {
    "colab": {
     "base_uri": "https://localhost:8080/"
    },
    "id": "1Dd6bGscaPfe",
    "outputId": "bb413e3c-da3a-423d-e2a8-7e0b3e17b11a"
   },
   "outputs": [
    {
     "name": "stdout",
     "output_type": "stream",
     "text": [
      "[[1 0 0 0]\n",
      " [0 6 0 0]\n",
      " [0 0 2 0]\n",
      " [0 0 0 4]]\n"
     ]
    }
   ],
   "source": [
    "# Diagonal matrix\n",
    "d = np.diag((1, 6, 2, 4))\n",
    "print(d)"
   ]
  },
  {
   "cell_type": "code",
   "execution_count": 11,
   "metadata": {
    "colab": {
     "base_uri": "https://localhost:8080/"
    },
    "id": "YGwlj8ava6ed",
    "outputId": "3d3f8de5-6cc1-4d26-d190-cea324613c39"
   },
   "outputs": [
    {
     "name": "stdout",
     "output_type": "stream",
     "text": [
      "[0.94763226 0.22654742 0.59442014 0.42830868]\n"
     ]
    }
   ],
   "source": [
    "# Uniformly distributed random numbers\n",
    "np.random.seed(\n",
    "    200\n",
    ")  # Given not to produce different random nos each time the code is run\n",
    "u = np.random.rand(4)\n",
    "print(u)"
   ]
  },
  {
   "cell_type": "code",
   "execution_count": 12,
   "metadata": {
    "colab": {
     "base_uri": "https://localhost:8080/"
    },
    "id": "rFIUzvf6buvu",
    "outputId": "7410ec83-db37-413a-bcca-07aca47db532"
   },
   "outputs": [
    {
     "name": "stdout",
     "output_type": "stream",
     "text": [
      "[ 0.71187915 -0.24773829  0.36146623 -0.03294967]\n"
     ]
    }
   ],
   "source": [
    "# Normally distibuted random numbers\n",
    "# np.random.seed(20)\n",
    "n = np.random.randn(4)\n",
    "print(n)"
   ]
  },
  {
   "cell_type": "code",
   "execution_count": 14,
   "metadata": {},
   "outputs": [
    {
     "data": {
      "text/plain": [
       "array([[0., 0., 0.],\n",
       "       [0., 0., 0.],\n",
       "       [0., 0., 0.],\n",
       "       [0., 0., 0.]])"
      ]
     },
     "execution_count": 14,
     "metadata": {},
     "output_type": "execute_result"
    }
   ],
   "source": [
    "emt = np.empty((4, 3))\n",
    "emt"
   ]
  },
  {
   "cell_type": "code",
   "execution_count": 17,
   "metadata": {},
   "outputs": [
    {
     "data": {
      "text/plain": [
       "array([[5, 3, 5, 3, 5, 3],\n",
       "       [8, 4, 8, 4, 8, 4]])"
      ]
     },
     "execution_count": 17,
     "metadata": {},
     "output_type": "execute_result"
    }
   ],
   "source": [
    "# Construct an array from a smaller array by repeating it several times\n",
    "small = np.array([[5, 3], [8, 4]])\n",
    "rep = np.tile(small, 3)\n",
    "rep"
   ]
  }
 ],
 "metadata": {
  "colab": {
   "provenance": []
  },
  "kernelspec": {
   "display_name": "Python 3 (ipykernel)",
   "language": "python",
   "name": "python3"
  },
  "language_info": {
   "codemirror_mode": {
    "name": "ipython",
    "version": 3
   },
   "file_extension": ".py",
   "mimetype": "text/x-python",
   "name": "python",
   "nbconvert_exporter": "python",
   "pygments_lexer": "ipython3",
   "version": "3.9.13"
  }
 },
 "nbformat": 4,
 "nbformat_minor": 1
}
