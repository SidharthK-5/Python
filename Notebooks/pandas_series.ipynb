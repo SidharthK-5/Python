{
 "cells": [
  {
   "cell_type": "markdown",
   "id": "72e7bdc9",
   "metadata": {},
   "source": [
    "### Pandas data structures"
   ]
  },
  {
   "cell_type": "code",
   "execution_count": 26,
   "id": "567b60a3",
   "metadata": {},
   "outputs": [],
   "source": [
    "import pandas as pd\n",
    "from pandas import Series, DataFrame\n",
    "import numpy as np"
   ]
  },
  {
   "cell_type": "code",
   "execution_count": 27,
   "id": "fded2220",
   "metadata": {},
   "outputs": [
    {
     "name": "stdout",
     "output_type": "stream",
     "text": [
      "0    1\n",
      "1    2\n",
      "2    3\n",
      "3    4\n",
      "4    5\n",
      "dtype: int64\n"
     ]
    }
   ],
   "source": [
    "# Series datastructure\n",
    "S = Series([1, 2, 3, 4, 5])\n",
    "print(S)"
   ]
  },
  {
   "cell_type": "code",
   "execution_count": 28,
   "id": "f66a0573",
   "metadata": {},
   "outputs": [
    {
     "name": "stdout",
     "output_type": "stream",
     "text": [
      "2\n",
      "[1 2 3 4 5]\n",
      "RangeIndex(start=0, stop=5, step=1)\n",
      "[0, 1, 2, 3, 4]\n"
     ]
    }
   ],
   "source": [
    "print(S[1])\n",
    "print(S.values)\n",
    "print(S.index)\n",
    "print(list(S.index))"
   ]
  },
  {
   "cell_type": "code",
   "execution_count": 39,
   "id": "7434808a",
   "metadata": {},
   "outputs": [
    {
     "data": {
      "text/plain": [
       "a    1\n",
       "b    2\n",
       "c    3\n",
       "d    4\n",
       "e    5\n",
       "dtype: int64"
      ]
     },
     "execution_count": 39,
     "metadata": {},
     "output_type": "execute_result"
    }
   ],
   "source": [
    "S1 = Series([1, 2, 3, 4, 5], index=[\"a\", \"b\", \"c\", \"d\", \"e\"])\n",
    "S1"
   ]
  },
  {
   "cell_type": "code",
   "execution_count": 40,
   "id": "2345a687",
   "metadata": {},
   "outputs": [
    {
     "name": "stdout",
     "output_type": "stream",
     "text": [
      "1\n",
      "1\n"
     ]
    },
    {
     "data": {
      "text/plain": [
       "Index(['a', 'b', 'c', 'd', 'e'], dtype='object')"
      ]
     },
     "execution_count": 40,
     "metadata": {},
     "output_type": "execute_result"
    }
   ],
   "source": [
    "print(S1[0])\n",
    "print(S1[\"a\"])  # Both S1[0] and S1['a'] will return the same output\n",
    "S1.index"
   ]
  },
  {
   "cell_type": "code",
   "execution_count": 41,
   "id": "995bfe8c",
   "metadata": {},
   "outputs": [
    {
     "data": {
      "text/plain": [
       "a    1\n",
       "b    2\n",
       "c    3\n",
       "d    4\n",
       "e    5\n",
       "g    7\n",
       "dtype: int64"
      ]
     },
     "execution_count": 41,
     "metadata": {},
     "output_type": "execute_result"
    }
   ],
   "source": [
    "# Adding a new element to the series\n",
    "S1[\"g\"] = 7\n",
    "S1"
   ]
  },
  {
   "cell_type": "code",
   "execution_count": 42,
   "id": "6411bae3",
   "metadata": {},
   "outputs": [
    {
     "data": {
      "text/plain": [
       "a     1\n",
       "b     2\n",
       "c     3\n",
       "d     4\n",
       "e     5\n",
       "g     7\n",
       "h     8\n",
       "i     9\n",
       "j    10\n",
       "dtype: int64"
      ]
     },
     "execution_count": 42,
     "metadata": {},
     "output_type": "execute_result"
    }
   ],
   "source": [
    "s = Series([8, 9, 10], index=[\"h\", \"i\", \"j\"])\n",
    "S1 = pd.concat([S1, s])\n",
    "S1"
   ]
  },
  {
   "cell_type": "markdown",
   "id": "b3e79ec9",
   "metadata": {},
   "source": [
    "**Deletion from series**"
   ]
  },
  {
   "cell_type": "code",
   "execution_count": 43,
   "id": "e4641837",
   "metadata": {},
   "outputs": [
    {
     "data": {
      "text/plain": [
       "a     1\n",
       "b     2\n",
       "c     3\n",
       "d     4\n",
       "e     5\n",
       "h     8\n",
       "i     9\n",
       "j    10\n",
       "dtype: int64"
      ]
     },
     "execution_count": 43,
     "metadata": {},
     "output_type": "execute_result"
    }
   ],
   "source": [
    "S1 = S1.drop(\"g\")  # inplace = False -> a new series is returned\n",
    "S1"
   ]
  },
  {
   "cell_type": "code",
   "execution_count": 44,
   "id": "7105e10c",
   "metadata": {},
   "outputs": [
    {
     "data": {
      "text/plain": [
       "a    1\n",
       "b    2\n",
       "c    3\n",
       "d    4\n",
       "e    5\n",
       "h    8\n",
       "dtype: int64"
      ]
     },
     "execution_count": 44,
     "metadata": {},
     "output_type": "execute_result"
    }
   ],
   "source": [
    "S1.drop(\n",
    "    [\"i\", \"j\"], inplace=True\n",
    ")  # inplace=True -> No return. Modification is done in place\n",
    "S1"
   ]
  },
  {
   "cell_type": "code",
   "execution_count": 45,
   "id": "16833c8d",
   "metadata": {},
   "outputs": [
    {
     "data": {
      "text/plain": [
       "a    3\n",
       "b    4\n",
       "dtype: int64"
      ]
     },
     "execution_count": 45,
     "metadata": {},
     "output_type": "execute_result"
    }
   ],
   "source": [
    "# Series from a dict\n",
    "d = {\"a\": 3, \"b\": 4}\n",
    "S2 = Series(d)\n",
    "S2"
   ]
  },
  {
   "cell_type": "code",
   "execution_count": 46,
   "id": "44c9bcdf",
   "metadata": {},
   "outputs": [
    {
     "data": {
      "text/plain": [
       "a    4\n",
       "b    4\n",
       "dtype: int64"
      ]
     },
     "execution_count": 46,
     "metadata": {},
     "output_type": "execute_result"
    }
   ],
   "source": [
    "S2[\"a\"] = 4\n",
    "S2"
   ]
  },
  {
   "cell_type": "code",
   "execution_count": 47,
   "id": "2e1a64a1",
   "metadata": {},
   "outputs": [
    {
     "data": {
      "text/plain": [
       "a    2\n",
       "b    3\n",
       "c    4\n",
       "d    5\n",
       "e    6\n",
       "h    9\n",
       "dtype: int64"
      ]
     },
     "execution_count": 47,
     "metadata": {},
     "output_type": "execute_result"
    }
   ],
   "source": [
    "# Series support vectorization\n",
    "S1 + 1"
   ]
  },
  {
   "cell_type": "code",
   "execution_count": 48,
   "id": "4d962a1f",
   "metadata": {},
   "outputs": [
    {
     "data": {
      "text/plain": [
       "0     1\n",
       "1     4\n",
       "2     9\n",
       "3    16\n",
       "4    25\n",
       "dtype: int64"
      ]
     },
     "execution_count": 48,
     "metadata": {},
     "output_type": "execute_result"
    }
   ],
   "source": [
    "S**2"
   ]
  },
  {
   "cell_type": "code",
   "execution_count": 50,
   "id": "19ee1f68",
   "metadata": {},
   "outputs": [
    {
     "data": {
      "text/plain": [
       "a    0.000000\n",
       "b    0.693147\n",
       "c    1.098612\n",
       "d    1.386294\n",
       "e    1.609438\n",
       "h    2.079442\n",
       "dtype: float64"
      ]
     },
     "execution_count": 50,
     "metadata": {},
     "output_type": "execute_result"
    }
   ],
   "source": [
    "# logarithm of series elements\n",
    "np.log(S1)"
   ]
  },
  {
   "cell_type": "code",
   "execution_count": 51,
   "id": "7c0504d0",
   "metadata": {},
   "outputs": [
    {
     "data": {
      "text/plain": [
       "a    5.0\n",
       "b    6.0\n",
       "c    NaN\n",
       "d    NaN\n",
       "e    NaN\n",
       "h    NaN\n",
       "dtype: float64"
      ]
     },
     "execution_count": 51,
     "metadata": {},
     "output_type": "execute_result"
    }
   ],
   "source": [
    "# Adding 2 Series\n",
    "S1 + S2"
   ]
  },
  {
   "cell_type": "code",
   "execution_count": 53,
   "id": "479ae862",
   "metadata": {},
   "outputs": [
    {
     "data": {
      "text/plain": [
       "dtype('int64')"
      ]
     },
     "execution_count": 53,
     "metadata": {},
     "output_type": "execute_result"
    }
   ],
   "source": [
    "# Datatype conversion in Series\n",
    "SC = Series([1, 2, 3, 4, 5])\n",
    "SC.dtype"
   ]
  },
  {
   "cell_type": "code",
   "execution_count": 55,
   "id": "3c6ddb88",
   "metadata": {},
   "outputs": [
    {
     "data": {
      "text/plain": [
       "0    1.0\n",
       "1    2.0\n",
       "2    3.0\n",
       "3    4.0\n",
       "4    5.0\n",
       "dtype: float64"
      ]
     },
     "execution_count": 55,
     "metadata": {},
     "output_type": "execute_result"
    }
   ],
   "source": [
    "SC = SC.astype(\"float\")\n",
    "SC"
   ]
  },
  {
   "cell_type": "code",
   "execution_count": 58,
   "id": "6bc0e2ce",
   "metadata": {},
   "outputs": [
    {
     "data": {
      "text/plain": [
       "0    1.0\n",
       "1    2.0\n",
       "2    3.0\n",
       "3    NaN\n",
       "4    NaN\n",
       "dtype: float64"
      ]
     },
     "execution_count": 58,
     "metadata": {},
     "output_type": "execute_result"
    }
   ],
   "source": [
    "# Corner case\n",
    "c = Series([\"1\", 2, 3, np.nan, np.nan])\n",
    "# c = c.astype('int64') # This will be an error\n",
    "# If there are missing values in Series, we have to convert it to float\n",
    "c = c.astype(\"float64\")\n",
    "c"
   ]
  },
  {
   "cell_type": "code",
   "execution_count": 59,
   "id": "3f409177",
   "metadata": {},
   "outputs": [
    {
     "data": {
      "text/plain": [
       "pandas.core.series.Series"
      ]
     },
     "execution_count": 59,
     "metadata": {},
     "output_type": "execute_result"
    }
   ],
   "source": [
    "type(c)"
   ]
  }
 ],
 "metadata": {
  "kernelspec": {
   "display_name": "Python 3 (ipykernel)",
   "language": "python",
   "name": "python3"
  },
  "language_info": {
   "codemirror_mode": {
    "name": "ipython",
    "version": 3
   },
   "file_extension": ".py",
   "mimetype": "text/x-python",
   "name": "python",
   "nbconvert_exporter": "python",
   "pygments_lexer": "ipython3",
   "version": "3.9.13"
  }
 },
 "nbformat": 4,
 "nbformat_minor": 5
}
