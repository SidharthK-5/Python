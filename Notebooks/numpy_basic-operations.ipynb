{
 "cells": [
  {
   "cell_type": "markdown",
   "id": "4d020754",
   "metadata": {},
   "source": [
    "**All operations applied to the the array will be performed element wise**"
   ]
  },
  {
   "cell_type": "code",
   "execution_count": 38,
   "id": "66b2fcb8",
   "metadata": {},
   "outputs": [
    {
     "data": {
      "text/plain": [
       "array([ 4,  8, 12, 16, 20, 24, 28, 32, 36])"
      ]
     },
     "execution_count": 38,
     "metadata": {},
     "output_type": "execute_result"
    }
   ],
   "source": [
    "import numpy as np\n",
    "a = np.arange(1,10)*4\n",
    "a"
   ]
  },
  {
   "cell_type": "code",
   "execution_count": 39,
   "id": "39b5f52a",
   "metadata": {},
   "outputs": [
    {
     "data": {
      "text/plain": [
       "array([   1,   16,   81,  256,  625, 1296, 2401, 4096, 6561], dtype=int32)"
      ]
     },
     "execution_count": 39,
     "metadata": {},
     "output_type": "execute_result"
    }
   ],
   "source": [
    "b = np.arange(1,10)**4\n",
    "b"
   ]
  },
  {
   "cell_type": "code",
   "execution_count": 40,
   "id": "7c4d3b61",
   "metadata": {},
   "outputs": [
    {
     "data": {
      "text/plain": [
       "array([2.        , 2.82842712, 3.46410162, 4.        , 4.47213595,\n",
       "       4.89897949, 5.29150262, 5.65685425, 6.        ])"
      ]
     },
     "execution_count": 40,
     "metadata": {},
     "output_type": "execute_result"
    }
   ],
   "source": [
    "c = a**0.5\n",
    "c"
   ]
  },
  {
   "cell_type": "code",
   "execution_count": 41,
   "id": "58991f4a",
   "metadata": {},
   "outputs": [
    {
     "data": {
      "text/plain": [
       "array([ 1,  3,  5,  7,  9, 11, 13, 15, 17, 19])"
      ]
     },
     "execution_count": 41,
     "metadata": {},
     "output_type": "execute_result"
    }
   ],
   "source": [
    "# Addition in an array\n",
    "d = 1 + np.arange(0,20,2)\n",
    "d"
   ]
  },
  {
   "cell_type": "code",
   "execution_count": 42,
   "id": "2be4a53b",
   "metadata": {},
   "outputs": [
    {
     "data": {
      "text/plain": [
       "array([0, 1, 2, 3, 4, 5, 6, 7, 8, 9])"
      ]
     },
     "execution_count": 42,
     "metadata": {},
     "output_type": "execute_result"
    }
   ],
   "source": [
    "e = np.arange(0,10)\n",
    "e"
   ]
  },
  {
   "cell_type": "code",
   "execution_count": 43,
   "id": "fad7344c",
   "metadata": {},
   "outputs": [
    {
     "data": {
      "text/plain": [
       "array([ 1,  2,  3,  4,  5,  6,  7,  8,  9, 10])"
      ]
     },
     "execution_count": 43,
     "metadata": {},
     "output_type": "execute_result"
    }
   ],
   "source": [
    "# Array subtraction\n",
    "f = d - e\n",
    "f"
   ]
  },
  {
   "cell_type": "code",
   "execution_count": 44,
   "id": "0c60587f",
   "metadata": {},
   "outputs": [
    {
     "data": {
      "text/plain": [
       "array([0.        , 0.33333333, 0.4       , 0.42857143, 0.44444444,\n",
       "       0.45454545, 0.46153846, 0.46666667, 0.47058824, 0.47368421])"
      ]
     },
     "execution_count": 44,
     "metadata": {},
     "output_type": "execute_result"
    }
   ],
   "source": [
    "# Array division\n",
    "g = e/d\n",
    "g"
   ]
  },
  {
   "cell_type": "code",
   "execution_count": 45,
   "id": "9949a1e5",
   "metadata": {},
   "outputs": [
    {
     "data": {
      "text/plain": [
       "array([  0,   3,  10,  21,  36,  55,  78, 105, 136, 171])"
      ]
     },
     "execution_count": 45,
     "metadata": {},
     "output_type": "execute_result"
    }
   ],
   "source": [
    "# Array multiplication\n",
    "h = d*e\n",
    "h"
   ]
  },
  {
   "cell_type": "markdown",
   "id": "ba074376",
   "metadata": {},
   "source": [
    "#### A comparison to show the process time diff b/w array and list\n",
    "%timeit can be used to print the time required for an operation"
   ]
  },
  {
   "cell_type": "code",
   "execution_count": 46,
   "id": "38cbf838",
   "metadata": {},
   "outputs": [
    {
     "name": "stdout",
     "output_type": "stream",
     "text": [
      "2.32 µs ± 91.1 ns per loop (mean ± std. dev. of 7 runs, 100000 loops each)\n"
     ]
    }
   ],
   "source": [
    "sample1 = np.arange(100)\n",
    "%timeit sample1 ** 3"
   ]
  },
  {
   "cell_type": "code",
   "execution_count": 47,
   "id": "84ab99ef",
   "metadata": {},
   "outputs": [
    {
     "name": "stdout",
     "output_type": "stream",
     "text": [
      "29.6 µs ± 3.48 µs per loop (mean ± std. dev. of 7 runs, 10000 loops each)\n"
     ]
    }
   ],
   "source": [
    "sample2 = list(range(100))\n",
    "%timeit [i ** 3 for i in sample2]"
   ]
  },
  {
   "cell_type": "code",
   "execution_count": 48,
   "id": "91d8800b",
   "metadata": {},
   "outputs": [
    {
     "data": {
      "text/plain": [
       "array([ 0,  1,  2,  3,  4,  5,  6,  7,  8,  9, 10, 11, 12, 13, 14, 15, 16,\n",
       "       17, 18, 19, 20, 21, 22, 23, 24, 25, 26, 27, 28, 29, 30, 31, 32, 33,\n",
       "       34, 35, 36, 37, 38, 39, 40, 41, 42, 43, 44, 45, 46, 47, 48, 49, 50,\n",
       "       51, 52, 53, 54, 55, 56, 57, 58, 59, 60, 61, 62, 63, 64, 65, 66, 67,\n",
       "       68, 69, 70, 71, 72, 73, 74, 75, 76, 77, 78, 79, 80, 81, 82, 83, 84,\n",
       "       85, 86, 87, 88, 89, 90, 91, 92, 93, 94, 95, 96, 97, 98, 99])"
      ]
     },
     "execution_count": 48,
     "metadata": {},
     "output_type": "execute_result"
    }
   ],
   "source": [
    "sample1"
   ]
  },
  {
   "cell_type": "code",
   "execution_count": 49,
   "id": "a7fd0078",
   "metadata": {},
   "outputs": [
    {
     "name": "stdout",
     "output_type": "stream",
     "text": [
      "[0, 1, 2, 3, 4, 5, 6, 7, 8, 9, 10, 11, 12, 13, 14, 15, 16, 17, 18, 19, 20, 21, 22, 23, 24, 25, 26, 27, 28, 29, 30, 31, 32, 33, 34, 35, 36, 37, 38, 39, 40, 41, 42, 43, 44, 45, 46, 47, 48, 49, 50, 51, 52, 53, 54, 55, 56, 57, 58, 59, 60, 61, 62, 63, 64, 65, 66, 67, 68, 69, 70, 71, 72, 73, 74, 75, 76, 77, 78, 79, 80, 81, 82, 83, 84, 85, 86, 87, 88, 89, 90, 91, 92, 93, 94, 95, 96, 97, 98, 99]\n"
     ]
    }
   ],
   "source": [
    "print(sample2)"
   ]
  },
  {
   "cell_type": "markdown",
   "id": "8db334b8",
   "metadata": {},
   "source": [
    "#### Matrix Multiplication"
   ]
  },
  {
   "cell_type": "code",
   "execution_count": 53,
   "id": "1da91aeb",
   "metadata": {},
   "outputs": [
    {
     "data": {
      "text/plain": [
       "array([[70, 70],\n",
       "       [70, 70]])"
      ]
     },
     "execution_count": 53,
     "metadata": {},
     "output_type": "execute_result"
    }
   ],
   "source": [
    "m1 = np.array([[5,5],[5,5]])\n",
    "m1\n",
    "\n",
    "m2 = np.array([[7,7],[7,7]])\n",
    "m2\n",
    "\n",
    "mvalue = m1.dot(m2) # dot() is used for matrix multiplication\n",
    "mvalue"
   ]
  },
  {
   "cell_type": "markdown",
   "id": "9bc72dad",
   "metadata": {},
   "source": [
    "#### Comparison operations - done element wise"
   ]
  },
  {
   "cell_type": "code",
   "execution_count": 59,
   "id": "d58dfe93",
   "metadata": {},
   "outputs": [
    {
     "data": {
      "text/plain": [
       "array([ True,  True,  True,  True, False])"
      ]
     },
     "execution_count": 59,
     "metadata": {},
     "output_type": "execute_result"
    }
   ],
   "source": [
    "c1 = np.arange(2,7)\n",
    "c2 = np.arange(10,5,-1)\n",
    "c3 = c1 < c2\n",
    "c3"
   ]
  },
  {
   "cell_type": "markdown",
   "id": "fa2bc972",
   "metadata": {},
   "source": [
    "#### Logical operations - done element wise"
   ]
  },
  {
   "cell_type": "code",
   "execution_count": 60,
   "id": "a74d18c5",
   "metadata": {},
   "outputs": [
    {
     "data": {
      "text/plain": [
       "array([False, False,  True, False])"
      ]
     },
     "execution_count": 60,
     "metadata": {},
     "output_type": "execute_result"
    }
   ],
   "source": [
    "x = np.array([False, False, True, True])\n",
    "y = np.array([True, False, True, False])\n",
    "z = np.logical_and(x,y)\n",
    "z"
   ]
  },
  {
   "cell_type": "markdown",
   "id": "ab1ab003",
   "metadata": {},
   "source": [
    "**Trigonometric fn - done element wise**"
   ]
  },
  {
   "cell_type": "code",
   "execution_count": 63,
   "id": "9e9a2707",
   "metadata": {},
   "outputs": [
    {
     "data": {
      "text/plain": [
       "array([1.2246468e-16, 1.0000000e+00])"
      ]
     },
     "execution_count": 63,
     "metadata": {},
     "output_type": "execute_result"
    }
   ],
   "source": [
    "s = np.array([np.pi, np.pi/2])\n",
    "s1 = np.sin(s)\n",
    "s1"
   ]
  },
  {
   "cell_type": "code",
   "execution_count": 65,
   "id": "614417cd",
   "metadata": {},
   "outputs": [
    {
     "name": "stdout",
     "output_type": "stream",
     "text": [
      "[[1 2]\n",
      " [3 4]\n",
      " [5 6]]\n",
      "[[1 3 5]\n",
      " [2 4 6]]\n",
      "[[1 3 5]\n",
      " [2 4 6]]\n"
     ]
    }
   ],
   "source": [
    "# Transpose of a matrix - Can be done by ar_name.T or np.transpose(ar_name)\n",
    "t1 = np.array([[1,2], [3,4], [5,6]])\n",
    "print(t1)\n",
    "t2 = t1.T\n",
    "print(t2)\n",
    "t3 = np.transpose(t1)\n",
    "print(t3)"
   ]
  },
  {
   "cell_type": "markdown",
   "id": "9cdf7b8a",
   "metadata": {},
   "source": [
    "**Array comparison, array-wise**"
   ]
  },
  {
   "cell_type": "code",
   "execution_count": 67,
   "id": "8770077c",
   "metadata": {},
   "outputs": [
    {
     "data": {
      "text/plain": [
       "True"
      ]
     },
     "execution_count": 67,
     "metadata": {},
     "output_type": "execute_result"
    }
   ],
   "source": [
    "arr1 = np.arange(1,7)\n",
    "arr2 = np.array([1,2,3,4,5,6])\n",
    "# comparison 1\n",
    "arr3 = np.array_equal(arr1, arr2)\n",
    "arr3"
   ]
  },
  {
   "cell_type": "code",
   "execution_count": 68,
   "id": "53df1831",
   "metadata": {},
   "outputs": [
    {
     "data": {
      "text/plain": [
       "True"
      ]
     },
     "execution_count": 68,
     "metadata": {},
     "output_type": "execute_result"
    }
   ],
   "source": [
    "# \n",
    "arr4 = np.all(arr1 == arr2)\n",
    "arr4"
   ]
  }
 ],
 "metadata": {
  "kernelspec": {
   "display_name": "Python 3 (ipykernel)",
   "language": "python",
   "name": "python3"
  },
  "language_info": {
   "codemirror_mode": {
    "name": "ipython",
    "version": 3
   },
   "file_extension": ".py",
   "mimetype": "text/x-python",
   "name": "python",
   "nbconvert_exporter": "python",
   "pygments_lexer": "ipython3",
   "version": "3.9.13"
  }
 },
 "nbformat": 4,
 "nbformat_minor": 5
}
