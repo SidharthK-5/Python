{
 "cells": [
  {
   "cell_type": "markdown",
   "id": "c0f8c95a",
   "metadata": {},
   "source": [
    "**Reduction Operations**\n",
    "Done by either sum() or prod() function"
   ]
  },
  {
   "cell_type": "code",
   "execution_count": 2,
   "id": "f4db0187",
   "metadata": {},
   "outputs": [
    {
     "data": {
      "text/plain": [
       "120"
      ]
     },
     "execution_count": 2,
     "metadata": {},
     "output_type": "execute_result"
    }
   ],
   "source": [
    "import numpy as np\n",
    "a = np.arange(2,6)\n",
    "a.prod() # Axis is not specified -> redn is applied to all elements"
   ]
  },
  {
   "cell_type": "code",
   "execution_count": 3,
   "id": "691a44c5",
   "metadata": {},
   "outputs": [
    {
     "data": {
      "text/plain": [
       "array([[2, 3, 4, 5],\n",
       "       [2, 3, 4, 5]])"
      ]
     },
     "execution_count": 3,
     "metadata": {},
     "output_type": "execute_result"
    }
   ],
   "source": [
    "b = np.array([np.arange(2,6), np.arange(2,6)])\n",
    "b"
   ]
  },
  {
   "cell_type": "code",
   "execution_count": 5,
   "id": "ad2c2ce2",
   "metadata": {},
   "outputs": [
    {
     "data": {
      "text/plain": [
       "array([ 4,  9, 16, 25])"
      ]
     },
     "execution_count": 5,
     "metadata": {},
     "output_type": "execute_result"
    }
   ],
   "source": [
    "# Col wise - multiply every elements in a column and return a 1xn matrix\n",
    "c = np.prod(b, axis = 0) # axis=0 means col\n",
    "c"
   ]
  },
  {
   "cell_type": "code",
   "execution_count": 6,
   "id": "f0d9cd14",
   "metadata": {},
   "outputs": [
    {
     "data": {
      "text/plain": [
       "array([120, 120])"
      ]
     },
     "execution_count": 6,
     "metadata": {},
     "output_type": "execute_result"
    }
   ],
   "source": [
    "#row wise\n",
    "d = np.prod(b, axis = 1) # axis=1 means row wise\n",
    "d"
   ]
  },
  {
   "cell_type": "code",
   "execution_count": 7,
   "id": "b23e3f19",
   "metadata": {},
   "outputs": [
    {
     "data": {
      "text/plain": [
       "array([[ 2,  4,  6],\n",
       "       [ 1,  3,  5],\n",
       "       [10, 11, 12]])"
      ]
     },
     "execution_count": 7,
     "metadata": {},
     "output_type": "execute_result"
    }
   ],
   "source": [
    "e = np.array([[2,4,6],[1,3,5],[10,11,12]])\n",
    "e"
   ]
  },
  {
   "cell_type": "code",
   "execution_count": 8,
   "id": "20946a30",
   "metadata": {},
   "outputs": [
    {
     "data": {
      "text/plain": [
       "54"
      ]
     },
     "execution_count": 8,
     "metadata": {},
     "output_type": "execute_result"
    }
   ],
   "source": [
    "# Not specifying axis\n",
    "e.sum()"
   ]
  },
  {
   "cell_type": "markdown",
   "id": "95beae33",
   "metadata": {},
   "source": [
    "**Statistical Operations**\n",
    "np.std(), np.mean(), np.median(), np.var() and np.cumsum()"
   ]
  },
  {
   "cell_type": "code",
   "execution_count": 14,
   "id": "91dfd7bd",
   "metadata": {},
   "outputs": [
    {
     "data": {
      "text/plain": [
       "array([[8, 8, 3, 7],\n",
       "       [7, 0, 4, 2],\n",
       "       [5, 2, 2, 2],\n",
       "       [1, 0, 8, 4],\n",
       "       [0, 9, 6, 2]])"
      ]
     },
     "execution_count": 14,
     "metadata": {},
     "output_type": "execute_result"
    }
   ],
   "source": [
    "np.random.seed(100)\n",
    "s1 = np.random.randint(0,10, size=(5,4))\n",
    "s1"
   ]
  },
  {
   "cell_type": "code",
   "execution_count": 15,
   "id": "c10b219b",
   "metadata": {},
   "outputs": [
    {
     "data": {
      "text/plain": [
       "4.0"
      ]
     },
     "execution_count": 15,
     "metadata": {},
     "output_type": "execute_result"
    }
   ],
   "source": [
    "s1.mean()"
   ]
  },
  {
   "cell_type": "code",
   "execution_count": 16,
   "id": "67d582b8",
   "metadata": {},
   "outputs": [
    {
     "data": {
      "text/plain": [
       "3.5"
      ]
     },
     "execution_count": 16,
     "metadata": {},
     "output_type": "execute_result"
    }
   ],
   "source": [
    "np.median(s1)"
   ]
  },
  {
   "cell_type": "code",
   "execution_count": 17,
   "id": "5a1173e1",
   "metadata": {},
   "outputs": [
    {
     "data": {
      "text/plain": [
       "2.949576240750525"
      ]
     },
     "execution_count": 17,
     "metadata": {},
     "output_type": "execute_result"
    }
   ],
   "source": [
    "# std dev\n",
    "s1.std()"
   ]
  },
  {
   "cell_type": "code",
   "execution_count": 22,
   "id": "ed698eda",
   "metadata": {},
   "outputs": [
    {
     "data": {
      "text/plain": [
       "array([ 4.25  ,  6.6875,  1.6875,  9.6875, 12.1875])"
      ]
     },
     "execution_count": 22,
     "metadata": {},
     "output_type": "execute_result"
    }
   ],
   "source": [
    "# Variance\n",
    "s1.var(axis=1) # across rows"
   ]
  },
  {
   "cell_type": "code",
   "execution_count": 21,
   "id": "4b658b1e",
   "metadata": {},
   "outputs": [
    {
     "data": {
      "text/plain": [
       "array([ 8, 16, 19, 26, 33, 33, 37, 39, 44, 46, 48, 50, 51, 51, 59, 63, 63,\n",
       "       72, 78, 80])"
      ]
     },
     "execution_count": 21,
     "metadata": {},
     "output_type": "execute_result"
    }
   ],
   "source": [
    "s1.cumsum()"
   ]
  },
  {
   "cell_type": "markdown",
   "id": "b78f5605",
   "metadata": {},
   "source": [
    "**Logical operations** | \n",
    "np.all() : For element wise 'and' all of the elements | \n",
    "np.any() : For element wise 'or' all of the elements"
   ]
  },
  {
   "cell_type": "code",
   "execution_count": 24,
   "id": "41cc8c3d",
   "metadata": {},
   "outputs": [
    {
     "data": {
      "text/plain": [
       "array([[11, 15, 18, 17],\n",
       "       [19, 12, 18, 14],\n",
       "       [12, 18, 16, 19],\n",
       "       [18, 17, 17, 11]])"
      ]
     },
     "execution_count": 24,
     "metadata": {},
     "output_type": "execute_result"
    }
   ],
   "source": [
    "np.random.seed(200)\n",
    "l_1 = np.random.randint(11,20,size=(4,4))\n",
    "l_1"
   ]
  },
  {
   "cell_type": "code",
   "execution_count": 25,
   "id": "83bbe705",
   "metadata": {},
   "outputs": [
    {
     "data": {
      "text/plain": [
       "True"
      ]
     },
     "execution_count": 25,
     "metadata": {},
     "output_type": "execute_result"
    }
   ],
   "source": [
    "np.any(l_1 % 7 == 0)"
   ]
  },
  {
   "cell_type": "code",
   "execution_count": 28,
   "id": "52afc209",
   "metadata": {},
   "outputs": [
    {
     "data": {
      "text/plain": [
       "False"
      ]
     },
     "execution_count": 28,
     "metadata": {},
     "output_type": "execute_result"
    }
   ],
   "source": [
    "np.all(l_1 < 11)"
   ]
  }
 ],
 "metadata": {
  "kernelspec": {
   "display_name": "Python 3 (ipykernel)",
   "language": "python",
   "name": "python3"
  },
  "language_info": {
   "codemirror_mode": {
    "name": "ipython",
    "version": 3
   },
   "file_extension": ".py",
   "mimetype": "text/x-python",
   "name": "python",
   "nbconvert_exporter": "python",
   "pygments_lexer": "ipython3",
   "version": "3.9.13"
  }
 },
 "nbformat": 4,
 "nbformat_minor": 5
}
