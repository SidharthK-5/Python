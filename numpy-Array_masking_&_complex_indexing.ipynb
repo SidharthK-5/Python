{
 "cells": [
  {
   "cell_type": "code",
   "execution_count": 1,
   "id": "4c299424",
   "metadata": {},
   "outputs": [],
   "source": [
    "import numpy as np"
   ]
  },
  {
   "cell_type": "code",
   "execution_count": 4,
   "id": "1201d473",
   "metadata": {},
   "outputs": [
    {
     "data": {
      "text/plain": [
       "array([28, 40, 34, 45, 36, 47, 32, 27, 25, 47])"
      ]
     },
     "execution_count": 4,
     "metadata": {},
     "output_type": "execute_result"
    }
   ],
   "source": [
    "np.random.seed(20)\n",
    "a = np.random.randint(25,50,10) # start, end+1, array_size\n",
    "a"
   ]
  },
  {
   "cell_type": "code",
   "execution_count": 7,
   "id": "22414af7",
   "metadata": {},
   "outputs": [
    {
     "data": {
      "text/plain": [
       "array([ True,  True,  True, False,  True, False,  True, False, False,\n",
       "       False])"
      ]
     },
     "execution_count": 7,
     "metadata": {},
     "output_type": "execute_result"
    }
   ],
   "source": [
    "# Create a bool mask array to filter out only even nos\n",
    "a_even = (a % 2 == 0)\n",
    "a_even"
   ]
  },
  {
   "cell_type": "code",
   "execution_count": 8,
   "id": "c9740878",
   "metadata": {},
   "outputs": [
    {
     "data": {
      "text/plain": [
       "array([28, 40, 34, 36, 32])"
      ]
     },
     "execution_count": 8,
     "metadata": {},
     "output_type": "execute_result"
    }
   ],
   "source": [
    "# Use bool array to create new array with only even\n",
    "a_evens = a[a_even]\n",
    "a_evens"
   ]
  },
  {
   "cell_type": "code",
   "execution_count": 9,
   "id": "9d0c8b64",
   "metadata": {},
   "outputs": [
    {
     "data": {
      "text/plain": [
       "array(['France', 'Greece', 'Syria', 'Germany', 'Ukraine', 'Hungary', '',\n",
       "       'Nigeria'], dtype='<U7')"
      ]
     },
     "execution_count": 9,
     "metadata": {},
     "output_type": "execute_result"
    }
   ],
   "source": [
    "# Array masking to replace a missing value\n",
    "country = np.array(['France', 'Greece', 'Syria', 'Germany', 'Ukraine', 'Hungary', '', 'Nigeria'])\n",
    "country"
   ]
  },
  {
   "cell_type": "code",
   "execution_count": 10,
   "id": "28de9be3",
   "metadata": {},
   "outputs": [
    {
     "data": {
      "text/plain": [
       "array(['France', 'Greece', 'Syria', 'Germany', 'Ukraine', 'Hungary',\n",
       "       'Russia', 'Nigeria'], dtype='<U7')"
      ]
     },
     "execution_count": 10,
     "metadata": {},
     "output_type": "execute_result"
    }
   ],
   "source": [
    "# Finding the blank element and replacing it\n",
    "country[country == ''] = 'Russia'\n",
    "country"
   ]
  },
  {
   "cell_type": "code",
   "execution_count": 11,
   "id": "1d72d749",
   "metadata": {},
   "outputs": [
    {
     "data": {
      "text/plain": [
       "array([220, 240, 260, 280, 300, 320, 340, 360, 380])"
      ]
     },
     "execution_count": 11,
     "metadata": {},
     "output_type": "execute_result"
    }
   ],
   "source": [
    "b = 20*np.arange(11,20)\n",
    "b"
   ]
  },
  {
   "cell_type": "code",
   "execution_count": 12,
   "id": "b194fe70",
   "metadata": {},
   "outputs": [
    {
     "data": {
      "text/plain": [
       "array([240, 280, 300, 260, 360])"
      ]
     },
     "execution_count": 12,
     "metadata": {},
     "output_type": "execute_result"
    }
   ],
   "source": [
    "# Creating a new array by masking out specific indices\n",
    "c = b[[1,3,4,2,7]] # double sq brackets are necessary, else there will be error\n",
    "c"
   ]
  },
  {
   "cell_type": "code",
   "execution_count": 13,
   "id": "2d266a1a",
   "metadata": {},
   "outputs": [
    {
     "data": {
      "text/plain": [
       "array([220,  50, 260,  51, 300, 320, 340, 360, 380])"
      ]
     },
     "execution_count": 13,
     "metadata": {},
     "output_type": "execute_result"
    }
   ],
   "source": [
    "b[[1,3]] = [50,51] # Assignment with indexing\n",
    "b"
   ]
  },
  {
   "cell_type": "markdown",
   "id": "018ba220",
   "metadata": {},
   "source": [
    "**Complex indexing**\n",
    "Replacing a smaller array from a bigger array by complex indexing"
   ]
  },
  {
   "cell_type": "code",
   "execution_count": 15,
   "id": "0cb1182a",
   "metadata": {},
   "outputs": [
    {
     "data": {
      "text/plain": [
       "array([ 0,  1,  2,  3,  4,  5,  6,  7,  8,  9, 10, 11, 12, 13, 14, 15, 16,\n",
       "       17, 18, 19])"
      ]
     },
     "execution_count": 15,
     "metadata": {},
     "output_type": "execute_result"
    }
   ],
   "source": [
    "d = np.arange(20)\n",
    "d"
   ]
  },
  {
   "cell_type": "code",
   "execution_count": 17,
   "id": "8555752b",
   "metadata": {},
   "outputs": [
    {
     "data": {
      "text/plain": [
       "array([-19, -18, -17, -16, -15, -14, -13, -12, -11])"
      ]
     },
     "execution_count": 17,
     "metadata": {},
     "output_type": "execute_result"
    }
   ],
   "source": [
    "# e = np.arange(-19,-10), but in complex way😂\n",
    "e = np.arange(-11,-20,-1)[::-1]\n",
    "e"
   ]
  },
  {
   "cell_type": "code",
   "execution_count": 19,
   "id": "29ad8dfd",
   "metadata": {},
   "outputs": [
    {
     "data": {
      "text/plain": [
       "array([-19, -18, -17, -16, -15, -14, -13, -12, -11,   9,  10,  11,  12,\n",
       "        13,  14,  15,  16,  17,  18,  19])"
      ]
     },
     "execution_count": 19,
     "metadata": {},
     "output_type": "execute_result"
    }
   ],
   "source": [
    "# Replacing indices 0-8 of d with elements of e\n",
    "d[:9] = e\n",
    "d"
   ]
  }
 ],
 "metadata": {
  "kernelspec": {
   "display_name": "Python 3 (ipykernel)",
   "language": "python",
   "name": "python3"
  },
  "language_info": {
   "codemirror_mode": {
    "name": "ipython",
    "version": 3
   },
   "file_extension": ".py",
   "mimetype": "text/x-python",
   "name": "python",
   "nbconvert_exporter": "python",
   "pygments_lexer": "ipython3",
   "version": "3.9.13"
  }
 },
 "nbformat": 4,
 "nbformat_minor": 5
}
