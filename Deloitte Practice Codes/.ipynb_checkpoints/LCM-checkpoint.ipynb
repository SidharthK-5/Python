{
 "cells": [
  {
   "cell_type": "code",
   "execution_count": 3,
   "id": "9e1e1850",
   "metadata": {},
   "outputs": [
    {
     "name": "stdout",
     "output_type": "stream",
     "text": [
      "3\n",
      "1 5\n",
      "21 28\n",
      "10 1008\n",
      "5\n",
      "{420, 168, 588, 336, 84, 504, 252}\n",
      "84\n",
      "Out of Range!\n"
     ]
    }
   ],
   "source": [
    "def LCM(l):\n",
    "    n1, n2 = map(int, l)\n",
    "    if n1 < 1 or n1 > 1000 or n2 < 1 or n2 > 1000:\n",
    "        return \"Out of Range!\"\n",
    "    elif n1 == 1 or n2 == 1:\n",
    "        return max(n1, n2)\n",
    "    else:\n",
    "        s1 = set(range(n1, n1 * n2 + 1, n1))\n",
    "        s2 = set(range(n2, n1 * n2 + 1, n2))\n",
    "        s3 = s1.intersection(s2)\n",
    "        return min(s3)\n",
    "\n",
    "\n",
    "# Read the variable from STDIN\n",
    "T = int(input())\n",
    "L = list()\n",
    "for i in range(T):\n",
    "    L.append(input().split())\n",
    "\n",
    "\n",
    "# Output the variable to STDOUT\n",
    "for i in L:\n",
    "    ret = LCM(i)\n",
    "    print(ret)"
   ]
  }
 ],
 "metadata": {
  "kernelspec": {
   "display_name": "Python 3 (ipykernel)",
   "language": "python",
   "name": "python3"
  },
  "language_info": {
   "codemirror_mode": {
    "name": "ipython",
    "version": 3
   },
   "file_extension": ".py",
   "mimetype": "text/x-python",
   "name": "python",
   "nbconvert_exporter": "python",
   "pygments_lexer": "ipython3",
   "version": "3.9.13"
  }
 },
 "nbformat": 4,
 "nbformat_minor": 5
}
