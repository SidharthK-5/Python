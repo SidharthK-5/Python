{
 "cells": [
  {
   "cell_type": "code",
   "execution_count": 3,
   "id": "94adc941",
   "metadata": {},
   "outputs": [
    {
     "name": "stdout",
     "output_type": "stream",
     "text": [
      "4\n",
      "SoftBank Apple Microsoft Amazon\n",
      "2845 3425 2942 4215\n",
      "1253 3256 2100 1252\n",
      "False\n",
      "True\n",
      "True\n",
      "False\n"
     ]
    }
   ],
   "source": [
    "import pandas as pd\n",
    "\n",
    "# Read the variable from STDIN\n",
    "T = int(input())\n",
    "campaign_name = input().split()\n",
    "no_of_emails = list(map(int, input().split()))\n",
    "open_rate = list(map(int, input().split()))\n",
    "\n",
    "# Logic\n",
    "d = {\n",
    "    \"campaign_name\": campaign_name,\n",
    "    \"no_of_emails\": no_of_emails,\n",
    "    \"open_rate\": open_rate,\n",
    "}\n",
    "DF = pd.DataFrame(d)\n",
    "mean_of_opening = DF[\"open_rate\"].mean()\n",
    "\n",
    "# Output the variable to STDOUT\n",
    "for i in DF[\"open_rate\"]:\n",
    "    if i >= mean_of_opening:\n",
    "        print(True)\n",
    "    else:\n",
    "        print(False)"
   ]
  }
 ],
 "metadata": {
  "kernelspec": {
   "display_name": "Python 3 (ipykernel)",
   "language": "python",
   "name": "python3"
  },
  "language_info": {
   "codemirror_mode": {
    "name": "ipython",
    "version": 3
   },
   "file_extension": ".py",
   "mimetype": "text/x-python",
   "name": "python",
   "nbconvert_exporter": "python",
   "pygments_lexer": "ipython3",
   "version": "3.9.13"
  }
 },
 "nbformat": 4,
 "nbformat_minor": 5
}
