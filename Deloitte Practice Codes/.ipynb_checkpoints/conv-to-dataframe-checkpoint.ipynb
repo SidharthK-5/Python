{
 "cells": [
  {
   "cell_type": "code",
   "execution_count": 16,
   "id": "c9ec4f4d",
   "metadata": {},
   "outputs": [
    {
     "name": "stdout",
     "output_type": "stream",
     "text": [
      "2 4\n",
      "1 2 3 4 5 6 7 8\n",
      "   0  1  2  3\n",
      "0  1  2  3  4\n",
      "1  5  6  7  8\n"
     ]
    }
   ],
   "source": [
    "import numpy as np\n",
    "import pandas as pd\n",
    "\n",
    "m, n = map(int, input().split())\n",
    "input_list = input().split()\n",
    "\n",
    "if m * n == len(input_list):\n",
    "    # Write your logic here\n",
    "    D = dict()\n",
    "    for i in range(m):\n",
    "        row = pd.Series(input_list[:n])\n",
    "        D[i] = row\n",
    "        input_list = input_list[n:]\n",
    "    DF = pd.DataFrame(D).T\n",
    "    print(DF)\n",
    "else:\n",
    "    print(\"Weird Order!\")"
   ]
  }
 ],
 "metadata": {
  "kernelspec": {
   "display_name": "Python 3 (ipykernel)",
   "language": "python",
   "name": "python3"
  },
  "language_info": {
   "codemirror_mode": {
    "name": "ipython",
    "version": 3
   },
   "file_extension": ".py",
   "mimetype": "text/x-python",
   "name": "python",
   "nbconvert_exporter": "python",
   "pygments_lexer": "ipython3",
   "version": "3.9.13"
  }
 },
 "nbformat": 4,
 "nbformat_minor": 5
}
