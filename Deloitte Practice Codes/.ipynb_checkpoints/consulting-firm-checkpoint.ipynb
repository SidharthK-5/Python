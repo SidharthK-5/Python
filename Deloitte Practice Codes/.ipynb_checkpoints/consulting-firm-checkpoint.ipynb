{
 "cells": [
  {
   "cell_type": "code",
   "execution_count": 5,
   "id": "7aaf9977",
   "metadata": {},
   "outputs": [
    {
     "name": "stdout",
     "output_type": "stream",
     "text": [
      "3\n",
      "Alex 18 54 Australia\n",
      "Bob 15 64 China\n",
      "Clarke 16 70 Mexico\n",
      "     Name Age  Marks    Country  Result\n",
      "0    Alex  18     54  Australia     1.0\n",
      "1     Bob  15     64      China     0.0\n",
      "2  Clarke  16     70     Mexico     0.0\n",
      "1.0\n",
      "0.0\n",
      "0.0\n"
     ]
    }
   ],
   "source": [
    "import pandas as pd\n",
    "\n",
    "# Read the variable from STDIN\n",
    "T = int(input())\n",
    "d = dict()\n",
    "for i in range(T):\n",
    "    d[i] = input().split()\n",
    "\n",
    "# Logic\n",
    "DF = pd.DataFrame(d, index=[\"Name\", \"Age\", \"Marks\", \"Country\"]).T\n",
    "DF[\"Marks\"] = DF[\"Marks\"].astype(int)\n",
    "Result = [1.0 if i <= DF[\"Marks\"].mean() else 0.0 for i in DF[\"Marks\"]]\n",
    "DF[\"Result\"] = Result\n",
    "\n",
    "# Output the variable to STDOUT\n",
    "for i in DF[\"Result\"]:\n",
    "    print(i)"
   ]
  }
 ],
 "metadata": {
  "kernelspec": {
   "display_name": "Python 3 (ipykernel)",
   "language": "python",
   "name": "python3"
  },
  "language_info": {
   "codemirror_mode": {
    "name": "ipython",
    "version": 3
   },
   "file_extension": ".py",
   "mimetype": "text/x-python",
   "name": "python",
   "nbconvert_exporter": "python",
   "pygments_lexer": "ipython3",
   "version": "3.9.13"
  },
  "vscode": {
   "interpreter": {
    "hash": "18b901293586971f7783ab23a7eeadcc0a625d59f05d8e3a4ebc3298a3725a1d"
   }
  }
 },
 "nbformat": 4,
 "nbformat_minor": 5
}
