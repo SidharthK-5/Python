{
 "cells": [
  {
   "cell_type": "code",
   "execution_count": 1,
   "id": "HC-j7ErZrNaW",
   "metadata": {
    "id": "HC-j7ErZrNaW"
   },
   "outputs": [],
   "source": [
    "#Python Variable Name Rules\n",
    "#Must start with a letter or underscore _ \n",
    "#Must consist of letters, numbers, and underscores\n",
    "#Case Sensitive"
   ]
  },
  {
   "cell_type": "code",
   "execution_count": 6,
   "id": "5e0bc7b4",
   "metadata": {},
   "outputs": [
    {
     "data": {
      "text/plain": [
       "10"
      ]
     },
     "execution_count": 6,
     "metadata": {},
     "output_type": "execute_result"
    }
   ],
   "source": [
    "a1 = 10\n",
    "a1"
   ]
  },
  {
   "cell_type": "code",
   "execution_count": null,
   "id": "a4ff06fe",
   "metadata": {},
   "outputs": [],
   "source": [
    "### Assign multiple values to multiple variables in a single line"
   ]
  },
  {
   "cell_type": "code",
   "execution_count": 9,
   "id": "83a05c46",
   "metadata": {},
   "outputs": [
    {
     "name": "stdout",
     "output_type": "stream",
     "text": [
      "100\n",
      "200\n"
     ]
    }
   ],
   "source": [
    "a = 100;b=200;c=300\n",
    "print(a)\n",
    "print(b)"
   ]
  },
  {
   "cell_type": "code",
   "execution_count": 10,
   "id": "39e30cd8",
   "metadata": {},
   "outputs": [
    {
     "data": {
      "text/plain": [
       "int"
      ]
     },
     "execution_count": 10,
     "metadata": {},
     "output_type": "execute_result"
    }
   ],
   "source": [
    "type(a)"
   ]
  },
  {
   "cell_type": "code",
   "execution_count": 11,
   "id": "c4f15099",
   "metadata": {},
   "outputs": [
    {
     "data": {
      "text/plain": [
       "float"
      ]
     },
     "execution_count": 11,
     "metadata": {},
     "output_type": "execute_result"
    }
   ],
   "source": [
    "c =10.5\n",
    "type(c)"
   ]
  },
  {
   "cell_type": "code",
   "execution_count": 12,
   "id": "5902e9ef",
   "metadata": {},
   "outputs": [
    {
     "data": {
      "text/plain": [
       "bool"
      ]
     },
     "execution_count": 12,
     "metadata": {},
     "output_type": "execute_result"
    }
   ],
   "source": [
    "d =True\n",
    "type(d)"
   ]
  },
  {
   "cell_type": "code",
   "execution_count": 13,
   "id": "ebc0adcd",
   "metadata": {},
   "outputs": [],
   "source": [
    "var ='hai8797%%%4$$'\n",
    "var1 = \"hai8797%%%4$$\""
   ]
  },
  {
   "cell_type": "code",
   "execution_count": 15,
   "id": "e2201366",
   "metadata": {},
   "outputs": [
    {
     "data": {
      "text/plain": [
       "str"
      ]
     },
     "execution_count": 15,
     "metadata": {},
     "output_type": "execute_result"
    }
   ],
   "source": [
    "#check type\n",
    "type(var1)"
   ]
  },
  {
   "cell_type": "code",
   "execution_count": 17,
   "id": "7ce07c33",
   "metadata": {},
   "outputs": [
    {
     "data": {
      "text/plain": [
       "900"
      ]
     },
     "execution_count": 17,
     "metadata": {},
     "output_type": "execute_result"
    }
   ],
   "source": [
    "### Assign same value to multiple variables\n",
    "a=b=c =900\n",
    "c"
   ]
  },
  {
   "cell_type": "code",
   "execution_count": 22,
   "id": "Y31PvLnNG6U3",
   "metadata": {
    "id": "Y31PvLnNG6U3"
   },
   "outputs": [],
   "source": [
    "#type\n",
    "a  = float(a)"
   ]
  },
  {
   "cell_type": "code",
   "execution_count": 23,
   "id": "9881eaa5",
   "metadata": {},
   "outputs": [
    {
     "data": {
      "text/plain": [
       "float"
      ]
     },
     "execution_count": 23,
     "metadata": {},
     "output_type": "execute_result"
    }
   ],
   "source": [
    "type(a)"
   ]
  },
  {
   "cell_type": "code",
   "execution_count": 24,
   "id": "b5cb23ab",
   "metadata": {},
   "outputs": [
    {
     "data": {
      "text/plain": [
       "str"
      ]
     },
     "execution_count": 24,
     "metadata": {},
     "output_type": "execute_result"
    }
   ],
   "source": [
    "c ='10'\n",
    "type(c)"
   ]
  },
  {
   "cell_type": "code",
   "execution_count": 27,
   "id": "6364c75e",
   "metadata": {},
   "outputs": [],
   "source": [
    "c = int(c)"
   ]
  },
  {
   "cell_type": "code",
   "execution_count": 1,
   "id": "f9d89a2e",
   "metadata": {},
   "outputs": [],
   "source": [
    "# convert to float or int"
   ]
  },
  {
   "cell_type": "code",
   "execution_count": null,
   "id": "c802511a",
   "metadata": {},
   "outputs": [],
   "source": [
    "# Print statements in different format"
   ]
  },
  {
   "cell_type": "code",
   "execution_count": 29,
   "id": "a13ab4c5",
   "metadata": {},
   "outputs": [
    {
     "name": "stdout",
     "output_type": "stream",
     "text": [
      "The value of a is: 900.0\n"
     ]
    }
   ],
   "source": [
    "print('The value of a is:',a)"
   ]
  },
  {
   "cell_type": "code",
   "execution_count": 32,
   "id": "7cb385d5",
   "metadata": {},
   "outputs": [
    {
     "name": "stdout",
     "output_type": "stream",
     "text": [
      "The value's of a is 900.0\n"
     ]
    }
   ],
   "source": [
    "print(\"The value's of a is {}\".format(a))"
   ]
  },
  {
   "cell_type": "code",
   "execution_count": 31,
   "id": "fef7944a",
   "metadata": {},
   "outputs": [
    {
     "name": "stdout",
     "output_type": "stream",
     "text": [
      "The value of a is :900.0\n"
     ]
    }
   ],
   "source": [
    "print(f'The value of a is :{a}')"
   ]
  },
  {
   "cell_type": "code",
   "execution_count": 20,
   "id": "32593944",
   "metadata": {
    "colab": {
     "base_uri": "https://localhost:8080/"
    },
    "id": "32593944",
    "outputId": "6300737b-2778-4855-95bd-54859c5c1e52"
   },
   "outputs": [
    {
     "name": "stdout",
     "output_type": "stream",
     "text": [
      "17\n"
     ]
    }
   ],
   "source": [
    "#Assignment statement\n",
    "x = 8\n",
    "#Assignment with expression\n",
    "x = x + 9\n",
    "#Print statement\n",
    "print(x)"
   ]
  },
  {
   "cell_type": "code",
   "execution_count": 33,
   "id": "77806fa7",
   "metadata": {
    "colab": {
     "base_uri": "https://localhost:8080/"
    },
    "id": "77806fa7",
    "outputId": "fbeeadb6-b65e-4594-e767-9a64d1debde7"
   },
   "outputs": [
    {
     "name": "stdout",
     "output_type": "stream",
     "text": [
      "7\n",
      "-1\n",
      "12\n",
      "1\n",
      "81\n",
      "1.75\n",
      "1\n"
     ]
    }
   ],
   "source": [
    "# Arithmetic Operators\n",
    "# Addition\n",
    "print(3 + 4)\n",
    "# Subtraction\n",
    "print(3 - 4)\n",
    "# Multiplication\n",
    "print(3 * 4)\n",
    "# modulo operator \n",
    "print(3 % 2)\n",
    "# Exponentiation\n",
    "print(3 ** 4) \n",
    "#  division\n",
    "print(7 / 4)\n",
    "# floor division\n",
    "print(7 // 4)"
   ]
  },
  {
   "cell_type": "code",
   "execution_count": 34,
   "id": "b95cee0e",
   "metadata": {},
   "outputs": [
    {
     "data": {
      "text/plain": [
       "True"
      ]
     },
     "execution_count": 34,
     "metadata": {},
     "output_type": "execute_result"
    }
   ],
   "source": [
    "a == b"
   ]
  },
  {
   "cell_type": "code",
   "execution_count": 37,
   "id": "d5149e46",
   "metadata": {},
   "outputs": [
    {
     "data": {
      "text/plain": [
       "900"
      ]
     },
     "execution_count": 37,
     "metadata": {},
     "output_type": "execute_result"
    }
   ],
   "source": [
    "b"
   ]
  },
  {
   "cell_type": "code",
   "execution_count": 39,
   "id": "ad2bf854",
   "metadata": {},
   "outputs": [
    {
     "data": {
      "text/plain": [
       "False"
      ]
     },
     "execution_count": 39,
     "metadata": {},
     "output_type": "execute_result"
    }
   ],
   "source": [
    "not((a < 10) or (b > 100))"
   ]
  },
  {
   "cell_type": "raw",
   "id": "ceb9cd35",
   "metadata": {},
   "source": [
    "#### Relational operators\n",
    "Operator\t                             Description\t                                      Syntax\n",
    "<\t                               Less than: True if the left operand is less than the right\tx < y\n",
    "==\t                               Equal to: True if both operands are equal\t                x == y\n",
    "!=\t                               Not equal to – True if operands are not equal\t            x != y\n",
    ">=\t                               Greater than or equal to: True if left operand is            x >= y\n",
    "                                     greater than or equal to the right\t"
   ]
  },
  {
   "cell_type": "raw",
   "id": "86edccec",
   "metadata": {},
   "source": [
    "Logical operators\n",
    "Operator\t             Description\t                                              Example\n",
    "and\t             Returns True if both statements are true\t                     x < 5 and x < 10\n",
    "or\t             Returns True if one of the statements is true\t                 x < 5 or x < 4\n",
    "not\t             Reverse the result, returns False if the result is true \t     not(x < 5 and x < 10)"
   ]
  },
  {
   "cell_type": "code",
   "execution_count": 43,
   "id": "a71112b5",
   "metadata": {},
   "outputs": [
    {
     "name": "stdout",
     "output_type": "stream",
     "text": [
      "Enter a number123\n"
     ]
    }
   ],
   "source": [
    "# Get string object '123' from user input function and add value 1.\n",
    "inp1 = int(input(\"Enter a number\"))"
   ]
  },
  {
   "cell_type": "code",
   "execution_count": 44,
   "id": "87e2b2c7",
   "metadata": {},
   "outputs": [
    {
     "data": {
      "text/plain": [
       "int"
      ]
     },
     "execution_count": 44,
     "metadata": {},
     "output_type": "execute_result"
    }
   ],
   "source": [
    "type(inp1)"
   ]
  },
  {
   "cell_type": "code",
   "execution_count": 45,
   "id": "8b7d5b02",
   "metadata": {},
   "outputs": [
    {
     "data": {
      "text/plain": [
       "124"
      ]
     },
     "execution_count": 45,
     "metadata": {},
     "output_type": "execute_result"
    }
   ],
   "source": [
    "inp1+ 1"
   ]
  },
  {
   "cell_type": "code",
   "execution_count": 46,
   "id": "d3d1869f",
   "metadata": {},
   "outputs": [
    {
     "data": {
      "text/plain": [
       "'1231'"
      ]
     },
     "execution_count": 46,
     "metadata": {},
     "output_type": "execute_result"
    }
   ],
   "source": [
    "'123' + str(1)"
   ]
  },
  {
   "cell_type": "code",
   "execution_count": 47,
   "id": "b96c7766",
   "metadata": {
    "colab": {
     "base_uri": "https://localhost:8080/"
    },
    "id": "b96c7766",
    "outputId": "116cacc1-ba6a-46d4-b34b-cbd0dfa2f17e"
   },
   "outputs": [
    {
     "name": "stdout",
     "output_type": "stream",
     "text": [
      "5\n",
      "positive\n"
     ]
    }
   ],
   "source": [
    "# if -else\n",
    "inp1 = int(input())\n",
    "if inp1 > 0 :\n",
    "    print('positive')\n",
    "elif inp1 == 0:\n",
    "    print('zero')\n",
    "else:\n",
    "    print('negative')\n",
    "   "
   ]
  },
  {
   "cell_type": "code",
   "execution_count": 51,
   "id": "XTK0jQ1jkDia",
   "metadata": {
    "id": "XTK0jQ1jkDia"
   },
   "outputs": [
    {
     "name": "stdout",
     "output_type": "stream",
     "text": [
      "1\n",
      "2000\n",
      "3\n",
      "2000\n"
     ]
    }
   ],
   "source": [
    "# Find the largest of the 3 using if-else\n",
    "a = int(input())\n",
    "b = int(input())\n",
    "c = int(input())\n",
    "if (a> b) and (a>c):\n",
    "    print(a)\n",
    "elif (b>c) and (b>a):\n",
    "    print(b)\n",
    "else:\n",
    "    print(c)\n",
    "    "
   ]
  },
  {
   "cell_type": "code",
   "execution_count": null,
   "id": "2zmQz-GRlHUH",
   "metadata": {
    "id": "2zmQz-GRlHUH"
   },
   "outputs": [],
   "source": [
    "# Iterating over range 0 to n-1\n",
    "# Iterating over a String"
   ]
  },
  {
   "cell_type": "code",
   "execution_count": 54,
   "id": "beaebe9d",
   "metadata": {},
   "outputs": [
    {
     "name": "stdout",
     "output_type": "stream",
     "text": [
      "0\n",
      "1\n",
      "2\n",
      "3\n",
      "4\n"
     ]
    }
   ],
   "source": [
    "for i in range(0,5,1):\n",
    "    print(i)"
   ]
  },
  {
   "cell_type": "code",
   "execution_count": 55,
   "id": "4da5d5f4",
   "metadata": {},
   "outputs": [
    {
     "name": "stdout",
     "output_type": "stream",
     "text": [
      "0\n",
      "2\n",
      "4\n"
     ]
    }
   ],
   "source": [
    "for i in range(0,5,2):\n",
    "    print(i)"
   ]
  },
  {
   "cell_type": "code",
   "execution_count": 53,
   "id": "2d4ac4a7",
   "metadata": {},
   "outputs": [
    {
     "name": "stdout",
     "output_type": "stream",
     "text": [
      "0\n",
      "1\n",
      "2\n",
      "3\n",
      "4\n"
     ]
    }
   ],
   "source": [
    "for i in range(5):\n",
    "    print(i)"
   ]
  },
  {
   "cell_type": "code",
   "execution_count": 56,
   "id": "9dd4d168",
   "metadata": {},
   "outputs": [
    {
     "name": "stdout",
     "output_type": "stream",
     "text": [
      "5\n",
      "4\n",
      "3\n",
      "2\n",
      "1\n"
     ]
    }
   ],
   "source": [
    "#5,4,3,2,1\n",
    "for i in range(5,0,-1):\n",
    "    print(i)"
   ]
  },
  {
   "cell_type": "code",
   "execution_count": null,
   "id": "ab00d06f",
   "metadata": {
    "id": "ab00d06f"
   },
   "outputs": [],
   "source": [
    "# Strings \n",
    "#Strings are a collection of character where each character is again a string of length 1.\n",
    "#Strings are immutable objects"
   ]
  },
  {
   "cell_type": "code",
   "execution_count": 60,
   "id": "005a0a23",
   "metadata": {},
   "outputs": [
    {
     "data": {
      "text/plain": [
       "'a'"
      ]
     },
     "execution_count": 60,
     "metadata": {},
     "output_type": "execute_result"
    }
   ],
   "source": [
    "sent = \"We are learning Python\"\n",
    "sent[3] # +ve index"
   ]
  },
  {
   "cell_type": "code",
   "execution_count": 63,
   "id": "f0d0e138",
   "metadata": {},
   "outputs": [
    {
     "data": {
      "text/plain": [
       "'h'"
      ]
     },
     "execution_count": 63,
     "metadata": {},
     "output_type": "execute_result"
    }
   ],
   "source": [
    "sent[-3] #-ve index"
   ]
  },
  {
   "cell_type": "code",
   "execution_count": 66,
   "id": "2a25d596",
   "metadata": {},
   "outputs": [
    {
     "data": {
      "text/plain": [
       "'We are'"
      ]
     },
     "execution_count": 66,
     "metadata": {},
     "output_type": "execute_result"
    }
   ],
   "source": [
    "sent[0:6:1]"
   ]
  },
  {
   "cell_type": "code",
   "execution_count": 68,
   "id": "a4a673b3",
   "metadata": {},
   "outputs": [
    {
     "data": {
      "text/plain": [
       "'lann'"
      ]
     },
     "execution_count": 68,
     "metadata": {},
     "output_type": "execute_result"
    }
   ],
   "source": [
    "sent[7:15:2]"
   ]
  },
  {
   "cell_type": "code",
   "execution_count": 71,
   "id": "ab50d80c",
   "metadata": {},
   "outputs": [
    {
     "data": {
      "text/plain": [
       "'Python'"
      ]
     },
     "execution_count": 71,
     "metadata": {},
     "output_type": "execute_result"
    }
   ],
   "source": [
    "sent[-6:]"
   ]
  },
  {
   "cell_type": "code",
   "execution_count": 72,
   "id": "77bdc46a",
   "metadata": {},
   "outputs": [
    {
     "data": {
      "text/plain": [
       "'Pto'"
      ]
     },
     "execution_count": 72,
     "metadata": {},
     "output_type": "execute_result"
    }
   ],
   "source": [
    "sent[-6::2]"
   ]
  },
  {
   "cell_type": "code",
   "execution_count": 74,
   "id": "63f4d465",
   "metadata": {},
   "outputs": [
    {
     "data": {
      "text/plain": [
       "'nohtyP'"
      ]
     },
     "execution_count": 74,
     "metadata": {},
     "output_type": "execute_result"
    }
   ],
   "source": [
    "sent[-1:-7:-1]"
   ]
  },
  {
   "cell_type": "code",
   "execution_count": 75,
   "id": "35CErCL4majx",
   "metadata": {
    "colab": {
     "base_uri": "https://localhost:8080/",
     "height": 35
    },
    "id": "35CErCL4majx",
    "outputId": "f8ad0d23-79dd-4976-d7f7-4edc7bd17546"
   },
   "outputs": [
    {
     "data": {
      "text/plain": [
       "'nohtyP gninrael era eW'"
      ]
     },
     "execution_count": 75,
     "metadata": {},
     "output_type": "execute_result"
    }
   ],
   "source": [
    "# Reverse the string\n",
    "sent[-1::-1]"
   ]
  },
  {
   "cell_type": "code",
   "execution_count": 76,
   "id": "92a1fa07",
   "metadata": {},
   "outputs": [
    {
     "data": {
      "text/plain": [
       "'nohtyP gninrael era eW'"
      ]
     },
     "execution_count": 76,
     "metadata": {},
     "output_type": "execute_result"
    }
   ],
   "source": [
    "sent[::-1]"
   ]
  },
  {
   "cell_type": "code",
   "execution_count": 43,
   "id": "60Q-xTPMMm7x",
   "metadata": {
    "colab": {
     "base_uri": "https://localhost:8080/",
     "height": 183
    },
    "id": "60Q-xTPMMm7x",
    "outputId": "0d6ea9ca-fefb-4ad3-b6b6-475b4938b57f"
   },
   "outputs": [],
   "source": [
    "\n",
    "#positive - left to right\n",
    "#negative -  right to left\n",
    "# start index - included\n",
    "#end index - excluded"
   ]
  },
  {
   "cell_type": "code",
   "execution_count": 91,
   "id": "6da96d48",
   "metadata": {},
   "outputs": [],
   "source": [
    "sent = \"We are learning Python\""
   ]
  },
  {
   "cell_type": "code",
   "execution_count": 98,
   "id": "161d0bcb",
   "metadata": {},
   "outputs": [
    {
     "data": {
      "text/plain": [
       "'nohtyP'"
      ]
     },
     "execution_count": 98,
     "metadata": {},
     "output_type": "execute_result"
    }
   ],
   "source": [
    "sent[-1:-7:-1]"
   ]
  },
  {
   "cell_type": "code",
   "execution_count": null,
   "id": "e679adaf",
   "metadata": {},
   "outputs": [],
   "source": []
  },
  {
   "cell_type": "code",
   "execution_count": 77,
   "id": "1de24605",
   "metadata": {},
   "outputs": [
    {
     "ename": "TypeError",
     "evalue": "'str' object does not support item assignment",
     "output_type": "error",
     "traceback": [
      "\u001b[1;31m---------------------------------------------------------------------------\u001b[0m",
      "\u001b[1;31mTypeError\u001b[0m                                 Traceback (most recent call last)",
      "Input \u001b[1;32mIn [77]\u001b[0m, in \u001b[0;36m<cell line: 2>\u001b[1;34m()\u001b[0m\n\u001b[0;32m      1\u001b[0m \u001b[38;5;66;03m# immutable\u001b[39;00m\n\u001b[1;32m----> 2\u001b[0m sent[\u001b[38;5;241m0\u001b[39m] \u001b[38;5;241m=\u001b[39m \u001b[38;5;124m'\u001b[39m\u001b[38;5;124mp\u001b[39m\u001b[38;5;124m'\u001b[39m\n",
      "\u001b[1;31mTypeError\u001b[0m: 'str' object does not support item assignment"
     ]
    }
   ],
   "source": [
    " # immutable\n",
    "sent[0] = 'p'"
   ]
  },
  {
   "cell_type": "code",
   "execution_count": 79,
   "id": "b296d020",
   "metadata": {},
   "outputs": [
    {
     "name": "stdout",
     "output_type": "stream",
     "text": [
      "Help on method_descriptor:\n",
      "\n",
      "lower(self, /)\n",
      "    Return a copy of the string converted to lowercase.\n",
      "\n"
     ]
    }
   ],
   "source": [
    "help(str.lower)"
   ]
  },
  {
   "cell_type": "code",
   "execution_count": 80,
   "id": "53867512",
   "metadata": {},
   "outputs": [
    {
     "data": {
      "text/plain": [
       "'HELLO'"
      ]
     },
     "execution_count": 80,
     "metadata": {},
     "output_type": "execute_result"
    }
   ],
   "source": [
    "'Hello'.upper()"
   ]
  },
  {
   "cell_type": "code",
   "execution_count": 85,
   "id": "20a2ad2a",
   "metadata": {},
   "outputs": [],
   "source": [
    "s =\"hello\"\n",
    "s = s.replace('h','c')"
   ]
  },
  {
   "cell_type": "code",
   "execution_count": 86,
   "id": "96ff7224",
   "metadata": {},
   "outputs": [
    {
     "data": {
      "text/plain": [
       "'cello'"
      ]
     },
     "execution_count": 86,
     "metadata": {},
     "output_type": "execute_result"
    }
   ],
   "source": [
    "s"
   ]
  },
  {
   "cell_type": "code",
   "execution_count": 88,
   "id": "f85da500",
   "metadata": {},
   "outputs": [
    {
     "data": {
      "text/plain": [
       "2"
      ]
     },
     "execution_count": 88,
     "metadata": {},
     "output_type": "execute_result"
    }
   ],
   "source": [
    "s.find('l')"
   ]
  },
  {
   "cell_type": "code",
   "execution_count": 90,
   "id": "af3562c4",
   "metadata": {},
   "outputs": [
    {
     "data": {
      "text/plain": [
       "22"
      ]
     },
     "execution_count": 90,
     "metadata": {},
     "output_type": "execute_result"
    }
   ],
   "source": [
    "len(sent)"
   ]
  },
  {
   "cell_type": "code",
   "execution_count": 9,
   "id": "e2ea7881",
   "metadata": {
    "id": "e2ea7881"
   },
   "outputs": [],
   "source": [
    "#replace\n",
    "#lower\n",
    "#upper\n",
    "#find\n",
    "#concatenate strings\n",
    "#length\n"
   ]
  },
  {
   "cell_type": "code",
   "execution_count": null,
   "id": "ce38a45d",
   "metadata": {
    "id": "ce38a45d"
   },
   "outputs": [],
   "source": [
    "# String Indexing \n",
    "#Postive Indexing \n",
    "#Negative Indexing"
   ]
  },
  {
   "cell_type": "code",
   "execution_count": null,
   "id": "8ebed705",
   "metadata": {
    "id": "8ebed705"
   },
   "outputs": [],
   "source": [
    "# Slicing\n",
    "#Positive \n",
    "#Negative\n",
    "#Step Index based"
   ]
  },
  {
   "cell_type": "code",
   "execution_count": null,
   "id": "c983c6af",
   "metadata": {
    "id": "c983c6af"
   },
   "outputs": [],
   "source": [
    "#Searching a String\n",
    "#find() finds the first occurrence of the substring\n",
    "#If the substring is not found, find() returns -1\n"
   ]
  },
  {
   "cell_type": "code",
   "execution_count": null,
   "id": "57a6427a",
   "metadata": {
    "id": "57a6427a"
   },
   "outputs": [],
   "source": [
    "#Replace\n"
   ]
  },
  {
   "cell_type": "code",
   "execution_count": null,
   "id": "8619053f",
   "metadata": {
    "id": "8619053f"
   },
   "outputs": [],
   "source": [
    "#User Input\n",
    "#Write a program to prompt the user for hours and rate per hour to compute gross pay."
   ]
  },
  {
   "cell_type": "code",
   "execution_count": 99,
   "id": "d7b1bde5",
   "metadata": {},
   "outputs": [
    {
     "data": {
      "text/plain": [
       "'hellohellohello'"
      ]
     },
     "execution_count": 99,
     "metadata": {},
     "output_type": "execute_result"
    }
   ],
   "source": [
    "'hello'* 3"
   ]
  },
  {
   "cell_type": "code",
   "execution_count": null,
   "id": "ac66bc0c",
   "metadata": {},
   "outputs": [],
   "source": [
    "#Given a string, return a string where for every character in the original there are three characters\n",
    "# 'hello' -----------> 'hhheeellllllooo'"
   ]
  },
  {
   "cell_type": "code",
   "execution_count": 102,
   "id": "9f29fb7a",
   "metadata": {},
   "outputs": [
    {
     "name": "stdout",
     "output_type": "stream",
     "text": [
      "hhh\n",
      "hhheee\n",
      "hhheeelll\n",
      "hhheeellllll\n",
      "hhheeellllllooo\n"
     ]
    }
   ],
   "source": [
    "s =''\n",
    "for i in 'hello':\n",
    "    s = s+ (i*3)\n",
    "    print(s,end='\\n')    "
   ]
  },
  {
   "cell_type": "code",
   "execution_count": null,
   "id": "55a1b17c",
   "metadata": {},
   "outputs": [],
   "source": [
    "#Looping and Counting\n",
    "# count the number of 'a's in alphabets"
   ]
  },
  {
   "cell_type": "code",
   "execution_count": null,
   "id": "0fd7b17a",
   "metadata": {},
   "outputs": [],
   "source": []
  },
  {
   "cell_type": "code",
   "execution_count": null,
   "id": "513ce611",
   "metadata": {},
   "outputs": [],
   "source": [
    "#Given a input string,If the string length is less than 3, print string is too short.\n",
    "#If not create a string made up  of the first 3 and the last 3 chars from a given input string."
   ]
  },
  {
   "cell_type": "code",
   "execution_count": 4,
   "id": "KjbpH4yVaTGt",
   "metadata": {
    "colab": {
     "base_uri": "https://localhost:8080/"
    },
    "id": "KjbpH4yVaTGt",
    "outputId": "1a90dcc0-01a5-40b4-d6b8-8082b3a5bb72"
   },
   "outputs": [],
   "source": [
    "#range"
   ]
  },
  {
   "cell_type": "code",
   "execution_count": 5,
   "id": "0acf91fd",
   "metadata": {
    "id": "0acf91fd"
   },
   "outputs": [],
   "source": [
    "#Lists\n",
    "#collection objects\n",
    "#Mutable objects \n",
    "#Ordered "
   ]
  },
  {
   "cell_type": "code",
   "execution_count": 103,
   "id": "iZeRv_jayVoR",
   "metadata": {
    "colab": {
     "base_uri": "https://localhost:8080/"
    },
    "id": "iZeRv_jayVoR",
    "outputId": "698bd19a-0a1f-40d7-de0a-7240a4f169d0"
   },
   "outputs": [],
   "source": [
    "list1 = list()\n",
    "list1 = []"
   ]
  },
  {
   "cell_type": "code",
   "execution_count": 105,
   "id": "821305ee",
   "metadata": {},
   "outputs": [
    {
     "data": {
      "text/plain": [
       "list"
      ]
     },
     "execution_count": 105,
     "metadata": {},
     "output_type": "execute_result"
    }
   ],
   "source": [
    "list1 = [1,2,2.5,True,'hai',[1,2,3]]\n",
    "type(list1)"
   ]
  },
  {
   "cell_type": "code",
   "execution_count": 107,
   "id": "bde0300a",
   "metadata": {},
   "outputs": [
    {
     "data": {
      "text/plain": [
       "3"
      ]
     },
     "execution_count": 107,
     "metadata": {},
     "output_type": "execute_result"
    }
   ],
   "source": [
    "list1[5][2]"
   ]
  },
  {
   "cell_type": "code",
   "execution_count": 109,
   "id": "e5998616",
   "metadata": {},
   "outputs": [
    {
     "data": {
      "text/plain": [
       "3"
      ]
     },
     "execution_count": 109,
     "metadata": {},
     "output_type": "execute_result"
    }
   ],
   "source": [
    "list1[-1][-1]"
   ]
  },
  {
   "cell_type": "code",
   "execution_count": 110,
   "id": "3f8fde99",
   "metadata": {},
   "outputs": [
    {
     "data": {
      "text/plain": [
       "[1, 2, 2.5, True, 'hai', [1, 2, 3], 9]"
      ]
     },
     "execution_count": 110,
     "metadata": {},
     "output_type": "execute_result"
    }
   ],
   "source": [
    "list1.append(9)\n",
    "list1"
   ]
  },
  {
   "cell_type": "code",
   "execution_count": 111,
   "id": "32314609",
   "metadata": {},
   "outputs": [
    {
     "data": {
      "text/plain": [
       "[1, 2, 2.5, True, 'hai', [1, 2, 3], 9, [1, 9]]"
      ]
     },
     "execution_count": 111,
     "metadata": {},
     "output_type": "execute_result"
    }
   ],
   "source": [
    "list1.append([1,9])\n",
    "list1"
   ]
  },
  {
   "cell_type": "code",
   "execution_count": 112,
   "id": "619c6aab",
   "metadata": {},
   "outputs": [
    {
     "data": {
      "text/plain": [
       "[1, 2, 2.5, True, 'hai', [1, 2, 3], 9, [1, 9], 1, 9]"
      ]
     },
     "execution_count": 112,
     "metadata": {},
     "output_type": "execute_result"
    }
   ],
   "source": [
    "list1.extend([1,9])\n",
    "list1"
   ]
  },
  {
   "cell_type": "code",
   "execution_count": 106,
   "id": "-C3B5t0FbEDL",
   "metadata": {
    "id": "-C3B5t0FbEDL"
   },
   "outputs": [],
   "source": [
    "#append\n",
    "#extend\n",
    "#insert\n",
    "#pop\n",
    "#remove"
   ]
  },
  {
   "cell_type": "code",
   "execution_count": null,
   "id": "95169c5f",
   "metadata": {
    "colab": {
     "base_uri": "https://localhost:8080/"
    },
    "id": "95169c5f",
    "outputId": "b69ab510-8426-44e7-baa1-d274c3016627"
   },
   "outputs": [],
   "source": [
    "#Suppose you are given a list of numbers. You need to find the corresponding squares of these numbers\n",
    "# save it to a new list"
   ]
  },
  {
   "cell_type": "code",
   "execution_count": 115,
   "id": "y9JtLx_Q0MJR",
   "metadata": {
    "colab": {
     "base_uri": "https://localhost:8080/"
    },
    "id": "y9JtLx_Q0MJR",
    "outputId": "57812776-6f4d-4fa5-bc34-6561f7357782"
   },
   "outputs": [],
   "source": [
    "list1 =[1,2,3,4,5]"
   ]
  },
  {
   "cell_type": "code",
   "execution_count": 116,
   "id": "Dnlgyv1X0mZU",
   "metadata": {
    "colab": {
     "base_uri": "https://localhost:8080/"
    },
    "id": "Dnlgyv1X0mZU",
    "outputId": "5440b83b-8c46-49b6-c30a-b83d0a0bee17"
   },
   "outputs": [
    {
     "data": {
      "text/plain": [
       "[1, 4, 9, 16, 25]"
      ]
     },
     "execution_count": 116,
     "metadata": {},
     "output_type": "execute_result"
    }
   ],
   "source": [
    "list2 =[]\n",
    "for i in list1:\n",
    "    list2.append(i**2)\n",
    "list2"
   ]
  },
  {
   "cell_type": "code",
   "execution_count": 117,
   "id": "5dfe5fab",
   "metadata": {
    "id": "5dfe5fab"
   },
   "outputs": [
    {
     "data": {
      "text/plain": [
       "[1, 4, 9, 16, 25]"
      ]
     },
     "execution_count": 117,
     "metadata": {},
     "output_type": "execute_result"
    }
   ],
   "source": [
    "[i**2 for i in list1]  #list comprehension"
   ]
  },
  {
   "cell_type": "code",
   "execution_count": 118,
   "id": "efe8427f",
   "metadata": {
    "id": "efe8427f"
   },
   "outputs": [],
   "source": [
    "#Write code to add ‘horseback riding’ to the third position (i.e., right before volleyball) in the list sports.\n",
    "sports = ['cricket', 'football', 'volleyball', 'baseball', 'softball', 'track and field', 'curling', 'ping pong', 'hockey']"
   ]
  },
  {
   "cell_type": "code",
   "execution_count": 119,
   "id": "774fa7aa",
   "metadata": {},
   "outputs": [
    {
     "data": {
      "text/plain": [
       "['cricket',\n",
       " 'football',\n",
       " 'horseback riding',\n",
       " 'volleyball',\n",
       " 'baseball',\n",
       " 'softball',\n",
       " 'track and field',\n",
       " 'curling',\n",
       " 'ping pong',\n",
       " 'hockey']"
      ]
     },
     "execution_count": 119,
     "metadata": {},
     "output_type": "execute_result"
    }
   ],
   "source": [
    "sports.insert(2,'horseback riding')\n",
    "sports"
   ]
  },
  {
   "cell_type": "code",
   "execution_count": 128,
   "id": "22790fed",
   "metadata": {
    "id": "22790fed"
   },
   "outputs": [],
   "source": [
    "#Write code to take ‘London’ out of the list trav_dest.\n",
    "trav_dest = ['Beirut', 'Milan', 'Pittsburgh', 'Buenos Aires', 'Nairobi', 'Kathmandu', 'Osaka', 'London', 'Melbourne']"
   ]
  },
  {
   "cell_type": "code",
   "execution_count": 120,
   "id": "00ad4f2b",
   "metadata": {
    "id": "00ad4f2b"
   },
   "outputs": [
    {
     "data": {
      "text/plain": [
       "[1, 2, 3, 4, 5]"
      ]
     },
     "execution_count": 120,
     "metadata": {},
     "output_type": "execute_result"
    }
   ],
   "source": [
    "list1"
   ]
  },
  {
   "cell_type": "code",
   "execution_count": 123,
   "id": "a2ed494e",
   "metadata": {},
   "outputs": [
    {
     "data": {
      "text/plain": [
       "[1, 3]"
      ]
     },
     "execution_count": 123,
     "metadata": {},
     "output_type": "execute_result"
    }
   ],
   "source": [
    "list1.pop(1)\n",
    "list1"
   ]
  },
  {
   "cell_type": "code",
   "execution_count": 129,
   "id": "d84e3e99",
   "metadata": {},
   "outputs": [
    {
     "data": {
      "text/plain": [
       "['Beirut',\n",
       " 'Milan',\n",
       " 'Pittsburgh',\n",
       " 'Buenos Aires',\n",
       " 'Nairobi',\n",
       " 'Kathmandu',\n",
       " 'Osaka',\n",
       " 'Melbourne']"
      ]
     },
     "execution_count": 129,
     "metadata": {},
     "output_type": "execute_result"
    }
   ],
   "source": [
    "trav_dest.remove('London')\n",
    "trav_dest"
   ]
  },
  {
   "cell_type": "markdown",
   "id": "35f4eb64",
   "metadata": {},
   "source": [
    "#### Tuples"
   ]
  },
  {
   "cell_type": "code",
   "execution_count": 130,
   "id": "967a024b",
   "metadata": {
    "id": "967a024b"
   },
   "outputs": [
    {
     "data": {
      "text/plain": [
       "tuple"
      ]
     },
     "execution_count": 130,
     "metadata": {},
     "output_type": "execute_result"
    }
   ],
   "source": [
    "#In Python tuples are very similar to lists, however, unlike lists they are *immutable* meaning they can not be changed. \n",
    "tup = ()\n",
    "type(tup)"
   ]
  },
  {
   "cell_type": "code",
   "execution_count": 131,
   "id": "86545467",
   "metadata": {},
   "outputs": [
    {
     "data": {
      "text/plain": [
       "tuple"
      ]
     },
     "execution_count": 131,
     "metadata": {},
     "output_type": "execute_result"
    }
   ],
   "source": [
    "tup = tuple()\n",
    "type(tup)"
   ]
  },
  {
   "cell_type": "code",
   "execution_count": 132,
   "id": "d2a942d7",
   "metadata": {},
   "outputs": [],
   "source": [
    "tup = (1,2,[2,3],'hai')"
   ]
  },
  {
   "cell_type": "code",
   "execution_count": 133,
   "id": "6fc933b8",
   "metadata": {
    "id": "6fc933b8"
   },
   "outputs": [
    {
     "ename": "TypeError",
     "evalue": "'tuple' object does not support item assignment",
     "output_type": "error",
     "traceback": [
      "\u001b[1;31m---------------------------------------------------------------------------\u001b[0m",
      "\u001b[1;31mTypeError\u001b[0m                                 Traceback (most recent call last)",
      "Input \u001b[1;32mIn [133]\u001b[0m, in \u001b[0;36m<cell line: 2>\u001b[1;34m()\u001b[0m\n\u001b[0;32m      1\u001b[0m \u001b[38;5;66;03m#immutable\u001b[39;00m\n\u001b[1;32m----> 2\u001b[0m tup[\u001b[38;5;241m0\u001b[39m] \u001b[38;5;241m=\u001b[39m\u001b[38;5;241m9\u001b[39m\n",
      "\u001b[1;31mTypeError\u001b[0m: 'tuple' object does not support item assignment"
     ]
    }
   ],
   "source": [
    "#immutable\n",
    "tup[0] =9"
   ]
  },
  {
   "cell_type": "code",
   "execution_count": 135,
   "id": "55df129e",
   "metadata": {},
   "outputs": [
    {
     "data": {
      "text/plain": [
       "1"
      ]
     },
     "execution_count": 135,
     "metadata": {},
     "output_type": "execute_result"
    }
   ],
   "source": [
    "tup.index(2)"
   ]
  },
  {
   "cell_type": "markdown",
   "id": "0d8e4980",
   "metadata": {},
   "source": [
    "#### Set"
   ]
  },
  {
   "cell_type": "code",
   "execution_count": 136,
   "id": "3934d07f",
   "metadata": {},
   "outputs": [],
   "source": [
    "#unordered collection of unique elements\n",
    "#Sets cannot have duplicates.\n",
    "s  = set()"
   ]
  },
  {
   "cell_type": "code",
   "execution_count": 137,
   "id": "139dc707",
   "metadata": {},
   "outputs": [
    {
     "data": {
      "text/plain": [
       "set"
      ]
     },
     "execution_count": 137,
     "metadata": {},
     "output_type": "execute_result"
    }
   ],
   "source": [
    "type(s)"
   ]
  },
  {
   "cell_type": "code",
   "execution_count": 138,
   "id": "3c6aeabf",
   "metadata": {},
   "outputs": [
    {
     "data": {
      "text/plain": [
       "{1, 2, 4, 5, 6, 7, 8}"
      ]
     },
     "execution_count": 138,
     "metadata": {},
     "output_type": "execute_result"
    }
   ],
   "source": [
    "s1 = {1,2,2,4,5,6,7,7,8}\n",
    "s1"
   ]
  },
  {
   "cell_type": "code",
   "execution_count": null,
   "id": "2a921898",
   "metadata": {},
   "outputs": [],
   "source": []
  },
  {
   "cell_type": "code",
   "execution_count": 141,
   "id": "79f01ba1",
   "metadata": {},
   "outputs": [
    {
     "data": {
      "text/plain": [
       "[1, 2, 3, 4, 5, 6]"
      ]
     },
     "execution_count": 141,
     "metadata": {},
     "output_type": "execute_result"
    }
   ],
   "source": [
    "#Give a list  extract the unique elements from the list\n",
    "li =[1,2,3,3,4,5,6,6]\n",
    "new = list(set(li))\n",
    "new"
   ]
  }
 ],
 "metadata": {
  "colab": {
   "name": "IBM_Feb_22.ipynb",
   "provenance": []
  },
  "kernelspec": {
   "display_name": "Python 3 (ipykernel)",
   "language": "python",
   "name": "python3"
  },
  "language_info": {
   "codemirror_mode": {
    "name": "ipython",
    "version": 3
   },
   "file_extension": ".py",
   "mimetype": "text/x-python",
   "name": "python",
   "nbconvert_exporter": "python",
   "pygments_lexer": "ipython3",
   "version": "3.9.13"
  }
 },
 "nbformat": 4,
 "nbformat_minor": 5
}
