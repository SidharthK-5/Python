{
 "cells": [
  {
   "cell_type": "code",
   "execution_count": 5,
   "id": "95056802",
   "metadata": {},
   "outputs": [
    {
     "name": "stdout",
     "output_type": "stream",
     "text": [
      "alphabets\n",
      "0     a\n",
      "1     b\n",
      "2     c\n",
      "3     e\n",
      "4     d\n",
      "5     f\n",
      "6     g\n",
      "7     h\n",
      "8     i\n",
      "9     j\n",
      "10    k\n",
      "11    l\n",
      "12    m\n",
      "13    n\n",
      "14    o\n",
      "15    p\n",
      "16    q\n",
      "17    r\n",
      "18    s\n",
      "19    t\n",
      "20    u\n",
      "21    v\n",
      "22    w\n",
      "23    x\n",
      "24    y\n",
      "25    z\n",
      "Name: alphabets, dtype:object\n"
     ]
    }
   ],
   "source": [
    "import pandas as pd\n",
    "\n",
    "# Convert 'inp' into a list\n",
    "inp = 'abcedfghijklmnopqrstuvwxyz'\n",
    "inp = list(inp)\n",
    "\n",
    "# Write your logic to take input from STDIN\n",
    "i = input()\n",
    "se = pd.Series(list(i))\n",
    "name = se.rename(i)\n",
    "\n",
    "# Write your logic to print output to STDOUT\n",
    "for k in range(10):\n",
    "    print(k,inp[k], sep='     ')\n",
    "for k in range(10, 26):\n",
    "    print(k,inp[k], sep='    ')\n",
    "\n",
    "#print(name)\n",
    "print(\"Name: \" + i + \", dtype: \" + str(se.dtype))"
   ]
  }
 ],
 "metadata": {
  "kernelspec": {
   "display_name": "Python 3 (ipykernel)",
   "language": "python",
   "name": "python3"
  },
  "language_info": {
   "codemirror_mode": {
    "name": "ipython",
    "version": 3
   },
   "file_extension": ".py",
   "mimetype": "text/x-python",
   "name": "python",
   "nbconvert_exporter": "python",
   "pygments_lexer": "ipython3",
   "version": "3.9.13"
  }
 },
 "nbformat": 4,
 "nbformat_minor": 5
}
