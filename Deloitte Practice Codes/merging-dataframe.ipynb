{
 "cells": [
  {
   "cell_type": "code",
   "execution_count": null,
   "id": "69b5d194",
   "metadata": {},
   "outputs": [],
   "source": [
    "import pandas as pd\n",
    "import numpy as np\n",
    "\n",
    "\n",
    "stp, enp, step = map(int, input().split())\n",
    "list2 = np.array(list(input().split()))\n",
    "first, second = map(str, input().split())\n",
    "n, pos = map(int, input().split())\n",
    "\n",
    "list1 = np.arange(stp, enp+1, step)\n",
    "list1 = pd.Series(list1)\n",
    "list2 = pd.Series(list2)\n",
    "\n",
    "\"\"\" Converting two Series into a DF\n",
    "    1. The 2 Series must be passed within []\n",
    "    2. Since we're not converting a dcit into DF, key= must be given. Else it will be taken as 0,1,2....\n",
    "    3. axis=1 means concat along columns, axis=0 means concat along indices\"\"\"\n",
    "DF = pd.concat([list1, list2], keys=[first, second], axis=1)\n",
    "\n",
    "if pos == 0:\n",
    "    print(DF.tail(n))\n",
    "else:\n",
    "    print(DF.head(n))"
   ]
  }
 ],
 "metadata": {
  "kernelspec": {
   "display_name": "Python 3 (ipykernel)",
   "language": "python",
   "name": "python3"
  },
  "language_info": {
   "codemirror_mode": {
    "name": "ipython",
    "version": 3
   },
   "file_extension": ".py",
   "mimetype": "text/x-python",
   "name": "python",
   "nbconvert_exporter": "python",
   "pygments_lexer": "ipython3",
   "version": "3.9.13"
  }
 },
 "nbformat": 4,
 "nbformat_minor": 5
}
