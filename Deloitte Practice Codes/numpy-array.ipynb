{
 "cells": [
  {
   "cell_type": "code",
   "execution_count": 4,
   "id": "336a1f07",
   "metadata": {},
   "outputs": [
    {
     "name": "stdout",
     "output_type": "stream",
     "text": [
      "2\n",
      "11\n",
      "3\n",
      "2\n",
      "5\n",
      "8\n",
      "11\n"
     ]
    }
   ],
   "source": [
    "import numpy as np\n",
    "\n",
    "# Write your logic to take input from STDIN\n",
    "stp = int(input())\n",
    "enp = int(input())\n",
    "step = int(input())\n",
    "\n",
    "# Check for condition and print appropriate output to STDOUT\n",
    "if (enp-stp)%step == 0 or stp+step < enp:\n",
    "    #  Your logic for operations\n",
    "    array = np.arange(stp, enp+1, step)\n",
    "    for i in array:\n",
    "        print(i)\n",
    "else:\n",
    "    print(\"Constraints are failing!\") # Don't change this message of the output, else your testcases will fail"
   ]
  },
  {
   "cell_type": "code",
   "execution_count": null,
   "id": "5e127277",
   "metadata": {},
   "outputs": [],
   "source": []
  }
 ],
 "metadata": {
  "kernelspec": {
   "display_name": "Python 3 (ipykernel)",
   "language": "python",
   "name": "python3"
  },
  "language_info": {
   "codemirror_mode": {
    "name": "ipython",
    "version": 3
   },
   "file_extension": ".py",
   "mimetype": "text/x-python",
   "name": "python",
   "nbconvert_exporter": "python",
   "pygments_lexer": "ipython3",
   "version": "3.9.13"
  }
 },
 "nbformat": 4,
 "nbformat_minor": 5
}
