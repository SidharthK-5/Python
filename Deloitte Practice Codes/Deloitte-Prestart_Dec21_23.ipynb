{
 "cells": [
  {
   "cell_type": "code",
   "execution_count": 1,
   "id": "HC-j7ErZrNaW",
   "metadata": {
    "id": "HC-j7ErZrNaW"
   },
   "outputs": [],
   "source": [
    "# Python Variable Name Rules\n",
    "# Must start with a letter or underscore _\n",
    "# Must consist of letters, numbers, and underscores\n",
    "# Case Sensitive"
   ]
  },
  {
   "cell_type": "code",
   "execution_count": 6,
   "id": "5e0bc7b4",
   "metadata": {},
   "outputs": [
    {
     "data": {
      "text/plain": [
       "10"
      ]
     },
     "execution_count": 6,
     "metadata": {},
     "output_type": "execute_result"
    }
   ],
   "source": [
    "a1 = 10\n",
    "a1"
   ]
  },
  {
   "cell_type": "code",
   "execution_count": null,
   "id": "a4ff06fe",
   "metadata": {},
   "outputs": [],
   "source": [
    "### Assign multiple values to multiple variables in a single line"
   ]
  },
  {
   "cell_type": "code",
   "execution_count": 9,
   "id": "83a05c46",
   "metadata": {},
   "outputs": [
    {
     "name": "stdout",
     "output_type": "stream",
     "text": [
      "100\n",
      "200\n"
     ]
    }
   ],
   "source": [
    "a = 100\n",
    "b = 200\n",
    "c = 300\n",
    "print(a)\n",
    "print(b)"
   ]
  },
  {
   "cell_type": "code",
   "execution_count": 10,
   "id": "39e30cd8",
   "metadata": {},
   "outputs": [
    {
     "data": {
      "text/plain": [
       "int"
      ]
     },
     "execution_count": 10,
     "metadata": {},
     "output_type": "execute_result"
    }
   ],
   "source": [
    "type(a)"
   ]
  },
  {
   "cell_type": "code",
   "execution_count": 11,
   "id": "c4f15099",
   "metadata": {},
   "outputs": [
    {
     "data": {
      "text/plain": [
       "float"
      ]
     },
     "execution_count": 11,
     "metadata": {},
     "output_type": "execute_result"
    }
   ],
   "source": [
    "c = 10.5\n",
    "type(c)"
   ]
  },
  {
   "cell_type": "code",
   "execution_count": 12,
   "id": "5902e9ef",
   "metadata": {},
   "outputs": [
    {
     "data": {
      "text/plain": [
       "bool"
      ]
     },
     "execution_count": 12,
     "metadata": {},
     "output_type": "execute_result"
    }
   ],
   "source": [
    "d = True\n",
    "type(d)"
   ]
  },
  {
   "cell_type": "code",
   "execution_count": 13,
   "id": "ebc0adcd",
   "metadata": {},
   "outputs": [],
   "source": [
    "var = \"hai8797%%%4$$\"\n",
    "var1 = \"hai8797%%%4$$\""
   ]
  },
  {
   "cell_type": "code",
   "execution_count": 15,
   "id": "e2201366",
   "metadata": {},
   "outputs": [
    {
     "data": {
      "text/plain": [
       "str"
      ]
     },
     "execution_count": 15,
     "metadata": {},
     "output_type": "execute_result"
    }
   ],
   "source": [
    "# check type\n",
    "type(var1)"
   ]
  },
  {
   "cell_type": "code",
   "execution_count": 17,
   "id": "7ce07c33",
   "metadata": {},
   "outputs": [
    {
     "data": {
      "text/plain": [
       "900"
      ]
     },
     "execution_count": 17,
     "metadata": {},
     "output_type": "execute_result"
    }
   ],
   "source": [
    "### Assign same value to multiple variables\n",
    "a = b = c = 900\n",
    "c"
   ]
  },
  {
   "cell_type": "code",
   "execution_count": 22,
   "id": "Y31PvLnNG6U3",
   "metadata": {
    "id": "Y31PvLnNG6U3"
   },
   "outputs": [],
   "source": [
    "# type\n",
    "a = float(a)"
   ]
  },
  {
   "cell_type": "code",
   "execution_count": 23,
   "id": "9881eaa5",
   "metadata": {},
   "outputs": [
    {
     "data": {
      "text/plain": [
       "float"
      ]
     },
     "execution_count": 23,
     "metadata": {},
     "output_type": "execute_result"
    }
   ],
   "source": [
    "type(a)"
   ]
  },
  {
   "cell_type": "code",
   "execution_count": 24,
   "id": "b5cb23ab",
   "metadata": {},
   "outputs": [
    {
     "data": {
      "text/plain": [
       "str"
      ]
     },
     "execution_count": 24,
     "metadata": {},
     "output_type": "execute_result"
    }
   ],
   "source": [
    "c = \"10\"\n",
    "type(c)"
   ]
  },
  {
   "cell_type": "code",
   "execution_count": 27,
   "id": "6364c75e",
   "metadata": {},
   "outputs": [],
   "source": [
    "c = int(c)"
   ]
  },
  {
   "cell_type": "code",
   "execution_count": 1,
   "id": "f9d89a2e",
   "metadata": {},
   "outputs": [],
   "source": [
    "# convert to float or int"
   ]
  },
  {
   "cell_type": "code",
   "execution_count": null,
   "id": "c802511a",
   "metadata": {},
   "outputs": [],
   "source": [
    "# Print statements in different format"
   ]
  },
  {
   "cell_type": "code",
   "execution_count": 29,
   "id": "a13ab4c5",
   "metadata": {},
   "outputs": [
    {
     "name": "stdout",
     "output_type": "stream",
     "text": [
      "The value of a is: 900.0\n"
     ]
    }
   ],
   "source": [
    "print(\"The value of a is:\", a)"
   ]
  },
  {
   "cell_type": "code",
   "execution_count": 32,
   "id": "7cb385d5",
   "metadata": {},
   "outputs": [
    {
     "name": "stdout",
     "output_type": "stream",
     "text": [
      "The value's of a is 900.0\n"
     ]
    }
   ],
   "source": [
    "print(\"The value's of a is {}\".format(a))"
   ]
  },
  {
   "cell_type": "code",
   "execution_count": 31,
   "id": "fef7944a",
   "metadata": {},
   "outputs": [
    {
     "name": "stdout",
     "output_type": "stream",
     "text": [
      "The value of a is :900.0\n"
     ]
    }
   ],
   "source": [
    "print(f\"The value of a is :{a}\")"
   ]
  },
  {
   "cell_type": "code",
   "execution_count": 20,
   "id": "32593944",
   "metadata": {
    "colab": {
     "base_uri": "https://localhost:8080/"
    },
    "id": "32593944",
    "outputId": "6300737b-2778-4855-95bd-54859c5c1e52"
   },
   "outputs": [
    {
     "name": "stdout",
     "output_type": "stream",
     "text": [
      "17\n"
     ]
    }
   ],
   "source": [
    "# Assignment statement\n",
    "x = 8\n",
    "# Assignment with expression\n",
    "x = x + 9\n",
    "# Print statement\n",
    "print(x)"
   ]
  },
  {
   "cell_type": "code",
   "execution_count": 33,
   "id": "77806fa7",
   "metadata": {
    "colab": {
     "base_uri": "https://localhost:8080/"
    },
    "id": "77806fa7",
    "outputId": "fbeeadb6-b65e-4594-e767-9a64d1debde7"
   },
   "outputs": [
    {
     "name": "stdout",
     "output_type": "stream",
     "text": [
      "7\n",
      "-1\n",
      "12\n",
      "1\n",
      "81\n",
      "1.75\n",
      "1\n"
     ]
    }
   ],
   "source": [
    "# Arithmetic Operators\n",
    "# Addition\n",
    "print(3 + 4)\n",
    "# Subtraction\n",
    "print(3 - 4)\n",
    "# Multiplication\n",
    "print(3 * 4)\n",
    "# modulo operator\n",
    "print(3 % 2)\n",
    "# Exponentiation\n",
    "print(3**4)\n",
    "#  division\n",
    "print(7 / 4)\n",
    "# floor division\n",
    "print(7 // 4)"
   ]
  },
  {
   "cell_type": "code",
   "execution_count": 34,
   "id": "b95cee0e",
   "metadata": {},
   "outputs": [
    {
     "data": {
      "text/plain": [
       "True"
      ]
     },
     "execution_count": 34,
     "metadata": {},
     "output_type": "execute_result"
    }
   ],
   "source": [
    "a == b"
   ]
  },
  {
   "cell_type": "code",
   "execution_count": 37,
   "id": "d5149e46",
   "metadata": {},
   "outputs": [
    {
     "data": {
      "text/plain": [
       "900"
      ]
     },
     "execution_count": 37,
     "metadata": {},
     "output_type": "execute_result"
    }
   ],
   "source": [
    "b"
   ]
  },
  {
   "cell_type": "code",
   "execution_count": 39,
   "id": "ad2bf854",
   "metadata": {},
   "outputs": [
    {
     "data": {
      "text/plain": [
       "False"
      ]
     },
     "execution_count": 39,
     "metadata": {},
     "output_type": "execute_result"
    }
   ],
   "source": [
    "not ((a < 10) or (b > 100))"
   ]
  },
  {
   "cell_type": "raw",
   "id": "ceb9cd35",
   "metadata": {},
   "source": [
    "#### Relational operators\n",
    "Operator\t                             Description\t                                      Syntax\n",
    "<\t                               Less than: True if the left operand is less than the right\tx < y\n",
    "==\t                               Equal to: True if both operands are equal\t                x == y\n",
    "!=\t                               Not equal to – True if operands are not equal\t            x != y\n",
    ">=\t                               Greater than or equal to: True if left operand is            x >= y\n",
    "                                     greater than or equal to the right\t"
   ]
  },
  {
   "cell_type": "raw",
   "id": "86edccec",
   "metadata": {},
   "source": [
    "Logical operators\n",
    "Operator\t             Description\t                                              Example\n",
    "and\t             Returns True if both statements are true\t                     x < 5 and x < 10\n",
    "or\t             Returns True if one of the statements is true\t                 x < 5 or x < 4\n",
    "not\t             Reverse the result, returns False if the result is true \t     not(x < 5 and x < 10)"
   ]
  },
  {
   "cell_type": "code",
   "execution_count": 43,
   "id": "a71112b5",
   "metadata": {},
   "outputs": [
    {
     "name": "stdout",
     "output_type": "stream",
     "text": [
      "Enter a number123\n"
     ]
    }
   ],
   "source": [
    "# Get string object '123' from user input function and add value 1.\n",
    "inp1 = int(input(\"Enter a number\"))"
   ]
  },
  {
   "cell_type": "code",
   "execution_count": 44,
   "id": "87e2b2c7",
   "metadata": {},
   "outputs": [
    {
     "data": {
      "text/plain": [
       "int"
      ]
     },
     "execution_count": 44,
     "metadata": {},
     "output_type": "execute_result"
    }
   ],
   "source": [
    "type(inp1)"
   ]
  },
  {
   "cell_type": "code",
   "execution_count": 45,
   "id": "8b7d5b02",
   "metadata": {},
   "outputs": [
    {
     "data": {
      "text/plain": [
       "124"
      ]
     },
     "execution_count": 45,
     "metadata": {},
     "output_type": "execute_result"
    }
   ],
   "source": [
    "inp1 + 1"
   ]
  },
  {
   "cell_type": "code",
   "execution_count": 46,
   "id": "d3d1869f",
   "metadata": {},
   "outputs": [
    {
     "data": {
      "text/plain": [
       "'1231'"
      ]
     },
     "execution_count": 46,
     "metadata": {},
     "output_type": "execute_result"
    }
   ],
   "source": [
    "\"123\" + str(1)"
   ]
  },
  {
   "cell_type": "code",
   "execution_count": 47,
   "id": "b96c7766",
   "metadata": {
    "colab": {
     "base_uri": "https://localhost:8080/"
    },
    "id": "b96c7766",
    "outputId": "116cacc1-ba6a-46d4-b34b-cbd0dfa2f17e"
   },
   "outputs": [
    {
     "name": "stdout",
     "output_type": "stream",
     "text": [
      "5\n",
      "positive\n"
     ]
    }
   ],
   "source": [
    "# if -else\n",
    "inp1 = int(input())\n",
    "if inp1 > 0:\n",
    "    print(\"positive\")\n",
    "elif inp1 == 0:\n",
    "    print(\"zero\")\n",
    "else:\n",
    "    print(\"negative\")"
   ]
  },
  {
   "cell_type": "code",
   "execution_count": 51,
   "id": "XTK0jQ1jkDia",
   "metadata": {
    "id": "XTK0jQ1jkDia"
   },
   "outputs": [
    {
     "name": "stdout",
     "output_type": "stream",
     "text": [
      "1\n",
      "2000\n",
      "3\n",
      "2000\n"
     ]
    }
   ],
   "source": [
    "# Find the largest of the 3 using if-else\n",
    "a = int(input())\n",
    "b = int(input())\n",
    "c = int(input())\n",
    "if (a > b) and (a > c):\n",
    "    print(a)\n",
    "elif (b > c) and (b > a):\n",
    "    print(b)\n",
    "else:\n",
    "    print(c)"
   ]
  },
  {
   "cell_type": "code",
   "execution_count": null,
   "id": "2zmQz-GRlHUH",
   "metadata": {
    "id": "2zmQz-GRlHUH"
   },
   "outputs": [],
   "source": [
    "# Iterating over range 0 to n-1\n",
    "# Iterating over a String"
   ]
  },
  {
   "cell_type": "code",
   "execution_count": 54,
   "id": "beaebe9d",
   "metadata": {},
   "outputs": [
    {
     "name": "stdout",
     "output_type": "stream",
     "text": [
      "0\n",
      "1\n",
      "2\n",
      "3\n",
      "4\n"
     ]
    }
   ],
   "source": [
    "for i in range(0, 5, 1):\n",
    "    print(i)"
   ]
  },
  {
   "cell_type": "code",
   "execution_count": 55,
   "id": "4da5d5f4",
   "metadata": {},
   "outputs": [
    {
     "name": "stdout",
     "output_type": "stream",
     "text": [
      "0\n",
      "2\n",
      "4\n"
     ]
    }
   ],
   "source": [
    "for i in range(0, 5, 2):\n",
    "    print(i)"
   ]
  },
  {
   "cell_type": "code",
   "execution_count": 53,
   "id": "2d4ac4a7",
   "metadata": {},
   "outputs": [
    {
     "name": "stdout",
     "output_type": "stream",
     "text": [
      "0\n",
      "1\n",
      "2\n",
      "3\n",
      "4\n"
     ]
    }
   ],
   "source": [
    "for i in range(5):\n",
    "    print(i)"
   ]
  },
  {
   "cell_type": "code",
   "execution_count": 56,
   "id": "9dd4d168",
   "metadata": {},
   "outputs": [
    {
     "name": "stdout",
     "output_type": "stream",
     "text": [
      "5\n",
      "4\n",
      "3\n",
      "2\n",
      "1\n"
     ]
    }
   ],
   "source": [
    "# 5,4,3,2,1\n",
    "for i in range(5, 0, -1):\n",
    "    print(i)"
   ]
  },
  {
   "cell_type": "code",
   "execution_count": null,
   "id": "ab00d06f",
   "metadata": {
    "id": "ab00d06f"
   },
   "outputs": [],
   "source": [
    "# Strings\n",
    "# Strings are a collection of character where each character is again a string of length 1.\n",
    "# Strings are immutable objects"
   ]
  },
  {
   "cell_type": "code",
   "execution_count": 60,
   "id": "005a0a23",
   "metadata": {},
   "outputs": [
    {
     "data": {
      "text/plain": [
       "'a'"
      ]
     },
     "execution_count": 60,
     "metadata": {},
     "output_type": "execute_result"
    }
   ],
   "source": [
    "sent = \"We are learning Python\"\n",
    "sent[3]  # +ve index"
   ]
  },
  {
   "cell_type": "code",
   "execution_count": 63,
   "id": "f0d0e138",
   "metadata": {},
   "outputs": [
    {
     "data": {
      "text/plain": [
       "'h'"
      ]
     },
     "execution_count": 63,
     "metadata": {},
     "output_type": "execute_result"
    }
   ],
   "source": [
    "sent[-3]  # -ve index"
   ]
  },
  {
   "cell_type": "code",
   "execution_count": 66,
   "id": "2a25d596",
   "metadata": {},
   "outputs": [
    {
     "data": {
      "text/plain": [
       "'We are'"
      ]
     },
     "execution_count": 66,
     "metadata": {},
     "output_type": "execute_result"
    }
   ],
   "source": [
    "sent[0:6:1]"
   ]
  },
  {
   "cell_type": "code",
   "execution_count": 68,
   "id": "a4a673b3",
   "metadata": {},
   "outputs": [
    {
     "data": {
      "text/plain": [
       "'lann'"
      ]
     },
     "execution_count": 68,
     "metadata": {},
     "output_type": "execute_result"
    }
   ],
   "source": [
    "sent[7:15:2]"
   ]
  },
  {
   "cell_type": "code",
   "execution_count": 71,
   "id": "ab50d80c",
   "metadata": {},
   "outputs": [
    {
     "data": {
      "text/plain": [
       "'Python'"
      ]
     },
     "execution_count": 71,
     "metadata": {},
     "output_type": "execute_result"
    }
   ],
   "source": [
    "sent[-6:]"
   ]
  },
  {
   "cell_type": "code",
   "execution_count": 72,
   "id": "77bdc46a",
   "metadata": {},
   "outputs": [
    {
     "data": {
      "text/plain": [
       "'Pto'"
      ]
     },
     "execution_count": 72,
     "metadata": {},
     "output_type": "execute_result"
    }
   ],
   "source": [
    "sent[-6::2]"
   ]
  },
  {
   "cell_type": "code",
   "execution_count": 74,
   "id": "63f4d465",
   "metadata": {},
   "outputs": [
    {
     "data": {
      "text/plain": [
       "'nohtyP'"
      ]
     },
     "execution_count": 74,
     "metadata": {},
     "output_type": "execute_result"
    }
   ],
   "source": [
    "sent[-1:-7:-1]"
   ]
  },
  {
   "cell_type": "code",
   "execution_count": 75,
   "id": "35CErCL4majx",
   "metadata": {
    "colab": {
     "base_uri": "https://localhost:8080/",
     "height": 35
    },
    "id": "35CErCL4majx",
    "outputId": "f8ad0d23-79dd-4976-d7f7-4edc7bd17546"
   },
   "outputs": [
    {
     "data": {
      "text/plain": [
       "'nohtyP gninrael era eW'"
      ]
     },
     "execution_count": 75,
     "metadata": {},
     "output_type": "execute_result"
    }
   ],
   "source": [
    "# Reverse the string\n",
    "sent[-1::-1]"
   ]
  },
  {
   "cell_type": "code",
   "execution_count": 76,
   "id": "92a1fa07",
   "metadata": {},
   "outputs": [
    {
     "data": {
      "text/plain": [
       "'nohtyP gninrael era eW'"
      ]
     },
     "execution_count": 76,
     "metadata": {},
     "output_type": "execute_result"
    }
   ],
   "source": [
    "sent[::-1]"
   ]
  },
  {
   "cell_type": "code",
   "execution_count": 43,
   "id": "60Q-xTPMMm7x",
   "metadata": {
    "colab": {
     "base_uri": "https://localhost:8080/",
     "height": 183
    },
    "id": "60Q-xTPMMm7x",
    "outputId": "0d6ea9ca-fefb-4ad3-b6b6-475b4938b57f"
   },
   "outputs": [],
   "source": [
    "# positive - left to right\n",
    "# negative -  right to left\n",
    "# start index - included\n",
    "# end index - excluded"
   ]
  },
  {
   "cell_type": "code",
   "execution_count": 91,
   "id": "6da96d48",
   "metadata": {},
   "outputs": [],
   "source": [
    "sent = \"We are learning Python\""
   ]
  },
  {
   "cell_type": "code",
   "execution_count": 98,
   "id": "161d0bcb",
   "metadata": {},
   "outputs": [
    {
     "data": {
      "text/plain": [
       "'nohtyP'"
      ]
     },
     "execution_count": 98,
     "metadata": {},
     "output_type": "execute_result"
    }
   ],
   "source": [
    "sent[-1:-7:-1]"
   ]
  },
  {
   "cell_type": "code",
   "execution_count": null,
   "id": "e679adaf",
   "metadata": {},
   "outputs": [],
   "source": []
  },
  {
   "cell_type": "code",
   "execution_count": 77,
   "id": "1de24605",
   "metadata": {},
   "outputs": [
    {
     "ename": "TypeError",
     "evalue": "'str' object does not support item assignment",
     "output_type": "error",
     "traceback": [
      "\u001b[1;31m---------------------------------------------------------------------------\u001b[0m",
      "\u001b[1;31mTypeError\u001b[0m                                 Traceback (most recent call last)",
      "Input \u001b[1;32mIn [77]\u001b[0m, in \u001b[0;36m<cell line: 2>\u001b[1;34m()\u001b[0m\n\u001b[0;32m      1\u001b[0m \u001b[38;5;66;03m# immutable\u001b[39;00m\n\u001b[1;32m----> 2\u001b[0m sent[\u001b[38;5;241m0\u001b[39m] \u001b[38;5;241m=\u001b[39m \u001b[38;5;124m'\u001b[39m\u001b[38;5;124mp\u001b[39m\u001b[38;5;124m'\u001b[39m\n",
      "\u001b[1;31mTypeError\u001b[0m: 'str' object does not support item assignment"
     ]
    }
   ],
   "source": [
    "# immutable\n",
    "sent[0] = \"p\""
   ]
  },
  {
   "cell_type": "code",
   "execution_count": 79,
   "id": "b296d020",
   "metadata": {},
   "outputs": [
    {
     "name": "stdout",
     "output_type": "stream",
     "text": [
      "Help on method_descriptor:\n",
      "\n",
      "lower(self, /)\n",
      "    Return a copy of the string converted to lowercase.\n",
      "\n"
     ]
    }
   ],
   "source": [
    "help(str.lower)"
   ]
  },
  {
   "cell_type": "code",
   "execution_count": 80,
   "id": "53867512",
   "metadata": {},
   "outputs": [
    {
     "data": {
      "text/plain": [
       "'HELLO'"
      ]
     },
     "execution_count": 80,
     "metadata": {},
     "output_type": "execute_result"
    }
   ],
   "source": [
    "\"Hello\".upper()"
   ]
  },
  {
   "cell_type": "code",
   "execution_count": 85,
   "id": "20a2ad2a",
   "metadata": {},
   "outputs": [],
   "source": [
    "s = \"hello\"\n",
    "s = s.replace(\"h\", \"c\")"
   ]
  },
  {
   "cell_type": "code",
   "execution_count": 86,
   "id": "96ff7224",
   "metadata": {},
   "outputs": [
    {
     "data": {
      "text/plain": [
       "'cello'"
      ]
     },
     "execution_count": 86,
     "metadata": {},
     "output_type": "execute_result"
    }
   ],
   "source": [
    "s"
   ]
  },
  {
   "cell_type": "code",
   "execution_count": 88,
   "id": "f85da500",
   "metadata": {},
   "outputs": [
    {
     "data": {
      "text/plain": [
       "2"
      ]
     },
     "execution_count": 88,
     "metadata": {},
     "output_type": "execute_result"
    }
   ],
   "source": [
    "s.find(\"l\")"
   ]
  },
  {
   "cell_type": "code",
   "execution_count": 90,
   "id": "af3562c4",
   "metadata": {},
   "outputs": [
    {
     "data": {
      "text/plain": [
       "22"
      ]
     },
     "execution_count": 90,
     "metadata": {},
     "output_type": "execute_result"
    }
   ],
   "source": [
    "len(sent)"
   ]
  },
  {
   "cell_type": "code",
   "execution_count": 9,
   "id": "e2ea7881",
   "metadata": {
    "id": "e2ea7881"
   },
   "outputs": [],
   "source": [
    "# replace\n",
    "# lower\n",
    "# upper\n",
    "# find\n",
    "# concatenate strings\n",
    "# length"
   ]
  },
  {
   "cell_type": "code",
   "execution_count": null,
   "id": "ce38a45d",
   "metadata": {
    "id": "ce38a45d"
   },
   "outputs": [],
   "source": [
    "# String Indexing\n",
    "# Postive Indexing\n",
    "# Negative Indexing"
   ]
  },
  {
   "cell_type": "code",
   "execution_count": null,
   "id": "8ebed705",
   "metadata": {
    "id": "8ebed705"
   },
   "outputs": [],
   "source": [
    "# Slicing\n",
    "# Positive\n",
    "# Negative\n",
    "# Step Index based"
   ]
  },
  {
   "cell_type": "code",
   "execution_count": null,
   "id": "c983c6af",
   "metadata": {
    "id": "c983c6af"
   },
   "outputs": [],
   "source": [
    "# Searching a String\n",
    "# find() finds the first occurrence of the substring\n",
    "# If the substring is not found, find() returns -1"
   ]
  },
  {
   "cell_type": "code",
   "execution_count": null,
   "id": "57a6427a",
   "metadata": {
    "id": "57a6427a"
   },
   "outputs": [],
   "source": [
    "# Replace"
   ]
  },
  {
   "cell_type": "code",
   "execution_count": null,
   "id": "8619053f",
   "metadata": {
    "id": "8619053f"
   },
   "outputs": [],
   "source": [
    "# User Input\n",
    "# Write a program to prompt the user for hours and rate per hour to compute gross pay."
   ]
  },
  {
   "cell_type": "code",
   "execution_count": 99,
   "id": "d7b1bde5",
   "metadata": {},
   "outputs": [
    {
     "data": {
      "text/plain": [
       "'hellohellohello'"
      ]
     },
     "execution_count": 99,
     "metadata": {},
     "output_type": "execute_result"
    }
   ],
   "source": [
    "\"hello\" * 3"
   ]
  },
  {
   "cell_type": "code",
   "execution_count": null,
   "id": "ac66bc0c",
   "metadata": {},
   "outputs": [],
   "source": [
    "# Given a string, return a string where for every character in the original there are three characters\n",
    "# 'hello' -----------> 'hhheeellllllooo'"
   ]
  },
  {
   "cell_type": "code",
   "execution_count": 102,
   "id": "9f29fb7a",
   "metadata": {},
   "outputs": [
    {
     "name": "stdout",
     "output_type": "stream",
     "text": [
      "hhh\n",
      "hhheee\n",
      "hhheeelll\n",
      "hhheeellllll\n",
      "hhheeellllllooo\n"
     ]
    }
   ],
   "source": [
    "s = \"\"\n",
    "for i in \"hello\":\n",
    "    s = s + (i * 3)\n",
    "    print(s, end=\"\\n\")"
   ]
  },
  {
   "cell_type": "code",
   "execution_count": null,
   "id": "55a1b17c",
   "metadata": {},
   "outputs": [],
   "source": [
    "# Looping and Counting\n",
    "# count the number of 'a's in alphabets"
   ]
  },
  {
   "cell_type": "code",
   "execution_count": null,
   "id": "0fd7b17a",
   "metadata": {},
   "outputs": [],
   "source": []
  },
  {
   "cell_type": "code",
   "execution_count": null,
   "id": "513ce611",
   "metadata": {},
   "outputs": [],
   "source": [
    "# Given a input string,If the string length is less than 3, print string is too short.\n",
    "# If not create a string made up  of the first 3 and the last 3 chars from a given input string."
   ]
  },
  {
   "cell_type": "code",
   "execution_count": 4,
   "id": "KjbpH4yVaTGt",
   "metadata": {
    "colab": {
     "base_uri": "https://localhost:8080/"
    },
    "id": "KjbpH4yVaTGt",
    "outputId": "1a90dcc0-01a5-40b4-d6b8-8082b3a5bb72"
   },
   "outputs": [],
   "source": [
    "# range"
   ]
  },
  {
   "cell_type": "code",
   "execution_count": 5,
   "id": "0acf91fd",
   "metadata": {
    "id": "0acf91fd"
   },
   "outputs": [],
   "source": [
    "# Lists\n",
    "# collection objects\n",
    "# Mutable objects\n",
    "# Ordered"
   ]
  },
  {
   "cell_type": "code",
   "execution_count": 103,
   "id": "iZeRv_jayVoR",
   "metadata": {
    "colab": {
     "base_uri": "https://localhost:8080/"
    },
    "id": "iZeRv_jayVoR",
    "outputId": "698bd19a-0a1f-40d7-de0a-7240a4f169d0"
   },
   "outputs": [],
   "source": [
    "list1 = list()\n",
    "list1 = []"
   ]
  },
  {
   "cell_type": "code",
   "execution_count": 105,
   "id": "821305ee",
   "metadata": {},
   "outputs": [
    {
     "data": {
      "text/plain": [
       "list"
      ]
     },
     "execution_count": 105,
     "metadata": {},
     "output_type": "execute_result"
    }
   ],
   "source": [
    "list1 = [1, 2, 2.5, True, \"hai\", [1, 2, 3]]\n",
    "type(list1)"
   ]
  },
  {
   "cell_type": "code",
   "execution_count": 107,
   "id": "bde0300a",
   "metadata": {},
   "outputs": [
    {
     "data": {
      "text/plain": [
       "3"
      ]
     },
     "execution_count": 107,
     "metadata": {},
     "output_type": "execute_result"
    }
   ],
   "source": [
    "list1[5][2]"
   ]
  },
  {
   "cell_type": "code",
   "execution_count": 109,
   "id": "e5998616",
   "metadata": {},
   "outputs": [
    {
     "data": {
      "text/plain": [
       "3"
      ]
     },
     "execution_count": 109,
     "metadata": {},
     "output_type": "execute_result"
    }
   ],
   "source": [
    "list1[-1][-1]"
   ]
  },
  {
   "cell_type": "code",
   "execution_count": 110,
   "id": "3f8fde99",
   "metadata": {},
   "outputs": [
    {
     "data": {
      "text/plain": [
       "[1, 2, 2.5, True, 'hai', [1, 2, 3], 9]"
      ]
     },
     "execution_count": 110,
     "metadata": {},
     "output_type": "execute_result"
    }
   ],
   "source": [
    "list1.append(9)\n",
    "list1"
   ]
  },
  {
   "cell_type": "code",
   "execution_count": 111,
   "id": "32314609",
   "metadata": {},
   "outputs": [
    {
     "data": {
      "text/plain": [
       "[1, 2, 2.5, True, 'hai', [1, 2, 3], 9, [1, 9]]"
      ]
     },
     "execution_count": 111,
     "metadata": {},
     "output_type": "execute_result"
    }
   ],
   "source": [
    "list1.append([1, 9])\n",
    "list1"
   ]
  },
  {
   "cell_type": "code",
   "execution_count": 112,
   "id": "619c6aab",
   "metadata": {},
   "outputs": [
    {
     "data": {
      "text/plain": [
       "[1, 2, 2.5, True, 'hai', [1, 2, 3], 9, [1, 9], 1, 9]"
      ]
     },
     "execution_count": 112,
     "metadata": {},
     "output_type": "execute_result"
    }
   ],
   "source": [
    "list1.extend([1, 9])\n",
    "list1"
   ]
  },
  {
   "cell_type": "code",
   "execution_count": 106,
   "id": "-C3B5t0FbEDL",
   "metadata": {
    "id": "-C3B5t0FbEDL"
   },
   "outputs": [],
   "source": [
    "# append\n",
    "# extend\n",
    "# insert\n",
    "# pop\n",
    "# remove"
   ]
  },
  {
   "cell_type": "code",
   "execution_count": null,
   "id": "95169c5f",
   "metadata": {
    "colab": {
     "base_uri": "https://localhost:8080/"
    },
    "id": "95169c5f",
    "outputId": "b69ab510-8426-44e7-baa1-d274c3016627"
   },
   "outputs": [],
   "source": [
    "# Suppose you are given a list of numbers. You need to find the corresponding squares of these numbers\n",
    "# save it to a new list"
   ]
  },
  {
   "cell_type": "code",
   "execution_count": 115,
   "id": "y9JtLx_Q0MJR",
   "metadata": {
    "colab": {
     "base_uri": "https://localhost:8080/"
    },
    "id": "y9JtLx_Q0MJR",
    "outputId": "57812776-6f4d-4fa5-bc34-6561f7357782"
   },
   "outputs": [],
   "source": [
    "list1 = [1, 2, 3, 4, 5]"
   ]
  },
  {
   "cell_type": "code",
   "execution_count": 116,
   "id": "Dnlgyv1X0mZU",
   "metadata": {
    "colab": {
     "base_uri": "https://localhost:8080/"
    },
    "id": "Dnlgyv1X0mZU",
    "outputId": "5440b83b-8c46-49b6-c30a-b83d0a0bee17"
   },
   "outputs": [
    {
     "data": {
      "text/plain": [
       "[1, 4, 9, 16, 25]"
      ]
     },
     "execution_count": 116,
     "metadata": {},
     "output_type": "execute_result"
    }
   ],
   "source": [
    "list2 = []\n",
    "for i in list1:\n",
    "    list2.append(i**2)\n",
    "list2"
   ]
  },
  {
   "cell_type": "code",
   "execution_count": 117,
   "id": "5dfe5fab",
   "metadata": {
    "id": "5dfe5fab"
   },
   "outputs": [
    {
     "data": {
      "text/plain": [
       "[1, 4, 9, 16, 25]"
      ]
     },
     "execution_count": 117,
     "metadata": {},
     "output_type": "execute_result"
    }
   ],
   "source": [
    "[i**2 for i in list1]  # list comprehension"
   ]
  },
  {
   "cell_type": "code",
   "execution_count": 118,
   "id": "efe8427f",
   "metadata": {
    "id": "efe8427f"
   },
   "outputs": [],
   "source": [
    "# Write code to add ‘horseback riding’ to the third position (i.e., right before volleyball) in the list sports.\n",
    "sports = [\n",
    "    \"cricket\",\n",
    "    \"football\",\n",
    "    \"volleyball\",\n",
    "    \"baseball\",\n",
    "    \"softball\",\n",
    "    \"track and field\",\n",
    "    \"curling\",\n",
    "    \"ping pong\",\n",
    "    \"hockey\",\n",
    "]"
   ]
  },
  {
   "cell_type": "code",
   "execution_count": 119,
   "id": "774fa7aa",
   "metadata": {},
   "outputs": [
    {
     "data": {
      "text/plain": [
       "['cricket',\n",
       " 'football',\n",
       " 'horseback riding',\n",
       " 'volleyball',\n",
       " 'baseball',\n",
       " 'softball',\n",
       " 'track and field',\n",
       " 'curling',\n",
       " 'ping pong',\n",
       " 'hockey']"
      ]
     },
     "execution_count": 119,
     "metadata": {},
     "output_type": "execute_result"
    }
   ],
   "source": [
    "sports.insert(2, \"horseback riding\")\n",
    "sports"
   ]
  },
  {
   "cell_type": "code",
   "execution_count": 128,
   "id": "22790fed",
   "metadata": {
    "id": "22790fed"
   },
   "outputs": [],
   "source": [
    "# Write code to take ‘London’ out of the list trav_dest.\n",
    "trav_dest = [\n",
    "    \"Beirut\",\n",
    "    \"Milan\",\n",
    "    \"Pittsburgh\",\n",
    "    \"Buenos Aires\",\n",
    "    \"Nairobi\",\n",
    "    \"Kathmandu\",\n",
    "    \"Osaka\",\n",
    "    \"London\",\n",
    "    \"Melbourne\",\n",
    "]"
   ]
  },
  {
   "cell_type": "code",
   "execution_count": 120,
   "id": "00ad4f2b",
   "metadata": {
    "id": "00ad4f2b"
   },
   "outputs": [
    {
     "data": {
      "text/plain": [
       "[1, 2, 3, 4, 5]"
      ]
     },
     "execution_count": 120,
     "metadata": {},
     "output_type": "execute_result"
    }
   ],
   "source": [
    "list1"
   ]
  },
  {
   "cell_type": "code",
   "execution_count": 123,
   "id": "a2ed494e",
   "metadata": {},
   "outputs": [
    {
     "data": {
      "text/plain": [
       "[1, 3]"
      ]
     },
     "execution_count": 123,
     "metadata": {},
     "output_type": "execute_result"
    }
   ],
   "source": [
    "list1.pop(1)\n",
    "list1"
   ]
  },
  {
   "cell_type": "code",
   "execution_count": 129,
   "id": "d84e3e99",
   "metadata": {},
   "outputs": [
    {
     "data": {
      "text/plain": [
       "['Beirut',\n",
       " 'Milan',\n",
       " 'Pittsburgh',\n",
       " 'Buenos Aires',\n",
       " 'Nairobi',\n",
       " 'Kathmandu',\n",
       " 'Osaka',\n",
       " 'Melbourne']"
      ]
     },
     "execution_count": 129,
     "metadata": {},
     "output_type": "execute_result"
    }
   ],
   "source": [
    "trav_dest.remove(\"London\")\n",
    "trav_dest"
   ]
  },
  {
   "cell_type": "markdown",
   "id": "35f4eb64",
   "metadata": {},
   "source": [
    "#### Tuples"
   ]
  },
  {
   "cell_type": "code",
   "execution_count": 130,
   "id": "967a024b",
   "metadata": {
    "id": "967a024b"
   },
   "outputs": [
    {
     "data": {
      "text/plain": [
       "tuple"
      ]
     },
     "execution_count": 130,
     "metadata": {},
     "output_type": "execute_result"
    }
   ],
   "source": [
    "# In Python tuples are very similar to lists, however, unlike lists they are *immutable* meaning they can not be changed.\n",
    "tup = ()\n",
    "type(tup)"
   ]
  },
  {
   "cell_type": "code",
   "execution_count": 131,
   "id": "86545467",
   "metadata": {},
   "outputs": [
    {
     "data": {
      "text/plain": [
       "tuple"
      ]
     },
     "execution_count": 131,
     "metadata": {},
     "output_type": "execute_result"
    }
   ],
   "source": [
    "tup = tuple()\n",
    "type(tup)"
   ]
  },
  {
   "cell_type": "code",
   "execution_count": 132,
   "id": "d2a942d7",
   "metadata": {},
   "outputs": [],
   "source": [
    "tup = (1, 2, [2, 3], \"hai\")"
   ]
  },
  {
   "cell_type": "code",
   "execution_count": 133,
   "id": "6fc933b8",
   "metadata": {
    "id": "6fc933b8"
   },
   "outputs": [
    {
     "ename": "TypeError",
     "evalue": "'tuple' object does not support item assignment",
     "output_type": "error",
     "traceback": [
      "\u001b[1;31m---------------------------------------------------------------------------\u001b[0m",
      "\u001b[1;31mTypeError\u001b[0m                                 Traceback (most recent call last)",
      "Input \u001b[1;32mIn [133]\u001b[0m, in \u001b[0;36m<cell line: 2>\u001b[1;34m()\u001b[0m\n\u001b[0;32m      1\u001b[0m \u001b[38;5;66;03m#immutable\u001b[39;00m\n\u001b[1;32m----> 2\u001b[0m tup[\u001b[38;5;241m0\u001b[39m] \u001b[38;5;241m=\u001b[39m\u001b[38;5;241m9\u001b[39m\n",
      "\u001b[1;31mTypeError\u001b[0m: 'tuple' object does not support item assignment"
     ]
    }
   ],
   "source": [
    "# immutable\n",
    "tup[0] = 9"
   ]
  },
  {
   "cell_type": "code",
   "execution_count": 135,
   "id": "55df129e",
   "metadata": {},
   "outputs": [
    {
     "data": {
      "text/plain": [
       "1"
      ]
     },
     "execution_count": 135,
     "metadata": {},
     "output_type": "execute_result"
    }
   ],
   "source": [
    "tup.index(2)"
   ]
  },
  {
   "cell_type": "markdown",
   "id": "0d8e4980",
   "metadata": {},
   "source": [
    "#### Set"
   ]
  },
  {
   "cell_type": "code",
   "execution_count": 4,
   "id": "3934d07f",
   "metadata": {},
   "outputs": [],
   "source": [
    "# unordered collection of unique elements\n",
    "# Sets cannot have duplicates.\n",
    "s = set()"
   ]
  },
  {
   "cell_type": "code",
   "execution_count": 137,
   "id": "139dc707",
   "metadata": {},
   "outputs": [
    {
     "data": {
      "text/plain": [
       "set"
      ]
     },
     "execution_count": 137,
     "metadata": {},
     "output_type": "execute_result"
    }
   ],
   "source": [
    "type(s)"
   ]
  },
  {
   "cell_type": "code",
   "execution_count": 138,
   "id": "3c6aeabf",
   "metadata": {},
   "outputs": [
    {
     "data": {
      "text/plain": [
       "{1, 2, 4, 5, 6, 7, 8}"
      ]
     },
     "execution_count": 138,
     "metadata": {},
     "output_type": "execute_result"
    }
   ],
   "source": [
    "s1 = {1, 2, 2, 4, 5, 6, 7, 7, 8}\n",
    "s1"
   ]
  },
  {
   "cell_type": "code",
   "execution_count": null,
   "id": "2a921898",
   "metadata": {},
   "outputs": [],
   "source": []
  },
  {
   "cell_type": "code",
   "execution_count": 141,
   "id": "79f01ba1",
   "metadata": {},
   "outputs": [
    {
     "data": {
      "text/plain": [
       "[1, 2, 3, 4, 5, 6]"
      ]
     },
     "execution_count": 141,
     "metadata": {},
     "output_type": "execute_result"
    }
   ],
   "source": [
    "# Give a list  extract the unique elements from the list\n",
    "li = [1, 2, 3, 3, 4, 5, 6, 6]\n",
    "new = list(set(li))\n",
    "new"
   ]
  },
  {
   "cell_type": "code",
   "execution_count": null,
   "id": "8e6b51f7",
   "metadata": {},
   "outputs": [],
   "source": []
  },
  {
   "cell_type": "markdown",
   "id": "cd93b45c",
   "metadata": {},
   "source": [
    "#### Dictionaries"
   ]
  },
  {
   "cell_type": "code",
   "execution_count": null,
   "id": "9df19a58",
   "metadata": {
    "id": "9df19a58"
   },
   "outputs": [],
   "source": [
    "# A Python dictionary consists of a key and then an associated value.\n",
    "# That value can be almost any Python object. So a dictionary object always has elements as key-value pairs\n",
    "# keys() method returns the list of keys in the dictionary object\n",
    "# values() method returns the list of values in the dictionary object\n",
    "# items() method returns the list of the keys and values\n",
    "# get() method takes the key as an argument and returns None if the key is not found in the dictionary."
   ]
  },
  {
   "cell_type": "code",
   "execution_count": 5,
   "id": "OE5mjBSH35-Z",
   "metadata": {
    "colab": {
     "base_uri": "https://localhost:8080/"
    },
    "id": "OE5mjBSH35-Z",
    "outputId": "5e8a545f-b89f-4bfe-dc4f-01b5942a654a"
   },
   "outputs": [],
   "source": [
    "bag = {\"books\": 2, \"mobile\": 1, \"pens\": 2}"
   ]
  },
  {
   "cell_type": "code",
   "execution_count": 6,
   "id": "8EhS-8B736Np",
   "metadata": {
    "colab": {
     "base_uri": "https://localhost:8080/"
    },
    "id": "8EhS-8B736Np",
    "outputId": "2ef803ce-37c8-4e4f-81e7-728851335aba"
   },
   "outputs": [],
   "source": [
    "dict1 = dict()\n",
    "dict1 = {}"
   ]
  },
  {
   "cell_type": "code",
   "execution_count": 7,
   "id": "b7f6640d",
   "metadata": {
    "id": "b7f6640d"
   },
   "outputs": [
    {
     "data": {
      "text/plain": [
       "dict_keys(['books', 'mobile', 'pens'])"
      ]
     },
     "execution_count": 7,
     "metadata": {},
     "output_type": "execute_result"
    }
   ],
   "source": [
    "# Dictionaries are like bags - no order\n",
    "bag.keys()"
   ]
  },
  {
   "cell_type": "code",
   "execution_count": 8,
   "id": "f9c2815c",
   "metadata": {},
   "outputs": [
    {
     "data": {
      "text/plain": [
       "dict_values([2, 1, 2])"
      ]
     },
     "execution_count": 8,
     "metadata": {},
     "output_type": "execute_result"
    }
   ],
   "source": [
    "bag.values()"
   ]
  },
  {
   "cell_type": "code",
   "execution_count": 9,
   "id": "1ed2f7cb",
   "metadata": {
    "colab": {
     "base_uri": "https://localhost:8080/"
    },
    "id": "1ed2f7cb",
    "outputId": "a6bc98e1-969c-4652-db0f-7793e49b7ae5"
   },
   "outputs": [
    {
     "data": {
      "text/plain": [
       "dict_items([('books', 2), ('mobile', 1), ('pens', 2)])"
      ]
     },
     "execution_count": 9,
     "metadata": {},
     "output_type": "execute_result"
    }
   ],
   "source": [
    "# Get the keys and their corresponding values\n",
    "bag.items()"
   ]
  },
  {
   "cell_type": "code",
   "execution_count": 10,
   "id": "rZypMZgw4nZi",
   "metadata": {
    "colab": {
     "base_uri": "https://localhost:8080/"
    },
    "id": "rZypMZgw4nZi",
    "outputId": "86ee6cc4-8a59-482e-f718-351fe09e06d1"
   },
   "outputs": [
    {
     "data": {
      "text/plain": [
       "2"
      ]
     },
     "execution_count": 10,
     "metadata": {},
     "output_type": "execute_result"
    }
   ],
   "source": [
    "bag[\"books\"]"
   ]
  },
  {
   "cell_type": "code",
   "execution_count": 11,
   "id": "40c768d3",
   "metadata": {},
   "outputs": [
    {
     "data": {
      "text/plain": [
       "2"
      ]
     },
     "execution_count": 11,
     "metadata": {},
     "output_type": "execute_result"
    }
   ],
   "source": [
    "bag.get(\"books\")"
   ]
  },
  {
   "cell_type": "code",
   "execution_count": 12,
   "id": "a93898c6",
   "metadata": {},
   "outputs": [
    {
     "data": {
      "text/plain": [
       "{'books': 2, 'mobile': 1, 'pens': 2, 'charger': 1}"
      ]
     },
     "execution_count": 12,
     "metadata": {},
     "output_type": "execute_result"
    }
   ],
   "source": [
    "bag[\"charger\"] = 1\n",
    "bag"
   ]
  },
  {
   "cell_type": "code",
   "execution_count": 13,
   "id": "4ca2c577",
   "metadata": {},
   "outputs": [
    {
     "data": {
      "text/plain": [
       "{'books': 2, 'mobile': 1, 'pens': 2}"
      ]
     },
     "execution_count": 13,
     "metadata": {},
     "output_type": "execute_result"
    }
   ],
   "source": [
    "del bag[\"charger\"]\n",
    "bag"
   ]
  },
  {
   "cell_type": "code",
   "execution_count": 16,
   "id": "5dfbaede",
   "metadata": {},
   "outputs": [
    {
     "data": {
      "text/plain": [
       "{'books': 2, 'mobile': 1, 'pens': 2, 'wallet': 'new'}"
      ]
     },
     "execution_count": 16,
     "metadata": {},
     "output_type": "execute_result"
    }
   ],
   "source": [
    "bag[\"wallet\"] = \"new\"\n",
    "bag"
   ]
  },
  {
   "cell_type": "code",
   "execution_count": null,
   "id": "5752e405",
   "metadata": {},
   "outputs": [],
   "source": []
  },
  {
   "cell_type": "code",
   "execution_count": 49,
   "id": "43d1184b",
   "metadata": {
    "id": "43d1184b"
   },
   "outputs": [],
   "source": [
    "# In Python a function is some reusable code that takes arguments(s) as input, does some computation,\n",
    "# and then returns a result or results"
   ]
  },
  {
   "cell_type": "code",
   "execution_count": null,
   "id": "62f5720b",
   "metadata": {
    "id": "62f5720b"
   },
   "outputs": [],
   "source": [
    "# def <function_name>(parameters):\n",
    "# <statments 1>\n",
    "# <statment 2>\n",
    "# return"
   ]
  },
  {
   "cell_type": "code",
   "execution_count": 19,
   "id": "0342d1ad",
   "metadata": {},
   "outputs": [],
   "source": [
    "def evenodd(x):\n",
    "    if x % 2 == 0:\n",
    "        return \"even\"\n",
    "    else:\n",
    "        return \"odd\""
   ]
  },
  {
   "cell_type": "code",
   "execution_count": 20,
   "id": "80477f06",
   "metadata": {
    "colab": {
     "base_uri": "https://localhost:8080/"
    },
    "id": "80477f06",
    "outputId": "e6508f17-dff0-4814-cd68-9aea112ae575"
   },
   "outputs": [
    {
     "data": {
      "text/plain": [
       "'even'"
      ]
     },
     "execution_count": 20,
     "metadata": {},
     "output_type": "execute_result"
    }
   ],
   "source": [
    "# even or odd function\n",
    "evenodd(6)"
   ]
  },
  {
   "cell_type": "code",
   "execution_count": 21,
   "id": "dWbK4s_Ljs7m",
   "metadata": {
    "id": "dWbK4s_Ljs7m"
   },
   "outputs": [],
   "source": [
    "# function for find the largest of 3 nos.\n",
    "def largest(a, b, c):\n",
    "    if (a > b) and (a > c):\n",
    "        print(a)\n",
    "    elif (b > c) and (b > a):\n",
    "        print(b)\n",
    "    else:\n",
    "        print(c)"
   ]
  },
  {
   "cell_type": "code",
   "execution_count": 25,
   "id": "fb42d7f3",
   "metadata": {
    "id": "fb42d7f3"
   },
   "outputs": [
    {
     "name": "stdout",
     "output_type": "stream",
     "text": [
      "30\n"
     ]
    }
   ],
   "source": [
    "# multiple i/p arguments\n",
    "# no i/p arguments\n",
    "largest(10, 20, 30)"
   ]
  },
  {
   "cell_type": "code",
   "execution_count": 15,
   "id": "gu-UkXkI7el6",
   "metadata": {
    "colab": {
     "base_uri": "https://localhost:8080/"
    },
    "id": "gu-UkXkI7el6",
    "outputId": "289f420c-345a-4baa-bb38-8412a2ce2e82"
   },
   "outputs": [],
   "source": [
    "# Write a function to Extract a list of first letters of each word in the uppercase form from a sentence\n",
    "# split()method"
   ]
  },
  {
   "cell_type": "code",
   "execution_count": 29,
   "id": "bb3caf4f",
   "metadata": {},
   "outputs": [
    {
     "data": {
      "text/plain": [
       "['h', 'llo how are you']"
      ]
     },
     "execution_count": 29,
     "metadata": {},
     "output_type": "execute_result"
    }
   ],
   "source": [
    "sent = \"hello how are you\"\n",
    "sent.split(\"e\", 1)"
   ]
  },
  {
   "cell_type": "code",
   "execution_count": null,
   "id": "7a00b1c7",
   "metadata": {
    "id": "7a00b1c7"
   },
   "outputs": [],
   "source": [
    "out = [\"H\", \"H\", \"A\", \"Y\"]"
   ]
  },
  {
   "cell_type": "code",
   "execution_count": 32,
   "id": "abc1293d",
   "metadata": {},
   "outputs": [],
   "source": [
    "def extractfirst(sentence):\n",
    "    ans = []\n",
    "    for i in sentence.split():\n",
    "        ans.append(i[0].upper())\n",
    "    return ans"
   ]
  },
  {
   "cell_type": "code",
   "execution_count": 36,
   "id": "5e3349fe",
   "metadata": {},
   "outputs": [],
   "source": [
    "def extractfirst1(sentence):\n",
    "    return [i[0].upper() for i in sentence.split()]"
   ]
  },
  {
   "cell_type": "code",
   "execution_count": 37,
   "id": "f62f95da",
   "metadata": {},
   "outputs": [
    {
     "data": {
      "text/plain": [
       "['H', 'H', 'A', 'Y']"
      ]
     },
     "execution_count": 37,
     "metadata": {},
     "output_type": "execute_result"
    }
   ],
   "source": [
    "extractfirst1(sent)"
   ]
  },
  {
   "cell_type": "code",
   "execution_count": 16,
   "id": "5YrAGFkAlUwo",
   "metadata": {
    "id": "5YrAGFkAlUwo"
   },
   "outputs": [],
   "source": [
    "# list comprehension"
   ]
  },
  {
   "cell_type": "code",
   "execution_count": null,
   "id": "1ceb600a",
   "metadata": {},
   "outputs": [],
   "source": [
    "# To fetch the cities whose length is greater than 6\n",
    "# To print even numbers in a list"
   ]
  },
  {
   "cell_type": "code",
   "execution_count": 38,
   "id": "47ea93b1",
   "metadata": {},
   "outputs": [],
   "source": [
    "# lambda function- anonymous\n",
    "add1 = lambda x, y: x + y"
   ]
  },
  {
   "cell_type": "code",
   "execution_count": 39,
   "id": "9f1b384b",
   "metadata": {
    "id": "9f1b384b"
   },
   "outputs": [
    {
     "data": {
      "text/plain": [
       "17"
      ]
     },
     "execution_count": 39,
     "metadata": {},
     "output_type": "execute_result"
    }
   ],
   "source": [
    "add1(9, 8)"
   ]
  },
  {
   "cell_type": "code",
   "execution_count": 40,
   "id": "09d93dbc",
   "metadata": {},
   "outputs": [],
   "source": [
    "list1 = [1, 2, 3, 4, 5, 6]"
   ]
  },
  {
   "cell_type": "code",
   "execution_count": 45,
   "id": "325ddd1b",
   "metadata": {
    "id": "325ddd1b"
   },
   "outputs": [
    {
     "data": {
      "text/plain": [
       "[1, 4, 9, 16, 25, 36]"
      ]
     },
     "execution_count": 45,
     "metadata": {},
     "output_type": "execute_result"
    }
   ],
   "source": [
    "list(map(lambda x: x**2, list1))"
   ]
  },
  {
   "cell_type": "code",
   "execution_count": 46,
   "id": "qjYezIGeocbV",
   "metadata": {
    "id": "qjYezIGeocbV"
   },
   "outputs": [
    {
     "name": "stdout",
     "output_type": "stream",
     "text": [
      "0\n",
      "1\n",
      "2\n",
      "3\n",
      "4\n"
     ]
    }
   ],
   "source": [
    "# While Loop\n",
    "# Print i as long as i is less than 5\n",
    "i = 0\n",
    "while i < 5:\n",
    "    print(i)\n",
    "    i += 1"
   ]
  },
  {
   "cell_type": "markdown",
   "id": "2015ba28",
   "metadata": {},
   "source": [
    "- Introduction to Python Programming: Data Types, Input/Output, basic functions\n",
    "- Control Structures: Conditional and Looping structures, User defined functions\n",
    "- Data Structures in Python: Strings, Lists\n",
    "- Advanced data structures: Tuple, Set, Dictionary\n",
    "\n"
   ]
  },
  {
   "cell_type": "markdown",
   "id": "a101f1c2",
   "metadata": {},
   "source": [
    "# **Numpy**\n",
    "\n",
    "* NumPy stands for Numerical Python and \n",
    "* Numpy is linear algebra library for python.\n",
    "* Numpy is incredibly fast.\n",
    "* NumPy handles large datasets effectively and efficiently\n",
    "* Provides support for **large multidimensional array objects**.\n",
    "\n",
    "  **Array**\n",
    "  * Arrays are a collection of elements/values, that can have one or more dimensions. \n",
    "    * An array of one dimension is called a **Vector** \n",
    "    * while having two dimensions is called a **Matrix**.\n",
    "\n",
    "* NumPy arrays are called **ndarray** or **N-dimensional arrays** and \n",
    "\n",
    "                    *They store elements of the same type*\n",
    "\n",
    "Note:\n",
    "> Numpy is know for **high-performance** and \n",
    "> provides **efficient storage and data operations** as *arrays grow in size.*\n",
    "\n"
   ]
  },
  {
   "cell_type": "markdown",
   "id": "58c6d75a",
   "metadata": {},
   "source": [
    "#### Creating ndarrays\n",
    "\n",
    "- 1D arrays can be be described simply by the number of values they contain.\n",
    "- The dimensions of a 2D array are described by the number of rows and columns in the array.numpy describes 2D arrays by first listing the number of rows then the number columns.\n",
    "- The dimensions of a 3D array are described by the number of layers the array contains, and the number of rows and columns in each layer. All layers must have the same number of rows and columns. numpy reports the shape of 3D arrays in the order layers, rows, column"
   ]
  },
  {
   "cell_type": "markdown",
   "id": "ce3f1722",
   "metadata": {},
   "source": [
    "###  **Size of NumPy array**\n",
    "* determine how many values there are in the array using the size attribute\n",
    "*  It just multiplies the number of ***rows*** by the number of ***columns*** in the ndarray:\n",
    "\n",
    "![image.png](data:image/png;base64,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)"
   ]
  },
  {
   "cell_type": "markdown",
   "id": "f3540006",
   "metadata": {},
   "source": [
    "####  **. Creating 1D NumPy Array**"
   ]
  },
  {
   "cell_type": "code",
   "execution_count": 47,
   "id": "121fd679",
   "metadata": {},
   "outputs": [],
   "source": [
    "import numpy as np"
   ]
  },
  {
   "cell_type": "code",
   "execution_count": 48,
   "id": "0de83cf9",
   "metadata": {},
   "outputs": [
    {
     "data": {
      "text/plain": [
       "array([1, 2, 3, 4, 5, 6])"
      ]
     },
     "execution_count": 48,
     "metadata": {},
     "output_type": "execute_result"
    }
   ],
   "source": [
    "a = np.array([1, 2, 3, 4, 5, 6])\n",
    "a"
   ]
  },
  {
   "cell_type": "code",
   "execution_count": 49,
   "id": "cf1d2d99",
   "metadata": {},
   "outputs": [
    {
     "data": {
      "text/plain": [
       "1"
      ]
     },
     "execution_count": 49,
     "metadata": {},
     "output_type": "execute_result"
    }
   ],
   "source": [
    "a.ndim"
   ]
  },
  {
   "cell_type": "code",
   "execution_count": 50,
   "id": "dfd110ad",
   "metadata": {},
   "outputs": [
    {
     "data": {
      "text/plain": [
       "(6,)"
      ]
     },
     "execution_count": 50,
     "metadata": {},
     "output_type": "execute_result"
    }
   ],
   "source": [
    "a.shape"
   ]
  },
  {
   "cell_type": "code",
   "execution_count": 51,
   "id": "54eb3888",
   "metadata": {},
   "outputs": [
    {
     "data": {
      "text/plain": [
       "array([[1, 2, 3],\n",
       "       [4, 5, 6]])"
      ]
     },
     "execution_count": 51,
     "metadata": {},
     "output_type": "execute_result"
    }
   ],
   "source": [
    "b = np.array([[1, 2, 3], [4, 5, 6]])\n",
    "b"
   ]
  },
  {
   "cell_type": "code",
   "execution_count": 52,
   "id": "4682f6d2",
   "metadata": {},
   "outputs": [
    {
     "data": {
      "text/plain": [
       "2"
      ]
     },
     "execution_count": 52,
     "metadata": {},
     "output_type": "execute_result"
    }
   ],
   "source": [
    "b.ndim"
   ]
  },
  {
   "cell_type": "code",
   "execution_count": 53,
   "id": "4f2e93bd",
   "metadata": {},
   "outputs": [
    {
     "data": {
      "text/plain": [
       "(2, 3)"
      ]
     },
     "execution_count": 53,
     "metadata": {},
     "output_type": "execute_result"
    }
   ],
   "source": [
    "b.shape"
   ]
  },
  {
   "cell_type": "code",
   "execution_count": 54,
   "id": "8d79009a",
   "metadata": {},
   "outputs": [
    {
     "data": {
      "text/plain": [
       "6"
      ]
     },
     "execution_count": 54,
     "metadata": {},
     "output_type": "execute_result"
    }
   ],
   "source": [
    "b.size"
   ]
  },
  {
   "cell_type": "markdown",
   "id": "5daf2359",
   "metadata": {},
   "source": [
    "**If heterogenous data entered?**\n",
    "\n",
    "* values will be upcast if the types do not match:"
   ]
  },
  {
   "cell_type": "code",
   "execution_count": 63,
   "id": "fd28d330",
   "metadata": {},
   "outputs": [
    {
     "data": {
      "text/plain": [
       "array([[1. , 2.5, 3. ],\n",
       "       [4. , 5. , 6. ]])"
      ]
     },
     "execution_count": 63,
     "metadata": {},
     "output_type": "execute_result"
    }
   ],
   "source": [
    "b = np.array([[1, 2.5, 3], [4, 5, 6]])\n",
    "b"
   ]
  },
  {
   "cell_type": "code",
   "execution_count": 64,
   "id": "79ab1653",
   "metadata": {},
   "outputs": [
    {
     "data": {
      "text/plain": [
       "numpy.ndarray"
      ]
     },
     "execution_count": 64,
     "metadata": {},
     "output_type": "execute_result"
    }
   ],
   "source": [
    "type(b)"
   ]
  },
  {
   "cell_type": "code",
   "execution_count": 62,
   "id": "2f4f9bbc",
   "metadata": {},
   "outputs": [
    {
     "data": {
      "text/plain": [
       "dtype('int32')"
      ]
     },
     "execution_count": 62,
     "metadata": {},
     "output_type": "execute_result"
    }
   ],
   "source": [
    "b.dtype"
   ]
  },
  {
   "cell_type": "markdown",
   "id": "cce18620",
   "metadata": {},
   "source": [
    "#### Creating array of zeros and ones"
   ]
  },
  {
   "cell_type": "code",
   "execution_count": 58,
   "id": "9179e78a",
   "metadata": {},
   "outputs": [
    {
     "data": {
      "text/plain": [
       "array([0., 0., 0., 0.])"
      ]
     },
     "execution_count": 58,
     "metadata": {},
     "output_type": "execute_result"
    }
   ],
   "source": [
    "np.zeros(4)"
   ]
  },
  {
   "cell_type": "code",
   "execution_count": 59,
   "id": "4e509f61",
   "metadata": {},
   "outputs": [
    {
     "data": {
      "text/plain": [
       "array([[0., 0., 0., 0.],\n",
       "       [0., 0., 0., 0.]])"
      ]
     },
     "execution_count": 59,
     "metadata": {},
     "output_type": "execute_result"
    }
   ],
   "source": [
    "np.zeros((2, 4))"
   ]
  },
  {
   "cell_type": "code",
   "execution_count": 60,
   "id": "c7fba66a",
   "metadata": {},
   "outputs": [
    {
     "data": {
      "text/plain": [
       "array([1., 1., 1., 1., 1.])"
      ]
     },
     "execution_count": 60,
     "metadata": {},
     "output_type": "execute_result"
    }
   ],
   "source": [
    "np.ones(5)"
   ]
  },
  {
   "cell_type": "code",
   "execution_count": null,
   "id": "23949175",
   "metadata": {},
   "outputs": [],
   "source": [
    "# 20 to 10 using arange"
   ]
  },
  {
   "cell_type": "code",
   "execution_count": 65,
   "id": "2ec597fc",
   "metadata": {},
   "outputs": [
    {
     "data": {
      "text/plain": [
       "array([20, 19, 18, 17, 16, 15, 14, 13, 12, 11, 10])"
      ]
     },
     "execution_count": 65,
     "metadata": {},
     "output_type": "execute_result"
    }
   ],
   "source": [
    "np.arange(20, 9, -1)"
   ]
  },
  {
   "cell_type": "code",
   "execution_count": 9,
   "id": "c6cc06a4",
   "metadata": {},
   "outputs": [],
   "source": [
    "# Another method\n",
    "# Reshape arrays"
   ]
  },
  {
   "cell_type": "code",
   "execution_count": 67,
   "id": "9fb0a2ee",
   "metadata": {},
   "outputs": [
    {
     "data": {
      "text/plain": [
       "array([[1, 2, 3, 4],\n",
       "       [5, 6, 7, 8]])"
      ]
     },
     "execution_count": 67,
     "metadata": {},
     "output_type": "execute_result"
    }
   ],
   "source": [
    "np.arange(1, 9).reshape(2, 4)"
   ]
  },
  {
   "cell_type": "code",
   "execution_count": 72,
   "id": "1bdd8c25",
   "metadata": {},
   "outputs": [
    {
     "data": {
      "text/plain": [
       "array([[1, 2, 3, 4],\n",
       "       [5, 6, 7, 8]])"
      ]
     },
     "execution_count": 72,
     "metadata": {},
     "output_type": "execute_result"
    }
   ],
   "source": [
    "np.arange(1, 9).reshape(-1, 4)"
   ]
  },
  {
   "cell_type": "code",
   "execution_count": null,
   "id": "43279470",
   "metadata": {},
   "outputs": [],
   "source": [
    "# Arithmetic operations"
   ]
  },
  {
   "cell_type": "code",
   "execution_count": 74,
   "id": "f26e9ad2",
   "metadata": {},
   "outputs": [
    {
     "data": {
      "text/plain": [
       "3.5833333333333335"
      ]
     },
     "execution_count": 74,
     "metadata": {},
     "output_type": "execute_result"
    }
   ],
   "source": [
    "b.mean()"
   ]
  },
  {
   "cell_type": "code",
   "execution_count": 75,
   "id": "7480814d",
   "metadata": {},
   "outputs": [
    {
     "data": {
      "text/plain": [
       "3.5833333333333335"
      ]
     },
     "execution_count": 75,
     "metadata": {},
     "output_type": "execute_result"
    }
   ],
   "source": [
    "np.mean(b)"
   ]
  },
  {
   "cell_type": "markdown",
   "id": "26e2c95b",
   "metadata": {},
   "source": [
    "### Pandas\n",
    "\n",
    "- An open-source library used for working with relational or labeled\n",
    "- Provides various data structures and operations for manipulating numerical data and time series, as well as cleaning and data processing tools\n",
    "- Supports two data structures:\n",
    "   - Series\n",
    "   - Dataframe"
   ]
  },
  {
   "cell_type": "code",
   "execution_count": 76,
   "id": "630ea390",
   "metadata": {},
   "outputs": [],
   "source": [
    "#### Pandas datastructures\n",
    "\n",
    "## Series\n",
    "# Creating series\n",
    "# append\n",
    "# drop\n",
    "import pandas as pd"
   ]
  },
  {
   "cell_type": "code",
   "execution_count": 85,
   "id": "8ad9ee1a",
   "metadata": {},
   "outputs": [
    {
     "data": {
      "text/plain": [
       "a     10\n",
       "b     20\n",
       "c    304\n",
       "d     60\n",
       "dtype: int64"
      ]
     },
     "execution_count": 85,
     "metadata": {},
     "output_type": "execute_result"
    }
   ],
   "source": [
    "a = pd.Series([10, 20, 304, 60], index=[\"a\", \"b\", \"c\", \"d\"])\n",
    "a"
   ]
  },
  {
   "cell_type": "code",
   "execution_count": 78,
   "id": "406eb487",
   "metadata": {},
   "outputs": [
    {
     "data": {
      "text/plain": [
       "pandas.core.series.Series"
      ]
     },
     "execution_count": 78,
     "metadata": {},
     "output_type": "execute_result"
    }
   ],
   "source": [
    "type(a)"
   ]
  },
  {
   "cell_type": "code",
   "execution_count": 79,
   "id": "602fb26f",
   "metadata": {},
   "outputs": [
    {
     "data": {
      "text/plain": [
       "dtype('int64')"
      ]
     },
     "execution_count": 79,
     "metadata": {},
     "output_type": "execute_result"
    }
   ],
   "source": [
    "a.dtype"
   ]
  },
  {
   "cell_type": "code",
   "execution_count": 82,
   "id": "4ade6b63",
   "metadata": {
    "scrolled": true
   },
   "outputs": [
    {
     "data": {
      "text/plain": [
       "a     10\n",
       "b     20\n",
       "c    304\n",
       "d     60\n",
       "k    100\n",
       "dtype: int64"
      ]
     },
     "execution_count": 82,
     "metadata": {},
     "output_type": "execute_result"
    }
   ],
   "source": [
    "a[\"k\"] = 100\n",
    "a"
   ]
  },
  {
   "cell_type": "code",
   "execution_count": 88,
   "id": "8d3c1d0a",
   "metadata": {
    "scrolled": true
   },
   "outputs": [
    {
     "data": {
      "text/plain": [
       "a     10\n",
       "b     20\n",
       "c    304\n",
       "d     60\n",
       "0      1\n",
       "1      2\n",
       "2      7\n",
       "dtype: int64"
      ]
     },
     "execution_count": 88,
     "metadata": {},
     "output_type": "execute_result"
    }
   ],
   "source": [
    "new = pd.Series([1, 2, 7])\n",
    "pd.concat([a, new])"
   ]
  },
  {
   "cell_type": "code",
   "execution_count": 90,
   "id": "b98dbb0a",
   "metadata": {},
   "outputs": [
    {
     "data": {
      "text/plain": [
       "a     10\n",
       "b     20\n",
       "c    304\n",
       "dtype: int64"
      ]
     },
     "execution_count": 90,
     "metadata": {},
     "output_type": "execute_result"
    }
   ],
   "source": [
    "a = a.drop(\"d\")\n",
    "a"
   ]
  },
  {
   "cell_type": "code",
   "execution_count": 91,
   "id": "b942c88a",
   "metadata": {},
   "outputs": [
    {
     "data": {
      "text/plain": [
       "a    10\n",
       "b    20\n",
       "dtype: int64"
      ]
     },
     "execution_count": 91,
     "metadata": {},
     "output_type": "execute_result"
    }
   ],
   "source": [
    "a.drop(\"c\", inplace=True)\n",
    "a"
   ]
  },
  {
   "cell_type": "code",
   "execution_count": null,
   "id": "0f6b057f",
   "metadata": {},
   "outputs": [],
   "source": [
    "### Dataframe from a dictionary of lists\n",
    "# iloc and loc"
   ]
  },
  {
   "cell_type": "code",
   "execution_count": 94,
   "id": "5a2928c7",
   "metadata": {},
   "outputs": [
    {
     "data": {
      "text/html": [
       "<div>\n",
       "<style scoped>\n",
       "    .dataframe tbody tr th:only-of-type {\n",
       "        vertical-align: middle;\n",
       "    }\n",
       "\n",
       "    .dataframe tbody tr th {\n",
       "        vertical-align: top;\n",
       "    }\n",
       "\n",
       "    .dataframe thead th {\n",
       "        text-align: right;\n",
       "    }\n",
       "</style>\n",
       "<table border=\"1\" class=\"dataframe\">\n",
       "  <thead>\n",
       "    <tr style=\"text-align: right;\">\n",
       "      <th></th>\n",
       "      <th>Items</th>\n",
       "      <th>Price</th>\n",
       "    </tr>\n",
       "  </thead>\n",
       "  <tbody>\n",
       "    <tr>\n",
       "      <th>q</th>\n",
       "      <td>a</td>\n",
       "      <td>100</td>\n",
       "    </tr>\n",
       "    <tr>\n",
       "      <th>w</th>\n",
       "      <td>b</td>\n",
       "      <td>200</td>\n",
       "    </tr>\n",
       "    <tr>\n",
       "      <th>e</th>\n",
       "      <td>c</td>\n",
       "      <td>300</td>\n",
       "    </tr>\n",
       "    <tr>\n",
       "      <th>r</th>\n",
       "      <td>d</td>\n",
       "      <td>400</td>\n",
       "    </tr>\n",
       "    <tr>\n",
       "      <th>t</th>\n",
       "      <td>e</td>\n",
       "      <td>500</td>\n",
       "    </tr>\n",
       "  </tbody>\n",
       "</table>\n",
       "</div>"
      ],
      "text/plain": [
       "  Items  Price\n",
       "q     a    100\n",
       "w     b    200\n",
       "e     c    300\n",
       "r     d    400\n",
       "t     e    500"
      ]
     },
     "execution_count": 94,
     "metadata": {},
     "output_type": "execute_result"
    }
   ],
   "source": [
    "df = pd.DataFrame(\n",
    "    {\"Items\": list(\"abcde\"), \"Price\": [100, 200, 300, 400, 500]}, index=list(\"qwert\")\n",
    ")\n",
    "df"
   ]
  },
  {
   "cell_type": "code",
   "execution_count": 95,
   "id": "3164e63d",
   "metadata": {},
   "outputs": [
    {
     "data": {
      "text/plain": [
       "q    100\n",
       "w    200\n",
       "e    300\n",
       "Name: Price, dtype: int64"
      ]
     },
     "execution_count": 95,
     "metadata": {},
     "output_type": "execute_result"
    }
   ],
   "source": [
    "# iloc -index based\n",
    "# loc-label based\n",
    "df.iloc[0:3, 1]"
   ]
  },
  {
   "cell_type": "code",
   "execution_count": 96,
   "id": "082fce6c",
   "metadata": {},
   "outputs": [
    {
     "data": {
      "text/html": [
       "<div>\n",
       "<style scoped>\n",
       "    .dataframe tbody tr th:only-of-type {\n",
       "        vertical-align: middle;\n",
       "    }\n",
       "\n",
       "    .dataframe tbody tr th {\n",
       "        vertical-align: top;\n",
       "    }\n",
       "\n",
       "    .dataframe thead th {\n",
       "        text-align: right;\n",
       "    }\n",
       "</style>\n",
       "<table border=\"1\" class=\"dataframe\">\n",
       "  <thead>\n",
       "    <tr style=\"text-align: right;\">\n",
       "      <th></th>\n",
       "      <th>Items</th>\n",
       "      <th>Price</th>\n",
       "    </tr>\n",
       "  </thead>\n",
       "  <tbody>\n",
       "    <tr>\n",
       "      <th>r</th>\n",
       "      <td>d</td>\n",
       "      <td>400</td>\n",
       "    </tr>\n",
       "    <tr>\n",
       "      <th>t</th>\n",
       "      <td>e</td>\n",
       "      <td>500</td>\n",
       "    </tr>\n",
       "  </tbody>\n",
       "</table>\n",
       "</div>"
      ],
      "text/plain": [
       "  Items  Price\n",
       "r     d    400\n",
       "t     e    500"
      ]
     },
     "execution_count": 96,
     "metadata": {},
     "output_type": "execute_result"
    }
   ],
   "source": [
    "df.iloc[3:, :]"
   ]
  },
  {
   "cell_type": "code",
   "execution_count": 98,
   "id": "f99ee8f3",
   "metadata": {},
   "outputs": [
    {
     "data": {
      "text/html": [
       "<div>\n",
       "<style scoped>\n",
       "    .dataframe tbody tr th:only-of-type {\n",
       "        vertical-align: middle;\n",
       "    }\n",
       "\n",
       "    .dataframe tbody tr th {\n",
       "        vertical-align: top;\n",
       "    }\n",
       "\n",
       "    .dataframe thead th {\n",
       "        text-align: right;\n",
       "    }\n",
       "</style>\n",
       "<table border=\"1\" class=\"dataframe\">\n",
       "  <thead>\n",
       "    <tr style=\"text-align: right;\">\n",
       "      <th></th>\n",
       "      <th>Price</th>\n",
       "    </tr>\n",
       "  </thead>\n",
       "  <tbody>\n",
       "    <tr>\n",
       "      <th>q</th>\n",
       "      <td>100</td>\n",
       "    </tr>\n",
       "    <tr>\n",
       "      <th>t</th>\n",
       "      <td>500</td>\n",
       "    </tr>\n",
       "  </tbody>\n",
       "</table>\n",
       "</div>"
      ],
      "text/plain": [
       "   Price\n",
       "q    100\n",
       "t    500"
      ]
     },
     "execution_count": 98,
     "metadata": {},
     "output_type": "execute_result"
    }
   ],
   "source": [
    "df.loc[[\"q\", \"t\"], [\"Price\"]]"
   ]
  },
  {
   "cell_type": "code",
   "execution_count": 99,
   "id": "98fd15b3",
   "metadata": {},
   "outputs": [
    {
     "data": {
      "text/plain": [
       "'D:\\\\B2B\\\\DELOITTE\\\\Webinar-Python'"
      ]
     },
     "execution_count": 99,
     "metadata": {},
     "output_type": "execute_result"
    }
   ],
   "source": [
    "import os\n",
    "\n",
    "os.getcwd()"
   ]
  },
  {
   "cell_type": "code",
   "execution_count": 100,
   "id": "6dad70ee",
   "metadata": {},
   "outputs": [],
   "source": [
    "df = pd.read_csv(\"audit.csv\")"
   ]
  },
  {
   "cell_type": "code",
   "execution_count": 101,
   "id": "0300d3ab",
   "metadata": {},
   "outputs": [
    {
     "data": {
      "text/html": [
       "<div>\n",
       "<style scoped>\n",
       "    .dataframe tbody tr th:only-of-type {\n",
       "        vertical-align: middle;\n",
       "    }\n",
       "\n",
       "    .dataframe tbody tr th {\n",
       "        vertical-align: top;\n",
       "    }\n",
       "\n",
       "    .dataframe thead th {\n",
       "        text-align: right;\n",
       "    }\n",
       "</style>\n",
       "<table border=\"1\" class=\"dataframe\">\n",
       "  <thead>\n",
       "    <tr style=\"text-align: right;\">\n",
       "      <th></th>\n",
       "      <th>ID</th>\n",
       "      <th>Age</th>\n",
       "      <th>Employment</th>\n",
       "      <th>Education</th>\n",
       "      <th>Marital</th>\n",
       "      <th>Occupation</th>\n",
       "      <th>Income</th>\n",
       "      <th>Gender</th>\n",
       "      <th>Deductions</th>\n",
       "      <th>Hours</th>\n",
       "    </tr>\n",
       "  </thead>\n",
       "  <tbody>\n",
       "    <tr>\n",
       "      <th>0</th>\n",
       "      <td>1004641</td>\n",
       "      <td>38</td>\n",
       "      <td>Private</td>\n",
       "      <td>College</td>\n",
       "      <td>Unmarried</td>\n",
       "      <td>Service</td>\n",
       "      <td>81838.00</td>\n",
       "      <td>Female</td>\n",
       "      <td>0.0</td>\n",
       "      <td>72</td>\n",
       "    </tr>\n",
       "    <tr>\n",
       "      <th>1</th>\n",
       "      <td>1010229</td>\n",
       "      <td>35</td>\n",
       "      <td>Private</td>\n",
       "      <td>Associate</td>\n",
       "      <td>Absent</td>\n",
       "      <td>Transport</td>\n",
       "      <td>72099.00</td>\n",
       "      <td>Male</td>\n",
       "      <td>0.0</td>\n",
       "      <td>30</td>\n",
       "    </tr>\n",
       "    <tr>\n",
       "      <th>2</th>\n",
       "      <td>1024587</td>\n",
       "      <td>32</td>\n",
       "      <td>Private</td>\n",
       "      <td>HSgrad</td>\n",
       "      <td>Divorced</td>\n",
       "      <td>Clerical</td>\n",
       "      <td>154676.74</td>\n",
       "      <td>Male</td>\n",
       "      <td>0.0</td>\n",
       "      <td>40</td>\n",
       "    </tr>\n",
       "    <tr>\n",
       "      <th>3</th>\n",
       "      <td>1038288</td>\n",
       "      <td>45</td>\n",
       "      <td>Private</td>\n",
       "      <td>Bachelor</td>\n",
       "      <td>Married</td>\n",
       "      <td>Repair</td>\n",
       "      <td>27743.82</td>\n",
       "      <td>Male</td>\n",
       "      <td>0.0</td>\n",
       "      <td>55</td>\n",
       "    </tr>\n",
       "    <tr>\n",
       "      <th>4</th>\n",
       "      <td>1044221</td>\n",
       "      <td>60</td>\n",
       "      <td>Private</td>\n",
       "      <td>College</td>\n",
       "      <td>Married</td>\n",
       "      <td>Executive</td>\n",
       "      <td>7568.23</td>\n",
       "      <td>Male</td>\n",
       "      <td>0.0</td>\n",
       "      <td>40</td>\n",
       "    </tr>\n",
       "  </tbody>\n",
       "</table>\n",
       "</div>"
      ],
      "text/plain": [
       "        ID  Age Employment  Education    Marital Occupation     Income  \\\n",
       "0  1004641   38    Private    College  Unmarried    Service   81838.00   \n",
       "1  1010229   35    Private  Associate     Absent  Transport   72099.00   \n",
       "2  1024587   32    Private     HSgrad   Divorced   Clerical  154676.74   \n",
       "3  1038288   45    Private   Bachelor    Married     Repair   27743.82   \n",
       "4  1044221   60    Private    College    Married  Executive    7568.23   \n",
       "\n",
       "   Gender  Deductions  Hours  \n",
       "0  Female         0.0     72  \n",
       "1    Male         0.0     30  \n",
       "2    Male         0.0     40  \n",
       "3    Male         0.0     55  \n",
       "4    Male         0.0     40  "
      ]
     },
     "execution_count": 101,
     "metadata": {},
     "output_type": "execute_result"
    }
   ],
   "source": [
    "df.head()"
   ]
  },
  {
   "cell_type": "code",
   "execution_count": 103,
   "id": "a0996db7",
   "metadata": {},
   "outputs": [
    {
     "data": {
      "text/html": [
       "<div>\n",
       "<style scoped>\n",
       "    .dataframe tbody tr th:only-of-type {\n",
       "        vertical-align: middle;\n",
       "    }\n",
       "\n",
       "    .dataframe tbody tr th {\n",
       "        vertical-align: top;\n",
       "    }\n",
       "\n",
       "    .dataframe thead th {\n",
       "        text-align: right;\n",
       "    }\n",
       "</style>\n",
       "<table border=\"1\" class=\"dataframe\">\n",
       "  <thead>\n",
       "    <tr style=\"text-align: right;\">\n",
       "      <th></th>\n",
       "      <th>ID</th>\n",
       "      <th>Age</th>\n",
       "      <th>Employment</th>\n",
       "      <th>Education</th>\n",
       "      <th>Marital</th>\n",
       "      <th>Occupation</th>\n",
       "      <th>Income</th>\n",
       "      <th>Gender</th>\n",
       "      <th>Deductions</th>\n",
       "      <th>Hours</th>\n",
       "    </tr>\n",
       "  </thead>\n",
       "  <tbody>\n",
       "    <tr>\n",
       "      <th>1998</th>\n",
       "      <td>9991103</td>\n",
       "      <td>34</td>\n",
       "      <td>Private</td>\n",
       "      <td>College</td>\n",
       "      <td>Unmarried</td>\n",
       "      <td>Sales</td>\n",
       "      <td>113425.67</td>\n",
       "      <td>Male</td>\n",
       "      <td>0.0</td>\n",
       "      <td>45</td>\n",
       "    </tr>\n",
       "    <tr>\n",
       "      <th>1999</th>\n",
       "      <td>9996101</td>\n",
       "      <td>26</td>\n",
       "      <td>Private</td>\n",
       "      <td>HSgrad</td>\n",
       "      <td>Absent</td>\n",
       "      <td>Clerical</td>\n",
       "      <td>139984.58</td>\n",
       "      <td>Female</td>\n",
       "      <td>0.0</td>\n",
       "      <td>35</td>\n",
       "    </tr>\n",
       "  </tbody>\n",
       "</table>\n",
       "</div>"
      ],
      "text/plain": [
       "           ID  Age Employment Education    Marital Occupation     Income  \\\n",
       "1998  9991103   34    Private   College  Unmarried      Sales  113425.67   \n",
       "1999  9996101   26    Private    HSgrad     Absent   Clerical  139984.58   \n",
       "\n",
       "      Gender  Deductions  Hours  \n",
       "1998    Male         0.0     45  \n",
       "1999  Female         0.0     35  "
      ]
     },
     "execution_count": 103,
     "metadata": {},
     "output_type": "execute_result"
    }
   ],
   "source": [
    "df.tail(2)"
   ]
  },
  {
   "cell_type": "code",
   "execution_count": 105,
   "id": "93fa4dcb",
   "metadata": {},
   "outputs": [
    {
     "data": {
      "text/plain": [
       "(2000, 10)"
      ]
     },
     "execution_count": 105,
     "metadata": {},
     "output_type": "execute_result"
    }
   ],
   "source": [
    "df.shape"
   ]
  },
  {
   "cell_type": "code",
   "execution_count": 106,
   "id": "c43ae48f",
   "metadata": {},
   "outputs": [
    {
     "data": {
      "text/plain": [
       "2000"
      ]
     },
     "execution_count": 106,
     "metadata": {},
     "output_type": "execute_result"
    }
   ],
   "source": [
    "df.shape[0]"
   ]
  },
  {
   "cell_type": "code",
   "execution_count": 107,
   "id": "d8e2de0c",
   "metadata": {},
   "outputs": [
    {
     "name": "stdout",
     "output_type": "stream",
     "text": [
      "<class 'pandas.core.frame.DataFrame'>\n",
      "RangeIndex: 2000 entries, 0 to 1999\n",
      "Data columns (total 10 columns):\n",
      " #   Column      Non-Null Count  Dtype  \n",
      "---  ------      --------------  -----  \n",
      " 0   ID          2000 non-null   int64  \n",
      " 1   Age         2000 non-null   int64  \n",
      " 2   Employment  1900 non-null   object \n",
      " 3   Education   2000 non-null   object \n",
      " 4   Marital     2000 non-null   object \n",
      " 5   Occupation  1899 non-null   object \n",
      " 6   Income      2000 non-null   float64\n",
      " 7   Gender      2000 non-null   object \n",
      " 8   Deductions  2000 non-null   float64\n",
      " 9   Hours       2000 non-null   int64  \n",
      "dtypes: float64(2), int64(3), object(5)\n",
      "memory usage: 156.4+ KB\n"
     ]
    }
   ],
   "source": [
    "df.info()"
   ]
  },
  {
   "cell_type": "code",
   "execution_count": 109,
   "id": "f72fef0a",
   "metadata": {},
   "outputs": [
    {
     "data": {
      "text/plain": [
       "ID              int64\n",
       "Age             int64\n",
       "Employment     object\n",
       "Education      object\n",
       "Marital        object\n",
       "Occupation     object\n",
       "Income        float64\n",
       "Gender         object\n",
       "Deductions    float64\n",
       "Hours           int64\n",
       "dtype: object"
      ]
     },
     "execution_count": 109,
     "metadata": {},
     "output_type": "execute_result"
    }
   ],
   "source": [
    "df.dtypes"
   ]
  },
  {
   "cell_type": "code",
   "execution_count": 108,
   "id": "576d13e8",
   "metadata": {},
   "outputs": [
    {
     "data": {
      "text/plain": [
       "ID              0\n",
       "Age             0\n",
       "Employment    100\n",
       "Education       0\n",
       "Marital         0\n",
       "Occupation    101\n",
       "Income          0\n",
       "Gender          0\n",
       "Deductions      0\n",
       "Hours           0\n",
       "dtype: int64"
      ]
     },
     "execution_count": 108,
     "metadata": {},
     "output_type": "execute_result"
    }
   ],
   "source": [
    "df.isnull().sum()"
   ]
  },
  {
   "cell_type": "code",
   "execution_count": 110,
   "id": "3d2014f3",
   "metadata": {},
   "outputs": [
    {
     "data": {
      "text/html": [
       "<div>\n",
       "<style scoped>\n",
       "    .dataframe tbody tr th:only-of-type {\n",
       "        vertical-align: middle;\n",
       "    }\n",
       "\n",
       "    .dataframe tbody tr th {\n",
       "        vertical-align: top;\n",
       "    }\n",
       "\n",
       "    .dataframe thead th {\n",
       "        text-align: right;\n",
       "    }\n",
       "</style>\n",
       "<table border=\"1\" class=\"dataframe\">\n",
       "  <thead>\n",
       "    <tr style=\"text-align: right;\">\n",
       "      <th></th>\n",
       "      <th>ID</th>\n",
       "      <th>Age</th>\n",
       "      <th>Income</th>\n",
       "      <th>Deductions</th>\n",
       "      <th>Hours</th>\n",
       "    </tr>\n",
       "  </thead>\n",
       "  <tbody>\n",
       "    <tr>\n",
       "      <th>count</th>\n",
       "      <td>2.000000e+03</td>\n",
       "      <td>2000.000000</td>\n",
       "      <td>2000.000000</td>\n",
       "      <td>2000.000000</td>\n",
       "      <td>2000.000000</td>\n",
       "    </tr>\n",
       "    <tr>\n",
       "      <th>mean</th>\n",
       "      <td>5.624348e+06</td>\n",
       "      <td>38.622000</td>\n",
       "      <td>84688.460045</td>\n",
       "      <td>67.568333</td>\n",
       "      <td>40.074500</td>\n",
       "    </tr>\n",
       "    <tr>\n",
       "      <th>std</th>\n",
       "      <td>2.581118e+06</td>\n",
       "      <td>13.584748</td>\n",
       "      <td>69621.644503</td>\n",
       "      <td>340.704705</td>\n",
       "      <td>12.153716</td>\n",
       "    </tr>\n",
       "    <tr>\n",
       "      <th>min</th>\n",
       "      <td>1.004641e+06</td>\n",
       "      <td>17.000000</td>\n",
       "      <td>609.720000</td>\n",
       "      <td>0.000000</td>\n",
       "      <td>1.000000</td>\n",
       "    </tr>\n",
       "    <tr>\n",
       "      <th>25%</th>\n",
       "      <td>3.437052e+06</td>\n",
       "      <td>28.000000</td>\n",
       "      <td>34433.117500</td>\n",
       "      <td>0.000000</td>\n",
       "      <td>38.000000</td>\n",
       "    </tr>\n",
       "    <tr>\n",
       "      <th>50%</th>\n",
       "      <td>5.638451e+06</td>\n",
       "      <td>37.000000</td>\n",
       "      <td>59768.950000</td>\n",
       "      <td>0.000000</td>\n",
       "      <td>40.000000</td>\n",
       "    </tr>\n",
       "    <tr>\n",
       "      <th>75%</th>\n",
       "      <td>7.876535e+06</td>\n",
       "      <td>48.000000</td>\n",
       "      <td>113842.897500</td>\n",
       "      <td>0.000000</td>\n",
       "      <td>45.000000</td>\n",
       "    </tr>\n",
       "    <tr>\n",
       "      <th>max</th>\n",
       "      <td>9.996101e+06</td>\n",
       "      <td>90.000000</td>\n",
       "      <td>481259.500000</td>\n",
       "      <td>2904.000000</td>\n",
       "      <td>99.000000</td>\n",
       "    </tr>\n",
       "  </tbody>\n",
       "</table>\n",
       "</div>"
      ],
      "text/plain": [
       "                 ID          Age         Income   Deductions        Hours\n",
       "count  2.000000e+03  2000.000000    2000.000000  2000.000000  2000.000000\n",
       "mean   5.624348e+06    38.622000   84688.460045    67.568333    40.074500\n",
       "std    2.581118e+06    13.584748   69621.644503   340.704705    12.153716\n",
       "min    1.004641e+06    17.000000     609.720000     0.000000     1.000000\n",
       "25%    3.437052e+06    28.000000   34433.117500     0.000000    38.000000\n",
       "50%    5.638451e+06    37.000000   59768.950000     0.000000    40.000000\n",
       "75%    7.876535e+06    48.000000  113842.897500     0.000000    45.000000\n",
       "max    9.996101e+06    90.000000  481259.500000  2904.000000    99.000000"
      ]
     },
     "execution_count": 110,
     "metadata": {},
     "output_type": "execute_result"
    }
   ],
   "source": [
    "df.describe()"
   ]
  },
  {
   "cell_type": "code",
   "execution_count": 111,
   "id": "c6d37a2b",
   "metadata": {},
   "outputs": [
    {
     "data": {
      "text/html": [
       "<div>\n",
       "<style scoped>\n",
       "    .dataframe tbody tr th:only-of-type {\n",
       "        vertical-align: middle;\n",
       "    }\n",
       "\n",
       "    .dataframe tbody tr th {\n",
       "        vertical-align: top;\n",
       "    }\n",
       "\n",
       "    .dataframe thead th {\n",
       "        text-align: right;\n",
       "    }\n",
       "</style>\n",
       "<table border=\"1\" class=\"dataframe\">\n",
       "  <thead>\n",
       "    <tr style=\"text-align: right;\">\n",
       "      <th></th>\n",
       "      <th>Employment</th>\n",
       "      <th>Education</th>\n",
       "      <th>Marital</th>\n",
       "      <th>Occupation</th>\n",
       "      <th>Gender</th>\n",
       "    </tr>\n",
       "  </thead>\n",
       "  <tbody>\n",
       "    <tr>\n",
       "      <th>count</th>\n",
       "      <td>1900</td>\n",
       "      <td>2000</td>\n",
       "      <td>2000</td>\n",
       "      <td>1899</td>\n",
       "      <td>2000</td>\n",
       "    </tr>\n",
       "    <tr>\n",
       "      <th>unique</th>\n",
       "      <td>8</td>\n",
       "      <td>16</td>\n",
       "      <td>6</td>\n",
       "      <td>14</td>\n",
       "      <td>2</td>\n",
       "    </tr>\n",
       "    <tr>\n",
       "      <th>top</th>\n",
       "      <td>Private</td>\n",
       "      <td>HSgrad</td>\n",
       "      <td>Married</td>\n",
       "      <td>Executive</td>\n",
       "      <td>Male</td>\n",
       "    </tr>\n",
       "    <tr>\n",
       "      <th>freq</th>\n",
       "      <td>1411</td>\n",
       "      <td>660</td>\n",
       "      <td>917</td>\n",
       "      <td>289</td>\n",
       "      <td>1368</td>\n",
       "    </tr>\n",
       "  </tbody>\n",
       "</table>\n",
       "</div>"
      ],
      "text/plain": [
       "       Employment Education  Marital Occupation Gender\n",
       "count        1900      2000     2000       1899   2000\n",
       "unique          8        16        6         14      2\n",
       "top       Private    HSgrad  Married  Executive   Male\n",
       "freq         1411       660      917        289   1368"
      ]
     },
     "execution_count": 111,
     "metadata": {},
     "output_type": "execute_result"
    }
   ],
   "source": [
    "df.describe(include=\"object\")"
   ]
  },
  {
   "cell_type": "code",
   "execution_count": 112,
   "id": "f5657291",
   "metadata": {},
   "outputs": [
    {
     "data": {
      "text/plain": [
       "Private       1411\n",
       "Consultant     148\n",
       "PSLocal        119\n",
       "SelfEmp         79\n",
       "PSState         72\n",
       "PSFederal       69\n",
       "Unemployed       1\n",
       "Volunteer        1\n",
       "Name: Employment, dtype: int64"
      ]
     },
     "execution_count": 112,
     "metadata": {},
     "output_type": "execute_result"
    }
   ],
   "source": [
    "df[\"Employment\"].value_counts()"
   ]
  },
  {
   "cell_type": "code",
   "execution_count": 113,
   "id": "bb5bf3ed",
   "metadata": {},
   "outputs": [
    {
     "data": {
      "text/html": [
       "<div>\n",
       "<style scoped>\n",
       "    .dataframe tbody tr th:only-of-type {\n",
       "        vertical-align: middle;\n",
       "    }\n",
       "\n",
       "    .dataframe tbody tr th {\n",
       "        vertical-align: top;\n",
       "    }\n",
       "\n",
       "    .dataframe thead th {\n",
       "        text-align: right;\n",
       "    }\n",
       "</style>\n",
       "<table border=\"1\" class=\"dataframe\">\n",
       "  <thead>\n",
       "    <tr style=\"text-align: right;\">\n",
       "      <th></th>\n",
       "      <th>Employment</th>\n",
       "      <th>Education</th>\n",
       "    </tr>\n",
       "  </thead>\n",
       "  <tbody>\n",
       "    <tr>\n",
       "      <th>0</th>\n",
       "      <td>Private</td>\n",
       "      <td>College</td>\n",
       "    </tr>\n",
       "    <tr>\n",
       "      <th>1</th>\n",
       "      <td>Private</td>\n",
       "      <td>Associate</td>\n",
       "    </tr>\n",
       "    <tr>\n",
       "      <th>2</th>\n",
       "      <td>Private</td>\n",
       "      <td>HSgrad</td>\n",
       "    </tr>\n",
       "    <tr>\n",
       "      <th>3</th>\n",
       "      <td>Private</td>\n",
       "      <td>Bachelor</td>\n",
       "    </tr>\n",
       "    <tr>\n",
       "      <th>4</th>\n",
       "      <td>Private</td>\n",
       "      <td>College</td>\n",
       "    </tr>\n",
       "    <tr>\n",
       "      <th>...</th>\n",
       "      <td>...</td>\n",
       "      <td>...</td>\n",
       "    </tr>\n",
       "    <tr>\n",
       "      <th>1995</th>\n",
       "      <td>Private</td>\n",
       "      <td>HSgrad</td>\n",
       "    </tr>\n",
       "    <tr>\n",
       "      <th>1996</th>\n",
       "      <td>Consultant</td>\n",
       "      <td>Associate</td>\n",
       "    </tr>\n",
       "    <tr>\n",
       "      <th>1997</th>\n",
       "      <td>Private</td>\n",
       "      <td>Bachelor</td>\n",
       "    </tr>\n",
       "    <tr>\n",
       "      <th>1998</th>\n",
       "      <td>Private</td>\n",
       "      <td>College</td>\n",
       "    </tr>\n",
       "    <tr>\n",
       "      <th>1999</th>\n",
       "      <td>Private</td>\n",
       "      <td>HSgrad</td>\n",
       "    </tr>\n",
       "  </tbody>\n",
       "</table>\n",
       "<p>2000 rows × 2 columns</p>\n",
       "</div>"
      ],
      "text/plain": [
       "      Employment  Education\n",
       "0        Private    College\n",
       "1        Private  Associate\n",
       "2        Private     HSgrad\n",
       "3        Private   Bachelor\n",
       "4        Private    College\n",
       "...          ...        ...\n",
       "1995     Private     HSgrad\n",
       "1996  Consultant  Associate\n",
       "1997     Private   Bachelor\n",
       "1998     Private    College\n",
       "1999     Private     HSgrad\n",
       "\n",
       "[2000 rows x 2 columns]"
      ]
     },
     "execution_count": 113,
     "metadata": {},
     "output_type": "execute_result"
    }
   ],
   "source": [
    "df[[\"Employment\", \"Education\"]]"
   ]
  },
  {
   "cell_type": "code",
   "execution_count": 117,
   "id": "7a7d6a57",
   "metadata": {},
   "outputs": [],
   "source": [
    "df[\"Age\"] = df[\"Age\"].astype(\"float\")"
   ]
  },
  {
   "cell_type": "code",
   "execution_count": 118,
   "id": "401b1199",
   "metadata": {},
   "outputs": [
    {
     "data": {
      "text/plain": [
       "ID              int64\n",
       "Age           float64\n",
       "Employment     object\n",
       "Education      object\n",
       "Marital        object\n",
       "Occupation     object\n",
       "Income        float64\n",
       "Gender         object\n",
       "Deductions    float64\n",
       "Hours           int64\n",
       "dtype: object"
      ]
     },
     "execution_count": 118,
     "metadata": {},
     "output_type": "execute_result"
    }
   ],
   "source": [
    "df.dtypes"
   ]
  },
  {
   "cell_type": "code",
   "execution_count": 121,
   "id": "e4781681",
   "metadata": {},
   "outputs": [],
   "source": [
    "df.drop(columns=\"ID\", inplace=True)"
   ]
  },
  {
   "cell_type": "code",
   "execution_count": 122,
   "id": "b76f371c",
   "metadata": {},
   "outputs": [
    {
     "data": {
      "text/html": [
       "<div>\n",
       "<style scoped>\n",
       "    .dataframe tbody tr th:only-of-type {\n",
       "        vertical-align: middle;\n",
       "    }\n",
       "\n",
       "    .dataframe tbody tr th {\n",
       "        vertical-align: top;\n",
       "    }\n",
       "\n",
       "    .dataframe thead th {\n",
       "        text-align: right;\n",
       "    }\n",
       "</style>\n",
       "<table border=\"1\" class=\"dataframe\">\n",
       "  <thead>\n",
       "    <tr style=\"text-align: right;\">\n",
       "      <th></th>\n",
       "      <th>Age</th>\n",
       "      <th>Employment</th>\n",
       "      <th>Education</th>\n",
       "      <th>Marital</th>\n",
       "      <th>Occupation</th>\n",
       "      <th>Income</th>\n",
       "      <th>Gender</th>\n",
       "      <th>Deductions</th>\n",
       "      <th>Hours</th>\n",
       "    </tr>\n",
       "  </thead>\n",
       "  <tbody>\n",
       "    <tr>\n",
       "      <th>0</th>\n",
       "      <td>38.0</td>\n",
       "      <td>Private</td>\n",
       "      <td>College</td>\n",
       "      <td>Unmarried</td>\n",
       "      <td>Service</td>\n",
       "      <td>81838.0</td>\n",
       "      <td>Female</td>\n",
       "      <td>0.0</td>\n",
       "      <td>72</td>\n",
       "    </tr>\n",
       "    <tr>\n",
       "      <th>1</th>\n",
       "      <td>35.0</td>\n",
       "      <td>Private</td>\n",
       "      <td>Associate</td>\n",
       "      <td>Absent</td>\n",
       "      <td>Transport</td>\n",
       "      <td>72099.0</td>\n",
       "      <td>Male</td>\n",
       "      <td>0.0</td>\n",
       "      <td>30</td>\n",
       "    </tr>\n",
       "  </tbody>\n",
       "</table>\n",
       "</div>"
      ],
      "text/plain": [
       "    Age Employment  Education    Marital Occupation   Income  Gender  \\\n",
       "0  38.0    Private    College  Unmarried    Service  81838.0  Female   \n",
       "1  35.0    Private  Associate     Absent  Transport  72099.0    Male   \n",
       "\n",
       "   Deductions  Hours  \n",
       "0         0.0     72  \n",
       "1         0.0     30  "
      ]
     },
     "execution_count": 122,
     "metadata": {},
     "output_type": "execute_result"
    }
   ],
   "source": [
    "df.head(2)"
   ]
  },
  {
   "cell_type": "code",
   "execution_count": 127,
   "id": "22c8912f",
   "metadata": {},
   "outputs": [
    {
     "data": {
      "text/html": [
       "<div>\n",
       "<style scoped>\n",
       "    .dataframe tbody tr th:only-of-type {\n",
       "        vertical-align: middle;\n",
       "    }\n",
       "\n",
       "    .dataframe tbody tr th {\n",
       "        vertical-align: top;\n",
       "    }\n",
       "\n",
       "    .dataframe thead th {\n",
       "        text-align: right;\n",
       "    }\n",
       "</style>\n",
       "<table border=\"1\" class=\"dataframe\">\n",
       "  <thead>\n",
       "    <tr style=\"text-align: right;\">\n",
       "      <th></th>\n",
       "      <th>Income</th>\n",
       "      <th>Age</th>\n",
       "    </tr>\n",
       "    <tr>\n",
       "      <th>Occupation</th>\n",
       "      <th></th>\n",
       "      <th></th>\n",
       "    </tr>\n",
       "  </thead>\n",
       "  <tbody>\n",
       "    <tr>\n",
       "      <th>Cleaner</th>\n",
       "      <td>99215.863626</td>\n",
       "      <td>70.0</td>\n",
       "    </tr>\n",
       "    <tr>\n",
       "      <th>Clerical</th>\n",
       "      <td>115569.382112</td>\n",
       "      <td>75.0</td>\n",
       "    </tr>\n",
       "    <tr>\n",
       "      <th>Executive</th>\n",
       "      <td>66151.717405</td>\n",
       "      <td>81.0</td>\n",
       "    </tr>\n",
       "    <tr>\n",
       "      <th>Farming</th>\n",
       "      <td>81638.138448</td>\n",
       "      <td>69.0</td>\n",
       "    </tr>\n",
       "    <tr>\n",
       "      <th>Home</th>\n",
       "      <td>119096.842000</td>\n",
       "      <td>48.0</td>\n",
       "    </tr>\n",
       "    <tr>\n",
       "      <th>Machinist</th>\n",
       "      <td>90908.712734</td>\n",
       "      <td>69.0</td>\n",
       "    </tr>\n",
       "    <tr>\n",
       "      <th>Military</th>\n",
       "      <td>104833.650000</td>\n",
       "      <td>23.0</td>\n",
       "    </tr>\n",
       "    <tr>\n",
       "      <th>Professional</th>\n",
       "      <td>81157.084858</td>\n",
       "      <td>76.0</td>\n",
       "    </tr>\n",
       "    <tr>\n",
       "      <th>Protective</th>\n",
       "      <td>68562.508500</td>\n",
       "      <td>83.0</td>\n",
       "    </tr>\n",
       "    <tr>\n",
       "      <th>Repair</th>\n",
       "      <td>61449.191822</td>\n",
       "      <td>68.0</td>\n",
       "    </tr>\n",
       "    <tr>\n",
       "      <th>Sales</th>\n",
       "      <td>86910.444563</td>\n",
       "      <td>79.0</td>\n",
       "    </tr>\n",
       "    <tr>\n",
       "      <th>Service</th>\n",
       "      <td>105971.928905</td>\n",
       "      <td>82.0</td>\n",
       "    </tr>\n",
       "    <tr>\n",
       "      <th>Support</th>\n",
       "      <td>85818.843673</td>\n",
       "      <td>66.0</td>\n",
       "    </tr>\n",
       "    <tr>\n",
       "      <th>Transport</th>\n",
       "      <td>58667.976355</td>\n",
       "      <td>70.0</td>\n",
       "    </tr>\n",
       "  </tbody>\n",
       "</table>\n",
       "</div>"
      ],
      "text/plain": [
       "                     Income   Age\n",
       "Occupation                       \n",
       "Cleaner        99215.863626  70.0\n",
       "Clerical      115569.382112  75.0\n",
       "Executive      66151.717405  81.0\n",
       "Farming        81638.138448  69.0\n",
       "Home          119096.842000  48.0\n",
       "Machinist      90908.712734  69.0\n",
       "Military      104833.650000  23.0\n",
       "Professional   81157.084858  76.0\n",
       "Protective     68562.508500  83.0\n",
       "Repair         61449.191822  68.0\n",
       "Sales          86910.444563  79.0\n",
       "Service       105971.928905  82.0\n",
       "Support        85818.843673  66.0\n",
       "Transport      58667.976355  70.0"
      ]
     },
     "execution_count": 127,
     "metadata": {},
     "output_type": "execute_result"
    }
   ],
   "source": [
    "df.groupby(\"Occupation\").agg({\"Income\": np.mean, \"Age\": \"max\"})"
   ]
  },
  {
   "cell_type": "code",
   "execution_count": 126,
   "id": "5f0e3673",
   "metadata": {},
   "outputs": [
    {
     "data": {
      "text/plain": [
       "Occupation\n",
       "Cleaner          99215.863626\n",
       "Clerical        115569.382112\n",
       "Executive        66151.717405\n",
       "Farming          81638.138448\n",
       "Home            119096.842000\n",
       "Machinist        90908.712734\n",
       "Military        104833.650000\n",
       "Professional     81157.084858\n",
       "Protective       68562.508500\n",
       "Repair           61449.191822\n",
       "Sales            86910.444563\n",
       "Service         105971.928905\n",
       "Support          85818.843673\n",
       "Transport        58667.976355\n",
       "Name: Income, dtype: float64"
      ]
     },
     "execution_count": 126,
     "metadata": {},
     "output_type": "execute_result"
    }
   ],
   "source": [
    "df.groupby(\"Occupation\")[\"Income\"].mean()"
   ]
  },
  {
   "cell_type": "code",
   "execution_count": null,
   "id": "bb0b0251",
   "metadata": {},
   "outputs": [],
   "source": []
  }
 ],
 "metadata": {
  "colab": {
   "name": "IBM_Feb_22.ipynb",
   "provenance": []
  },
  "kernelspec": {
   "display_name": "Python 3 (ipykernel)",
   "language": "python",
   "name": "python3"
  },
  "language_info": {
   "codemirror_mode": {
    "name": "ipython",
    "version": 3
   },
   "file_extension": ".py",
   "mimetype": "text/x-python",
   "name": "python",
   "nbconvert_exporter": "python",
   "pygments_lexer": "ipython3",
   "version": "3.9.12"
  }
 },
 "nbformat": 4,
 "nbformat_minor": 5
}
